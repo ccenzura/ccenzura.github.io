{
 "cells": [
  {
   "cell_type": "markdown",
   "metadata": {},
   "source": [
    "# Tupes (pl. *krotki*)\n",
    "+ date: 2017-11-21\n",
    "+ category: python\n",
    "+ tags: python, tuple"
   ]
  },
  {
   "cell_type": "markdown",
   "metadata": {},
   "source": [
    "W Pythonie tuples są bardzo podobne do list, jednak w przeciwieństwie do list są *niemutowalne* co oznacza, że nie można ich zmienić. Możesz użyć tuples do przechowywania obiektów, które nie powinny zostać zmienione, takich jak dni tygodnia lub daty w kalendarzu.\n",
    "\n",
    "W tej sekcji otrzymamy krótki przegląd:\n",
    "\n",
    "     1.) Konstruowanie tuples\n",
    "     2.) Podstawowe metody tuples\n",
    "     3.) Niemutowalność\n",
    "     4.) Kiedy używać tuples\n",
    "\n",
    "Praca z tuples będzie wyglądała znajomo, będziesz mógł wykorzystać to, czego dowiedziałeś się o listach. Możemy traktować je bardzo podobnie z jedną bardzo istotną różnicą polegającą na tym, że krotki są niemutowalne.\n",
    "\n",
    "## Konstruowanie tuples\n",
    "\n",
    "Do kontrukcji tuples używa się ( ) a elementy wewnątrz rozdziela się przecinkami. Przykład poniżej:"
   ]
  },
  {
   "cell_type": "code",
   "execution_count": 1,
   "metadata": {
    "collapsed": true
   },
   "outputs": [],
   "source": [
    "# Kontruowanie tuple\n",
    "t = (1,2,3)"
   ]
  },
  {
   "cell_type": "code",
   "execution_count": 2,
   "metadata": {},
   "outputs": [
    {
     "data": {
      "text/plain": [
       "3"
      ]
     },
     "execution_count": 2,
     "metadata": {},
     "output_type": "execute_result"
    }
   ],
   "source": [
    "# Sprawdź liczbę obiektów, tak samo jak w listach\n",
    "len(t)"
   ]
  },
  {
   "cell_type": "code",
   "execution_count": 4,
   "metadata": {},
   "outputs": [
    {
     "data": {
      "text/plain": [
       "('jeden', 2)"
      ]
     },
     "execution_count": 4,
     "metadata": {},
     "output_type": "execute_result"
    }
   ],
   "source": [
    "# Tuple może przechowywać różne typy danych \n",
    "t = ('jeden',2)\n",
    "\n",
    "# Wyświetl\n",
    "t"
   ]
  },
  {
   "cell_type": "code",
   "execution_count": 5,
   "metadata": {},
   "outputs": [
    {
     "data": {
      "text/plain": [
       "'jeden'"
      ]
     },
     "execution_count": 5,
     "metadata": {},
     "output_type": "execute_result"
    }
   ],
   "source": [
    "# Można stosować indeksowanie tak jak w przypadku list\n",
    "t[0]"
   ]
  },
  {
   "cell_type": "code",
   "execution_count": 6,
   "metadata": {},
   "outputs": [
    {
     "data": {
      "text/plain": [
       "2"
      ]
     },
     "execution_count": 6,
     "metadata": {},
     "output_type": "execute_result"
    }
   ],
   "source": [
    "# Krojenie tuples działa tak samo jak w przypadku list\n",
    "t[-1]"
   ]
  },
  {
   "cell_type": "markdown",
   "metadata": {},
   "source": [
    "## Podstawowe metody tuples\n",
    "\n",
    "Tuples mają wbudowane metody, lecz nie tak dużo jak listy. Poniżej dwie z nich:"
   ]
  },
  {
   "cell_type": "code",
   "execution_count": 8,
   "metadata": {},
   "outputs": [
    {
     "data": {
      "text/plain": [
       "0"
      ]
     },
     "execution_count": 8,
     "metadata": {},
     "output_type": "execute_result"
    }
   ],
   "source": [
    "# Użyj .index('wartość') a metoda zwróci indeks 'wartość' \n",
    "t.index('jeden')"
   ]
  },
  {
   "cell_type": "code",
   "execution_count": 9,
   "metadata": {},
   "outputs": [
    {
     "data": {
      "text/plain": [
       "1"
      ]
     },
     "execution_count": 9,
     "metadata": {},
     "output_type": "execute_result"
    }
   ],
   "source": [
    "# Użyj .count('wartość') aby policzyć ile razy występuje 'wartość'\n",
    "t.count('jeden')"
   ]
  },
  {
   "cell_type": "markdown",
   "metadata": {},
   "source": [
    "## Niemutowalność\n",
    "\n",
    "Podkreślam to abyś zapamiętał, poniższe przykłady powinny to ułatwić:"
   ]
  },
  {
   "cell_type": "code",
   "execution_count": 10,
   "metadata": {},
   "outputs": [
    {
     "ename": "TypeError",
     "evalue": "'tuple' object does not support item assignment",
     "output_type": "error",
     "traceback": [
      "\u001b[0;31m---------------------------------------------------------------------------\u001b[0m",
      "\u001b[0;31mTypeError\u001b[0m                                 Traceback (most recent call last)",
      "\u001b[0;32m<ipython-input-10-93def5f9b4bd>\u001b[0m in \u001b[0;36m<module>\u001b[0;34m()\u001b[0m\n\u001b[0;32m----> 1\u001b[0;31m \u001b[0mt\u001b[0m\u001b[0;34m[\u001b[0m\u001b[0;36m0\u001b[0m\u001b[0;34m]\u001b[0m\u001b[0;34m=\u001b[0m \u001b[0;34m'change'\u001b[0m\u001b[0;34m\u001b[0m\u001b[0m\n\u001b[0m",
      "\u001b[0;31mTypeError\u001b[0m: 'tuple' object does not support item assignment"
     ]
    }
   ],
   "source": [
    "t[0]= 'change'"
   ]
  },
  {
   "cell_type": "markdown",
   "metadata": {},
   "source": [
    "Z powodu niemutiwalności, tuples nie mogę się powiększać. Do raz stworzonej tupli nie można nic dodać."
   ]
  },
  {
   "cell_type": "code",
   "execution_count": 11,
   "metadata": {},
   "outputs": [
    {
     "ename": "AttributeError",
     "evalue": "'tuple' object has no attribute 'append'",
     "output_type": "error",
     "traceback": [
      "\u001b[0;31m---------------------------------------------------------------------------\u001b[0m",
      "\u001b[0;31mAttributeError\u001b[0m                            Traceback (most recent call last)",
      "\u001b[0;32m<ipython-input-11-799b3447c4d9>\u001b[0m in \u001b[0;36m<module>\u001b[0;34m()\u001b[0m\n\u001b[0;32m----> 1\u001b[0;31m \u001b[0mt\u001b[0m\u001b[0;34m.\u001b[0m\u001b[0mappend\u001b[0m\u001b[0;34m(\u001b[0m\u001b[0;34m'nope'\u001b[0m\u001b[0;34m)\u001b[0m\u001b[0;34m\u001b[0m\u001b[0m\n\u001b[0m",
      "\u001b[0;31mAttributeError\u001b[0m: 'tuple' object has no attribute 'append'"
     ]
    }
   ],
   "source": [
    "t.append('nope')"
   ]
  },
  {
   "cell_type": "markdown",
   "metadata": {},
   "source": [
    "## Kiedy używać tuples\n",
    "\n",
    "Możesz się zastanawiać po co używać tupli skoto mają dostępnych tylko kilka metod? Prawdę mówiąc, tuples nie są tak często używane jak listy, ale są stosowane gdy niemutowalność jest konieczna. Kiedy stworzony przez Ciebie program zacznie dziąłać i chcesz być pewien, że Twój obiekt nie ulegnie zmianie to stosuj tuples. Tuples zapewniają bezpieczną integralność danych.\n",
    "\n",
    "Teraz powinieneś już wiedzieć jak tworzyć i używać typles podczas programowania, tak samo jak powinieneś rozumieć ich niemutowalność."
   ]
  },
  {
   "cell_type": "markdown",
   "metadata": {},
   "source": [
    "## Next Files (pl. *pliki*)"
   ]
  }
 ],
 "metadata": {
  "kernelspec": {
   "display_name": "Python 2",
   "language": "python",
   "name": "python2"
  },
  "language_info": {
   "codemirror_mode": {
    "name": "ipython",
    "version": 2
   },
   "file_extension": ".py",
   "mimetype": "text/x-python",
   "name": "python",
   "nbconvert_exporter": "python",
   "pygments_lexer": "ipython2",
   "version": "2.7.14"
  }
 },
 "nbformat": 4,
 "nbformat_minor": 1
}
