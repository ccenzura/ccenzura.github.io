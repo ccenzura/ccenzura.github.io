{
 "cells": [
  {
   "cell_type": "markdown",
   "metadata": {},
   "source": [
    "# Regular Expressions (pl. wyrażenia regularne)\n",
    "+ date: 2018-01-29\n",
    "+ category: python\n",
    "+ tags: regular expressions, regular, expressions"
   ]
  },
  {
   "cell_type": "markdown",
   "metadata": {},
   "source": [
    "Wyrażenia regularne to wzorce pasujące do tekstu opisane za pomocą formalnej składni. W rozmowach zapewne często słyszałeś wyrażenia regularne, nazywane \"regex\" lub \"regexp\". Wyrażenia regularne mogą zawierać wiele reguł, od znalezienia powtórzeń po dopasowywania tekstu i wiele więcej. Wraz z postępem w Pythonie zobaczysz, że wiele problemów z parsowaniem można rozwiązać za pomocą wyrażeń regularnych (są to również zwykłe pytania dotyczące rozmowy o pracę!).\n",
    "\n",
    "\n",
    "Jeśli znasz Perl, zauważysz, że składnia wyrażeń regularnych jest bardzo podobna w Pythonie. Do tego wykładu użyjemy modułu re z Pythona.\n",
    "\n",
    "\n",
    "Zaczynajmy!"
   ]
  },
  {
   "cell_type": "markdown",
   "metadata": {},
   "source": [
    "## Wyszukiwanie wzorów (ang. *patterns*) w tekście\n",
    "Jednym z najczęstszych zastosowań modułu re jest wyszukiwanie wzorców w tekście. Poniżej szybki przykład zastosowania metody wyszukiwania w module re w celu znalezienia tekstu:"
   ]
  },
  {
   "cell_type": "code",
   "execution_count": 7,
   "metadata": {},
   "outputs": [
    {
     "name": "stdout",
     "output_type": "stream",
     "text": [
      "Szukam \"slowo1\" w: \n",
      "\"Jest to string, który zawiera słowo1, lecz nie zawiera slowo2\" \n",
      "\n",
      "Brak dopasowania.\n",
      "\n",
      "Szukam \"slowo2\" w: \n",
      "\"Jest to string, który zawiera słowo1, lecz nie zawiera slowo2\" \n",
      "\n",
      "Znaleziono dopasowanie. \n",
      "\n"
     ]
    }
   ],
   "source": [
    "import re\n",
    "\n",
    "# Lista wzorów do wyszukania\n",
    "patterns = [ 'slowo1', 'slowo2' ]\n",
    "\n",
    "# Tekst do analizy\n",
    "text = 'Jest to string, który zawiera słowo1, lecz nie zawiera slowo2'\n",
    "\n",
    "for pattern in patterns:\n",
    "    print 'Szukam \"%s\" w: \\n\"%s\"' % (pattern, text),\n",
    "    test = re.search(pattern,  text)\n",
    "    # Weryfikacja dopasowania\n",
    "    if re.search(pattern,  text):\n",
    "        print '\\n'\n",
    "        print 'Znaleziono dopasowanie. \\n'\n",
    "    else:\n",
    "        print '\\n'\n",
    "        print 'Brak dopasowania.\\n'"
   ]
  },
  {
   "cell_type": "markdown",
   "metadata": {},
   "source": [
    "Wwidzimy, że re.search() pobiera wzór, skanuje tekst, a następnie zwraca **Znaleziono dopasowanie**. Jeśli nie znajduje żadenego wzorca, zwraca  **Brak dopasowania**. Aby uzyskać jaśniejszy obraz tego obiektu dopasowania, sprawdź poniżej:"
   ]
  },
  {
   "cell_type": "code",
   "execution_count": 44,
   "metadata": {},
   "outputs": [
    {
     "data": {
      "text/plain": [
       "_sre.SRE_Match"
      ]
     },
     "execution_count": 44,
     "metadata": {},
     "output_type": "execute_result"
    }
   ],
   "source": [
    "# Lista wzorów do wyszukania\n",
    "pattern = 'slowo1'\n",
    "\n",
    "# Tekst do analizy\n",
    "text = 'Jest to string, który zawiera slowo1, lecz nie zawiera slowo2.'\n",
    "\n",
    "test = re.search(pattern,  text)\n",
    "\n",
    "type(test)"
   ]
  },
  {
   "cell_type": "markdown",
   "metadata": {},
   "source": [
    "Ten **dopasowany** zwracany przez metodę search() jest czymś więcej niż tylko Boolean lub None, zawiera informacje o dopasowaniu, w tym oryginalny string wejściowy, użyte wyrażenie regularne i położenie match. Zobaczmy metody, których możemy użyć na obiekcie match:"
   ]
  },
  {
   "cell_type": "code",
   "execution_count": 45,
   "metadata": {},
   "outputs": [
    {
     "data": {
      "text/plain": [
       "22"
      ]
     },
     "execution_count": 45,
     "metadata": {},
     "output_type": "execute_result"
    }
   ],
   "source": [
    "# Pokaż początek match\n",
    "match.start()"
   ]
  },
  {
   "cell_type": "code",
   "execution_count": 47,
   "metadata": {},
   "outputs": [
    {
     "data": {
      "text/plain": [
       "27"
      ]
     },
     "execution_count": 47,
     "metadata": {},
     "output_type": "execute_result"
    }
   ],
   "source": [
    "# Pokaż koniec\n",
    "match.end()"
   ]
  },
  {
   "cell_type": "markdown",
   "metadata": {},
   "source": [
    "## Split z wykorzystaniem wyrażeń regularnych\n",
    "Zobaczmy jak możemy wykonać split za pomocą składni moduły re. Powinno to wyglądać podobnie jak metoda split() string."
   ]
  },
  {
   "cell_type": "code",
   "execution_count": 49,
   "metadata": {},
   "outputs": [
    {
     "data": {
      "text/plain": [
       "['Jaka jest domena adresu email: hello', 'gmail.com']"
      ]
     },
     "execution_count": 49,
     "metadata": {},
     "output_type": "execute_result"
    }
   ],
   "source": [
    "# Znak po którym dzielimy\n",
    "split_term = '@'\n",
    "# String który dzielimy\n",
    "phrase = 'Jaka jest domena adresu email: hello@gmail.com'\n",
    "\n",
    "# Split stringu\n",
    "re.split(split_term, phrase)"
   ]
  },
  {
   "cell_type": "markdown",
   "metadata": {},
   "source": [
    "Zwróć uwagę, jak re.split() zwraca listę stringów, podzieloną w miejscu wystąpienia '@' (split_term), który zostaje pominięty w liście. Stwórz kilka przykładów, aby się upewnić że rozumiesz!"
   ]
  },
  {
   "cell_type": "markdown",
   "metadata": {},
   "source": [
    "## Wyszukanie wszytkich wystąpień wzorca\n",
    "Możemy użyć re.findall() aby znaleźć wszystkie wystąpienia w stringu, np:"
   ]
  },
  {
   "cell_type": "code",
   "execution_count": 50,
   "metadata": {},
   "outputs": [
    {
     "data": {
      "text/plain": [
       "['match']"
      ]
     },
     "execution_count": 50,
     "metadata": {},
     "output_type": "execute_result"
    }
   ],
   "source": [
    "# Zwraca listę wszystkich match\n",
    "re.findall('match','test phrase match is in middle')"
   ]
  },
  {
   "cell_type": "markdown",
   "metadata": {},
   "source": [
    "## Składnia wyrażeń regularnych z użyciem modułu re\n",
    "Większą część tej lekcji poświęcimy sposobie użycia re z Pythonem. Wyrażenia regularne obsługują ogromną różnorodność wzorów, po prostu znajdując miejsce, w którym wystąpił pojedynczy ciąg znaków.\n",
    "\n",
    "Możemy użyć *metacharacters* razem z re, aby znaleźć określone typy wzorów.\n",
    "\n",
    "Ponieważ będziemy testować wiele form składni wielokrotnych, stwórzmy funkcję, która wydrukuje wyniki, z podaniem listy różnych wyrażeń regularnych i frazy do przeanalizowania:"
   ]
  },
  {
   "cell_type": "code",
   "execution_count": 3,
   "metadata": {
    "collapsed": true
   },
   "outputs": [],
   "source": [
    "def multi_re_find(patterns,phrase):\n",
    "    '''\n",
    "    Pobiera listę wzorów regex\n",
    "    Drukuje listę wszystkich dopasowań\n",
    "    '''\n",
    "    for pattern in patterns:\n",
    "        print 'Przeszukaj frazę wykorzystując re: %r' %pattern\n",
    "        print re.findall(pattern, phrase)\n",
    "        print '\\n'"
   ]
  },
  {
   "cell_type": "markdown",
   "metadata": {},
   "source": [
    "### Składnia powtórzeń\n",
    "\n",
    "Istneieje pięć sposobów na wyrażenie powtórzeń we wzorcu:\n",
    "There are five ways to express repetition in a pattern:\n",
    "\n",
    "    1.) Wzorzec, po którym następuje meta-charecter '*', jest powtarzany zero lub więcej razy.\n",
    "    2.) Zmiana '*' na '+', powoduje że wzorzec musi pojawić się co najmniej raz.\n",
    "    3.) Wykorzystanie '?' oznacza, że worzec pojawia się zero lub jeden raz.\n",
    "    4.) Jeżeli chcesz określić liczbę wystąpień, użyj '{m}' po wzorcu, gdzie m określa liczbę powtórzeń wzorca.\n",
    "    5.) Użyj {m, n} gdzie m określa minimalną liczbą powtórzeń, a n maksymalną. Pominięcie n ({m,}) oznacza, że wartość pojawia się co najmniej m razy, bez maksimum.\n",
    "    \n",
    "Now we will see an example of each of these using our multi_re_find function:"
   ]
  },
  {
   "cell_type": "code",
   "execution_count": 9,
   "metadata": {},
   "outputs": [
    {
     "name": "stdout",
     "output_type": "stream",
     "text": [
      "Przeszukaj frazę wykorzystując re: 'sd*'\n",
      "['sd', 'sd', 's', 's', 'sddd', 'sddd', 'sddd', 'sd', 's', 's', 's', 's', 's', 's', 'sdddd']\n",
      "\n",
      "\n",
      "Przeszukaj frazę wykorzystując re: 'sd+'\n",
      "['sd', 'sd', 'sddd', 'sddd', 'sddd', 'sd', 'sdddd']\n",
      "\n",
      "\n",
      "Przeszukaj frazę wykorzystując re: 'sd?'\n",
      "['sd', 'sd', 's', 's', 'sd', 'sd', 'sd', 'sd', 's', 's', 's', 's', 's', 's', 'sd']\n",
      "\n",
      "\n",
      "Przeszukaj frazę wykorzystując re: 'sd{3}'\n",
      "['sddd', 'sddd', 'sddd', 'sddd']\n",
      "\n",
      "\n",
      "Przeszukaj frazę wykorzystując re: 'sd{2,3}'\n",
      "['sddd', 'sddd', 'sddd', 'sddd']\n",
      "\n",
      "\n"
     ]
    }
   ],
   "source": [
    "test_phrase = 'sdsd..sssddd...sdddsddd...dsds...dsssss...sdddd'\n",
    "\n",
    "test_patterns = ['sd*',         # s bez lub wieloma d\n",
    "                'sd+',          # s z jednym lub wieloma d\n",
    "                'sd?',          # s bez lub z jednym d\n",
    "                'sd{3}',        # s z trzema d\n",
    "                'sd{2,3}',      # s z dwoma lub trzema d\n",
    "                ]\n",
    "\n",
    "multi_re_find(test_patterns, test_phrase)"
   ]
  },
  {
   "cell_type": "markdown",
   "metadata": {},
   "source": [
    "## Zestawy znaków\n",
    "Zestawy znaków są używane, gdy chcesz dopasować dowolną grupę znaków w punkcie wejścia. Nawiasy służą do konstruowania danych zestawu znaków. Na przykład: [ab] wyszukuje wystąpienia a lub b.\n",
    "Zobaczmy kilka przykładów:"
   ]
  },
  {
   "cell_type": "code",
   "execution_count": 10,
   "metadata": {},
   "outputs": [
    {
     "name": "stdout",
     "output_type": "stream",
     "text": [
      "Przeszukaj frazę wykorzystując re: '[sd]'\n",
      "['s', 'd', 's', 'd', 's', 's', 's', 'd', 'd', 'd', 's', 'd', 'd', 'd', 's', 'd', 'd', 'd', 'd', 's', 'd', 's', 'd', 's', 's', 's', 's', 's', 's', 'd', 'd', 'd', 'd']\n",
      "\n",
      "\n",
      "Przeszukaj frazę wykorzystując re: 's[sd]+'\n",
      "['sdsd', 'sssddd', 'sdddsddd', 'sds', 'sssss', 'sdddd']\n",
      "\n",
      "\n"
     ]
    }
   ],
   "source": [
    "test_phrase = 'sdsd..sssddd...sdddsddd...dsds...dsssss...sdddd'\n",
    "\n",
    "test_patterns = [ '[sd]',    # wystąpienie s lub d\n",
    "                 's[sd]+']   # s z jednym lub więcej s lub d\n",
    "            \n",
    "\n",
    "multi_re_find(test_patterns,test_phrase)"
   ]
  },
  {
   "cell_type": "markdown",
   "metadata": {},
   "source": [
    "Pierwsze [sd] zwraca każdą instancję. Drugie s[sd]+ po prostu zwraca wszystko zaczynające się od s, a drugim znakiem jest s lub d."
   ]
  },
  {
   "cell_type": "markdown",
   "metadata": {},
   "source": [
    "## Wyukluczenia\n",
    "Możemy użyć ^, aby wykluczyć terminy, włączając je do notacji składni nawiasów. Na przykład: [^ ...] dopasuje dowolny pojedynczy znak, który nie znajduje się w nawiasie. Zobaczmy kilka przykładów:"
   ]
  },
  {
   "cell_type": "code",
   "execution_count": 15,
   "metadata": {
    "collapsed": true
   },
   "outputs": [],
   "source": [
    "test_phrase = 'To jest ciag! Ale ma interpunkcje. Jak mozemy ja usunac?'"
   ]
  },
  {
   "cell_type": "markdown",
   "metadata": {},
   "source": [
    "Użyj [^!.? ], aby sprawdzić zgodność, zwraca te znaki które nie są!,.,? lub spacją. Dodaj +, aby sprawdzić, czy dopasowanie pojawia się co najmniej raz, co w zasadzie zwraca same słówa."
   ]
  },
  {
   "cell_type": "code",
   "execution_count": 16,
   "metadata": {},
   "outputs": [
    {
     "data": {
      "text/plain": [
       "['To',\n",
       " 'jest',\n",
       " 'ciag',\n",
       " 'Ale',\n",
       " 'ma',\n",
       " 'interpunkcje',\n",
       " 'Jak',\n",
       " 'mozemy',\n",
       " 'ja',\n",
       " 'usunac']"
      ]
     },
     "execution_count": 16,
     "metadata": {},
     "output_type": "execute_result"
    }
   ],
   "source": [
    "re.findall('[^!.? ]+',test_phrase)"
   ]
  },
  {
   "cell_type": "markdown",
   "metadata": {},
   "source": [
    "## Zakresy znaków\n",
    "W miarę jak zestawy znaków stają się większe, wpisywanie każdego znaku, który powinien (lub nie powinien) pasować, może stać się bardzo uciążliwe. Bardziej kompaktowy format przy użyciu zakresów znaków pozwala zdefiniować zestaw znaków obejmujący wszystkie sąsiadujące znaki między punktem początkowym i końcowym. Używany format to [początek-koniec].\n",
    "\n",
    "Typowe przypadki użycia to wyszukanie określonego zakresu liter w alfabecie, na przykład [a-f] zwróci wyniki z literami od a do f.\n",
    "\n",
    "Przejdźmy przez kilka przykładów:"
   ]
  },
  {
   "cell_type": "code",
   "execution_count": 19,
   "metadata": {},
   "outputs": [
    {
     "name": "stdout",
     "output_type": "stream",
     "text": [
      "Przeszukaj frazę wykorzystując re: '[a-z]+'\n",
      "['o', 'jest', 'przykladowe', 'zdanie', 'prawdzmy', 'czy', 'znajdziemy', 'przykladowe', 'fragmenty', 'tekstu']\n",
      "\n",
      "\n",
      "Przeszukaj frazę wykorzystując re: '[A-Z]+'\n",
      "['T', 'S']\n",
      "\n",
      "\n",
      "Przeszukaj frazę wykorzystując re: '[a-zA-Z]+'\n",
      "['To', 'jest', 'przykladowe', 'zdanie', 'Sprawdzmy', 'czy', 'znajdziemy', 'przykladowe', 'fragmenty', 'tekstu']\n",
      "\n",
      "\n",
      "Przeszukaj frazę wykorzystując re: '[A-Z][a-z]+'\n",
      "['To', 'Sprawdzmy']\n",
      "\n",
      "\n"
     ]
    }
   ],
   "source": [
    "test_phrase = 'To jest przykladowe zdanie. Sprawdzmy czy znajdziemy przykladowe fragmenty tekstu.'\n",
    "\n",
    "test_patterns=[ '[a-z]+',      # sekwencja małych liter\n",
    "                '[A-Z]+',      # sekwencja wielkich liter\n",
    "                '[a-zA-Z]+',   # sekwencja małych i wielkich liter\n",
    "                '[A-Z][a-z]+'] # jedna wielka litera z pozostałymi małymi literami\n",
    "                \n",
    "multi_re_find(test_patterns,test_phrase)"
   ]
  },
  {
   "cell_type": "markdown",
   "metadata": {},
   "source": [
    "## Escape Codes\n",
    "Możesz użyć specjalnych escape codes, aby znaleźć określone typy wzorców w danych, takie jak cyfry, \"nie cyfry\", spacje i wiele innych. Na przykład:\n",
    "\n",
    "<table border=\"1\" class=\"docutils\">\n",
    "<colgroup>\n",
    "<col width=\"14%\" />\n",
    "<col width=\"86%\" />\n",
    "</colgroup>\n",
    "<thead valign=\"bottom\">\n",
    "<tr class=\"row-odd\"><th class=\"head\">Kod</th>\n",
    "<th class=\"head\">Znaczenie</th>\n",
    "</tr>\n",
    "</thead>\n",
    "<tbody valign=\"top\">\n",
    "<tr class=\"row-even\"><td><tt class=\"docutils literal\"><span class=\"pre\">\\d</span></tt></td>\n",
    "<td>cyfra</td>\n",
    "</tr>\n",
    "<tr class=\"row-odd\"><td><tt class=\"docutils literal\"><span class=\"pre\">\\D</span></tt></td>\n",
    "<td>nie cyfra</td>\n",
    "</tr>\n",
    "<tr class=\"row-even\"><td><tt class=\"docutils literal\"><span class=\"pre\">\\s</span></tt></td>\n",
    "<td>white space (tab, space, nowa linia, etc.)</td>\n",
    "</tr>\n",
    "<tr class=\"row-odd\"><td><tt class=\"docutils literal\"><span class=\"pre\">\\S</span></tt></td>\n",
    "<td>nie white space</td>\n",
    "</tr>\n",
    "<tr class=\"row-even\"><td><tt class=\"docutils literal\"><span class=\"pre\">\\w</span></tt></td>\n",
    "<td>alfanumeryczny</td>\n",
    "</tr>\n",
    "<tr class=\"row-odd\"><td><tt class=\"docutils literal\"><span class=\"pre\">\\W</span></tt></td>\n",
    "<td>nie alfanumeryczny</td>\n",
    "</tr>\n",
    "</tbody>\n",
    "</table>\n",
    "\n",
    "Escapes są oznaczone prefiksem znaku z backslash (\\). Niestety, backslash jest znakiem escape w normalnych w normalnych łańcuchach napisanych w Pythonie, co skutkuje trudnościami w odczytania wyrażeń. Używanie nieprzetworzonych łańcuchów, możliwe jest poprzez użycie prefiksu r, które przy tworzeniu wyrażeń regularnych eliminuje ten problem i zapewnia czytelność.\n",
    "\n",
    "Uważam, że użycie prefiksu r do uniknięcia backshlash jest prawdopodobnie jedną z rzeczy, które początkującym uniemożliwiają odczyt kodu regex. Mam nadzieję, że po przeanalizowaniu poniższych przykładów ta składnia stanie się jasna."
   ]
  },
  {
   "cell_type": "code",
   "execution_count": 20,
   "metadata": {},
   "outputs": [
    {
     "name": "stdout",
     "output_type": "stream",
     "text": [
      "Przeszukaj frazę wykorzystując re: '\\\\d+'\n",
      "['1233']\n",
      "\n",
      "\n",
      "Przeszukaj frazę wykorzystując re: '\\\\D+'\n",
      "['Ten string zawiera kilka liczb ', ' oraz symbol #hashtag']\n",
      "\n",
      "\n",
      "Przeszukaj frazę wykorzystując re: '\\\\s+'\n",
      "[' ', ' ', ' ', ' ', ' ', ' ', ' ', ' ']\n",
      "\n",
      "\n",
      "Przeszukaj frazę wykorzystując re: '\\\\S+'\n",
      "['Ten', 'string', 'zawiera', 'kilka', 'liczb', '1233', 'oraz', 'symbol', '#hashtag']\n",
      "\n",
      "\n",
      "Przeszukaj frazę wykorzystując re: '\\\\w+'\n",
      "['Ten', 'string', 'zawiera', 'kilka', 'liczb', '1233', 'oraz', 'symbol', 'hashtag']\n",
      "\n",
      "\n",
      "Przeszukaj frazę wykorzystując re: '\\\\W+'\n",
      "[' ', ' ', ' ', ' ', ' ', ' ', ' ', ' #']\n",
      "\n",
      "\n"
     ]
    }
   ],
   "source": [
    "test_phrase = 'Ten string zawiera kilka liczb 1233 oraz symbol #hashtag'\n",
    "\n",
    "test_patterns=[ r'\\d+', # sekwencja cyfr\n",
    "                r'\\D+', # sekwencja nie cyfr\n",
    "                r'\\s+', # sekwencja white space\n",
    "                r'\\S+', # sekwencja nie white space\n",
    "                r'\\w+', # sekwencja znaków alfanumerycznych\n",
    "                r'\\W+', # sekwencja znaków nie alfanumerycznych\n",
    "                ]\n",
    "\n",
    "multi_re_find(test_patterns,test_phrase)"
   ]
  },
  {
   "cell_type": "markdown",
   "metadata": {},
   "source": [
    "## Podsumowanie\n",
    "Powinieneś teraz dobrze rozumieć, jak używać modułu wyrażeń regularnych w Pythonie. Jest mnóstwo bardziej skomplikowanych zastosowań, ale byłoby nierozsądnie przejść przez każdy przypadek użycia. Zamiast tego spójrz na pełną [dokumentację] (https://docs.python.org/2/library/re.html#regular-expression-syntax), jeśli zajdzie potrzeba sprawdzenia konkretnego przypadku.\n",
    "\n",
    "Możesz również sprawdzić ładne tabele podsumowań w tym [po angielsku](http://www.tutorialspoint.com/python/python_reg_expressions.htm) oraz inny [opis po polsku](http://home.agh.edu.pl/~mkuta/tk/WyrazeniaRegularne.html)"
   ]
  }
 ],
 "metadata": {
  "kernelspec": {
   "display_name": "Python 2",
   "language": "python",
   "name": "python2"
  },
  "language_info": {
   "codemirror_mode": {
    "name": "ipython",
    "version": 2
   },
   "file_extension": ".py",
   "mimetype": "text/x-python",
   "name": "python",
   "nbconvert_exporter": "python",
   "pygments_lexer": "ipython2",
   "version": "2.7.14"
  }
 },
 "nbformat": 4,
 "nbformat_minor": 1
}
