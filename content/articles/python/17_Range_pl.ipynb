{
 "cells": [
  {
   "cell_type": "markdown",
   "metadata": {},
   "source": [
    "# Funkcja range()\n",
    "+ date: 2017-11-28\n",
    "+ category: python\n",
    "+ tags: python, range"
   ]
  },
  {
   "cell_type": "markdown",
   "metadata": {},
   "source": [
    "POdczas tej krótkiej lekcji omówimy działanie funkcji range(). Dotychczas nie poznaliśmy jeszcze dokładnego sposobu tworzenia i działania funkcji, lecz możemy poznać jedną z prostrzych (ale bardzo użytecznych) funkcji.\n",
    "\n",
    "Funkcja range() tworzy listę liczb od zera do określonej wartości w parametrze. Możemy także za pomocą parametrów określić początkową wartość oraz wartość skoku/kroku liczb. Przyjrzyjmy się kilku przykładom aby lepiej to zrozumieć:"
   ]
  },
  {
   "cell_type": "code",
   "execution_count": 1,
   "metadata": {},
   "outputs": [
    {
     "data": {
      "text/plain": [
       "[0, 1, 2, 3, 4, 5, 6, 7, 8, 9]"
      ]
     },
     "execution_count": 1,
     "metadata": {},
     "output_type": "execute_result"
    }
   ],
   "source": [
    "range(10)"
   ]
  },
  {
   "cell_type": "code",
   "execution_count": 2,
   "metadata": {},
   "outputs": [
    {
     "data": {
      "text/plain": [
       "[0, 1, 2, 3, 4, 5, 6, 7, 8, 9]"
      ]
     },
     "execution_count": 2,
     "metadata": {},
     "output_type": "execute_result"
    }
   ],
   "source": [
    "range(0,10)"
   ]
  },
  {
   "cell_type": "code",
   "execution_count": 3,
   "metadata": {},
   "outputs": [
    {
     "data": {
      "text/plain": [
       "[2, 3, 4, 5, 6, 7, 8, 9]"
      ]
     },
     "execution_count": 3,
     "metadata": {},
     "output_type": "execute_result"
    }
   ],
   "source": [
    "range(2,10)"
   ]
  },
  {
   "cell_type": "code",
   "execution_count": 5,
   "metadata": {},
   "outputs": [
    {
     "data": {
      "text/plain": [
       "list"
      ]
     },
     "execution_count": 5,
     "metadata": {},
     "output_type": "execute_result"
    }
   ],
   "source": [
    "# Przypisanie do zmiennej funkcji range tworzy dane typu list\n",
    "x =range(0,10)\n",
    "type(x)"
   ]
  },
  {
   "cell_type": "code",
   "execution_count": 6,
   "metadata": {
    "collapsed": true
   },
   "outputs": [],
   "source": [
    "start = 0 # domyślnie range zaczyna się od 0\n",
    "stop = 20 \n",
    "x = range(start,stop)"
   ]
  },
  {
   "cell_type": "code",
   "execution_count": 7,
   "metadata": {},
   "outputs": [
    {
     "data": {
      "text/plain": [
       "[0, 1, 2, 3, 4, 5, 6, 7, 8, 9, 10, 11, 12, 13, 14, 15, 16, 17, 18, 19]"
      ]
     },
     "execution_count": 7,
     "metadata": {},
     "output_type": "execute_result"
    }
   ],
   "source": [
    "x"
   ]
  },
  {
   "cell_type": "markdown",
   "metadata": {},
   "source": [
    "Super! Zauważ, że liczby w utworzonej liście są *do* 20, lecz nie obejmują 20, dokładnie tak jak w przypadku indeksowania. Jak określić wartość skoku?\n",
    "\n",
    "Możemy określić skok za pomoca trzeciego argumentu:"
   ]
  },
  {
   "cell_type": "code",
   "execution_count": 8,
   "metadata": {},
   "outputs": [
    {
     "data": {
      "text/plain": [
       "[0, 2, 4, 6, 8, 10, 12, 14, 16, 18]"
      ]
     },
     "execution_count": 8,
     "metadata": {},
     "output_type": "execute_result"
    }
   ],
   "source": [
    "x = range(start,stop,2)\n",
    "# Wypisz\n",
    "x"
   ]
  },
  {
   "cell_type": "markdown",
   "metadata": {},
   "source": [
    "### <font color='red'>Uwaga Python 3!</font>\n",
    "\n",
    "Być może zastanawiałeś się, co się stanie, jeśli zechcesz użyć ogromnej liczby liczb? Czy Twój komputer przechowa wszystko w pamięci?\n",
    "\n",
    "Jest to dylemat, który można rozwiązać za pomocą generatora. Uproszczone wyjaśnienie: generator umożliwia generowanie wygenerowanych obiektów, które są dostarczane w tej instancji, ale nie przechowuje każdej instancji wygenerowanej w pamięci.\n",
    "\n",
    "Oznacza to, że generator nie utworzyłby listy do generowania jak range(), ale zamiast tego jednorazowo generuje liczby z tego zakresu. Python 2 ma wbudowany generator range o nazwie xrange(). Zalecane jest użycie xrange() dla pętli **for**  w Pythonie 2.\n",
    "\n",
    "Dobra wiadomość w wersji Python 3, range() zachowuje się jak generator i nie musisz się tym martwić. Zobaczmy szybki przykład z xrange():"
   ]
  },
  {
   "cell_type": "code",
   "execution_count": 9,
   "metadata": {},
   "outputs": [
    {
     "name": "stdout",
     "output_type": "stream",
     "text": [
      "0\n",
      "1\n",
      "2\n",
      "3\n",
      "4\n",
      "5\n",
      "6\n",
      "7\n",
      "8\n",
      "9\n"
     ]
    }
   ],
   "source": [
    "for num in range(10):\n",
    "    print num"
   ]
  },
  {
   "cell_type": "code",
   "execution_count": 10,
   "metadata": {},
   "outputs": [
    {
     "name": "stdout",
     "output_type": "stream",
     "text": [
      "0\n",
      "1\n",
      "2\n",
      "3\n",
      "4\n",
      "5\n",
      "6\n",
      "7\n",
      "8\n",
      "9\n"
     ]
    }
   ],
   "source": [
    "for num in xrange(10):\n",
    "    print num"
   ]
  },
  {
   "cell_type": "markdown",
   "metadata": {
    "collapsed": true
   },
   "source": [
    "Tak więc podstawowym wyjściem w Pythonie 2 (jeśli używasz range() w taki sposób, że nie musisz zapisywać wyników na liście) jest użycie xrange(). W Pythonie 3 użyj range() w dowolnej instancji.\n",
    "\n",
    "Teraz powinieneś już dobrze rozumieć, jak używać range() w obu wersjach Pythona."
   ]
  }
 ],
 "metadata": {
  "kernelspec": {
   "display_name": "Python 2",
   "language": "python",
   "name": "python2"
  },
  "language_info": {
   "codemirror_mode": {
    "name": "ipython",
    "version": 2
   },
   "file_extension": ".py",
   "mimetype": "text/x-python",
   "name": "python",
   "nbconvert_exporter": "python",
   "pygments_lexer": "ipython2",
   "version": "2.7.14"
  }
 },
 "nbformat": 4,
 "nbformat_minor": 1
}
