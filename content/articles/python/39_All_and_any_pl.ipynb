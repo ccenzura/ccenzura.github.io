{
 "cells": [
  {
   "cell_type": "markdown",
   "metadata": {},
   "source": [
    "# Funkcje all() i any()\n",
    "+ date: 2018-01-08\n",
    "+ category: python\n",
    "+ tags: all, any"
   ]
  },
  {
   "cell_type": "markdown",
   "metadata": {},
   "source": [
    "## all() and any()"
   ]
  },
  {
   "cell_type": "markdown",
   "metadata": {},
   "source": [
    "all() i any() są wbudowanymi funkcjami w Pythonie, które umożliwiają wygodnie sprawdzić dopasowanie do elementów w skwencji zwracając boolean. all() zwraca True jeżeli wszystkie elementy w sekwencji są True. To jest to samo co poniższa funkcja:\n",
    "\n",
    "    def all(sekwencja):\n",
    "        for element in sekwencja:\n",
    "            if not element:\n",
    "                return False\n",
    "        return True\n",
    "\n",
    "any() zwróci True jeżeli którykolwiek element w sekwencji będzie True. Jest to równoznaczne co kod poniższej funkcji:\n",
    "\n",
    "    def any(sekwencja):\n",
    "        for element in sekwencja:\n",
    "            if element:\n",
    "                return True\n",
    "        return False\n",
    "        "
   ]
  },
  {
   "cell_type": "markdown",
   "metadata": {},
   "source": [
    "Zobaczmy kilka przykładów zastosowania tych funkcji. Powinny być dosyć proste i rozjaśnić zastosowanie powyższych funkcji."
   ]
  },
  {
   "cell_type": "code",
   "execution_count": 2,
   "metadata": {
    "collapsed": true
   },
   "outputs": [],
   "source": [
    "lst = [True,True,False,True]"
   ]
  },
  {
   "cell_type": "code",
   "execution_count": 3,
   "metadata": {},
   "outputs": [
    {
     "data": {
      "text/plain": [
       "False"
      ]
     },
     "execution_count": 3,
     "metadata": {},
     "output_type": "execute_result"
    }
   ],
   "source": [
    "all(lst)"
   ]
  },
  {
   "cell_type": "markdown",
   "metadata": {},
   "source": [
    "Zwraca False, ponieważ nie wszystkie elemnty są True."
   ]
  },
  {
   "cell_type": "code",
   "execution_count": 4,
   "metadata": {},
   "outputs": [
    {
     "data": {
      "text/plain": [
       "True"
      ]
     },
     "execution_count": 4,
     "metadata": {},
     "output_type": "execute_result"
    }
   ],
   "source": [
    "any(lst)"
   ]
  },
  {
   "cell_type": "markdown",
   "metadata": {},
   "source": [
    "Zwraca True, ponieważ w seksencji (liście) jest co najmniej jedno True."
   ]
  }
 ],
 "metadata": {
  "kernelspec": {
   "display_name": "Python 2",
   "language": "python",
   "name": "python2"
  },
  "language_info": {
   "codemirror_mode": {
    "name": "ipython",
    "version": 2
   },
   "file_extension": ".py",
   "mimetype": "text/x-python",
   "name": "python",
   "nbconvert_exporter": "python",
   "pygments_lexer": "ipython2",
   "version": "2.7.14"
  }
 },
 "nbformat": 4,
 "nbformat_minor": 1
}
