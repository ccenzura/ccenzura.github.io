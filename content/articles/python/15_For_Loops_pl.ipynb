{
 "cells": [
  {
   "cell_type": "markdown",
   "metadata": {},
   "source": [
    "# Pęta for\n",
    "+ date: 2017-11-27\n",
    "+ categoty: python\n",
    "+ tags: python, for, loop"
   ]
  },
  {
   "cell_type": "markdown",
   "metadata": {},
   "source": [
    "Pętla for działa jako iterator w Pythonie. Przechodzi przez elementy, które znajdują się w sekwencji lub jakimkolwiek innym iterowalnym elemencie. Obiekty, o których się uczyliśmy i możemy iterować: string, lists, tuples, a nawet dictionaries (po kluczu lub wartości).\n",
    "\n",
    "W poprzednich wykładach poznaliśmy pętlę *for*, ale teraz czas poznać ją i zrozumieć.\n",
    "\n",
    "Oto ogólny format pętli for w Pythonie:\n",
    "\n",
    "    for element in obiekt:\n",
    "        instrukcja do wykonania\n",
    "\n",
    "Wykorzystując powyższą pętlę nasz interpreter wykona daną instrukcję dla każdego elementu w obiekcie."
   ]
  },
  {
   "cell_type": "markdown",
   "metadata": {},
   "source": [
    "Nazwa zmiennej wykorzystywanej w pętli (powyżej *element*) jest całowicie dowolna, lecz wybierając ją staraj się stosować takie aby miały sens lub były dla Ciebie rozumiałe, abyś w przyszłości mógł łatwo mógł zrozumieć kod. Za pomocą jej nazwy można do niej odwołać się wewenątrz pętli, np jeżeli chcesz wykorzystać instrukcję if.\n",
    "\n",
    "Przyjrzyjmy się kilku przykładom pętli **for** wykorzystując obiekty różnych typów danych. Zaczniemy od prostych przykładów a skończymy na bardziej skomplikowanych.\n",
    "\n",
    "## Przykład 1\n",
    "Iterowanie po list."
   ]
  },
  {
   "cell_type": "code",
   "execution_count": 1,
   "metadata": {
    "collapsed": true
   },
   "outputs": [],
   "source": [
    "# Nauczymy się jak automatycznie sortować tę site w następnej lekcji\n",
    "l = [1,2,3,4,5,6,7,8,9,10]"
   ]
  },
  {
   "cell_type": "code",
   "execution_count": 2,
   "metadata": {},
   "outputs": [
    {
     "name": "stdout",
     "output_type": "stream",
     "text": [
      "1\n",
      "2\n",
      "3\n",
      "4\n",
      "5\n",
      "6\n",
      "7\n",
      "8\n",
      "9\n",
      "10\n"
     ]
    }
   ],
   "source": [
    "for num in l:\n",
    "    print num"
   ]
  },
  {
   "cell_type": "markdown",
   "metadata": {},
   "source": [
    "Super! Mam nadzieję, że ma to dla Ciebie sens. Dodajmy teraz instrukcję if aby sprawdzić liczby parzyste. Najpierw wprowadźmy jednak nowy operator - modulo %.\n",
    "\n",
    "## Modulo %\n",
    "\n",
    "Module umożliwa nam uzyskanie reszty w dzielenia za pomocą symbolu **%**."
   ]
  },
  {
   "cell_type": "code",
   "execution_count": 3,
   "metadata": {},
   "outputs": [
    {
     "data": {
      "text/plain": [
       "2"
      ]
     },
     "execution_count": 3,
     "metadata": {},
     "output_type": "execute_result"
    }
   ],
   "source": [
    "17 % 5"
   ]
  },
  {
   "cell_type": "markdown",
   "metadata": {},
   "source": [
    "Ma to sens, ponieważ 17 podzielone przez 5 daje 3 oraz resztę 2. Przeanalizuj kilka poniższych przykładów:"
   ]
  },
  {
   "cell_type": "code",
   "execution_count": 4,
   "metadata": {},
   "outputs": [
    {
     "data": {
      "text/plain": [
       "1"
      ]
     },
     "execution_count": 4,
     "metadata": {},
     "output_type": "execute_result"
    }
   ],
   "source": [
    "# 3 reszta 1\n",
    "10 % 3"
   ]
  },
  {
   "cell_type": "code",
   "execution_count": 5,
   "metadata": {},
   "outputs": [
    {
     "data": {
      "text/plain": [
       "4"
      ]
     },
     "execution_count": 5,
     "metadata": {},
     "output_type": "execute_result"
    }
   ],
   "source": [
    "# 2 reszta 4\n",
    "18 % 7"
   ]
  },
  {
   "cell_type": "code",
   "execution_count": 6,
   "metadata": {},
   "outputs": [
    {
     "data": {
      "text/plain": [
       "0"
      ]
     },
     "execution_count": 6,
     "metadata": {},
     "output_type": "execute_result"
    }
   ],
   "source": [
    "# 2 brak reszty\n",
    "4 % 2"
   ]
  },
  {
   "cell_type": "markdown",
   "metadata": {},
   "source": [
    "Zwróć uwagę, że w przypadku braku reszty, modulo daje wynik 0. Możemy to wykorzystać do testu na liczbach parzystych, jeżeli modulo z num jest równe 0 to znaczy że jest to liczba parzysta.\n",
    "\n",
    "Wróćmy do pętli!\n",
    "\n",
    "## Przykład 2\n",
    "Wypiszmy z naszej listy wyłącznie liczby parzyste."
   ]
  },
  {
   "cell_type": "code",
   "execution_count": 7,
   "metadata": {},
   "outputs": [
    {
     "name": "stdout",
     "output_type": "stream",
     "text": [
      "2\n",
      "4\n",
      "6\n",
      "8\n",
      "10\n"
     ]
    }
   ],
   "source": [
    "for num in l:\n",
    "    if num % 2 == 0:\n",
    "        print num"
   ]
  },
  {
   "cell_type": "markdown",
   "metadata": {},
   "source": [
    "Możemy także wykorzystać isntrukcję z else:"
   ]
  },
  {
   "cell_type": "code",
   "execution_count": 8,
   "metadata": {},
   "outputs": [
    {
     "name": "stdout",
     "output_type": "stream",
     "text": [
      "nieparzysta\n",
      "2\n",
      "nieparzysta\n",
      "4\n",
      "nieparzysta\n",
      "6\n",
      "nieparzysta\n",
      "8\n",
      "nieparzysta\n",
      "10\n"
     ]
    }
   ],
   "source": [
    "for num in l:\n",
    "    if num % 2 == 0:\n",
    "        print num\n",
    "    else:\n",
    "        print 'nieparzysta'"
   ]
  },
  {
   "cell_type": "markdown",
   "metadata": {},
   "source": [
    "## Przykład 3\n",
    "\n",
    "Innym powszechnym zastosowaniem pętli **for** jest utrzymywanie pewnego rodzaju zbieżności podczas wykonywania wielu pętli. Stwórzmy pętlę, która zsumuje elementy w naszej liście."
   ]
  },
  {
   "cell_type": "code",
   "execution_count": 9,
   "metadata": {},
   "outputs": [
    {
     "name": "stdout",
     "output_type": "stream",
     "text": [
      "55\n"
     ]
    }
   ],
   "source": [
    "# początkowa wartość naszej sumy wynosi 0\n",
    "list_sum = 0 \n",
    "\n",
    "for num in l:\n",
    "    list_sum = list_sum + num\n",
    "\n",
    "print list_sum"
   ]
  },
  {
   "cell_type": "markdown",
   "metadata": {},
   "source": [
    "Super! Przeczytaj jeszcze raz zakreś tej lekcji i upewnij się, że wszystko jest zrozumiałe. Możemy również wykorzystać += do sumowania elmenetów naszej listy:"
   ]
  },
  {
   "cell_type": "code",
   "execution_count": 10,
   "metadata": {},
   "outputs": [
    {
     "name": "stdout",
     "output_type": "stream",
     "text": [
      "55\n"
     ]
    }
   ],
   "source": [
    "# początkowa wartość naszej sumy wynosi 0\n",
    "list_sum = 0 \n",
    "\n",
    "for num in l:\n",
    "    list_sum += num\n",
    "\n",
    "print list_sum"
   ]
  },
  {
   "cell_type": "markdown",
   "metadata": {},
   "source": [
    "## Przykład 4\n",
    "Wykorzystaliśmy pętlę **for** w pracy z lists, jak wygląda to z strings? Pamiętaj, że strings są sekwencją, tak więc iterując string będziemy mieli dostęp do każdedgo elementu string."
   ]
  },
  {
   "cell_type": "code",
   "execution_count": 11,
   "metadata": {},
   "outputs": [
    {
     "name": "stdout",
     "output_type": "stream",
     "text": [
      "T\n",
      "o\n",
      " \n",
      "j\n",
      "e\n",
      "s\n",
      "t\n",
      " \n",
      "s\n",
      "t\n",
      "r\n",
      "i\n",
      "n\n",
      "g\n",
      ".\n"
     ]
    }
   ],
   "source": [
    "for litera in 'To jest string.':\n",
    "    print litera"
   ]
  },
  {
   "cell_type": "markdown",
   "metadata": {},
   "source": [
    "## Przykład 5\n",
    "Sprwawdźmy jak pętla **for** radzi sobie z tuples:"
   ]
  },
  {
   "cell_type": "code",
   "execution_count": 12,
   "metadata": {},
   "outputs": [
    {
     "name": "stdout",
     "output_type": "stream",
     "text": [
      "1\n",
      "2\n",
      "3\n",
      "4\n",
      "5\n"
     ]
    }
   ],
   "source": [
    "tup = (1,2,3,4,5)\n",
    "\n",
    "for t in tup:\n",
    "    print t"
   ]
  },
  {
   "cell_type": "markdown",
   "metadata": {},
   "source": [
    "## Przykład 6\n",
    "Tuples ma specjalną cechę podczas współpracy z pętlą **for**. Jeżeli iterowana jest sekwencja zawierająca wewnątrz tuples, elementy są zwykłymi tuples, jest to przykłąd **pakowania tuples**. Wykonując pętlę **for** będziemy rozpakowywać tuple z wnętrza sekwencji, pondato mamy dostęp do indywidualnych elementów wewnątrz danej tuple!"
   ]
  },
  {
   "cell_type": "code",
   "execution_count": 13,
   "metadata": {
    "collapsed": true
   },
   "outputs": [],
   "source": [
    "l = [(2,4),(6,8),(10,12)]"
   ]
  },
  {
   "cell_type": "code",
   "execution_count": 14,
   "metadata": {},
   "outputs": [
    {
     "name": "stdout",
     "output_type": "stream",
     "text": [
      "(2, 4)\n",
      "(6, 8)\n",
      "(10, 12)\n"
     ]
    }
   ],
   "source": [
    "for tup in l:\n",
    "    print tup"
   ]
  },
  {
   "cell_type": "code",
   "execution_count": 20,
   "metadata": {},
   "outputs": [
    {
     "name": "stdout",
     "output_type": "stream",
     "text": [
      "2\n",
      "6\n",
      "10\n"
     ]
    }
   ],
   "source": [
    "# Pętla for z rozpakowywaniem\n",
    "for (t1,t2) in l: # jako element przedstawiony jest schemat \n",
    "    print t1 # tutaj wywoływany jest element tupli na podstawie wcześniej zdefiniowanego schematu "
   ]
  },
  {
   "cell_type": "markdown",
   "metadata": {},
   "source": [
    "Super! Pracują z tuples w sekwencji mamy dostęp do elementów znajdujących się w nich co umożliwia nam tzw. \"rozpakowawnie\". Jest to istotny aspekt, ponieważ wiele obiektów przepuszcza iterację przez tuples. Poznajmy teraz zasady współpracy pętli **for** z dictionaries!"
   ]
  },
  {
   "cell_type": "markdown",
   "metadata": {},
   "source": [
    "## Przykład 7"
   ]
  },
  {
   "cell_type": "code",
   "execution_count": 25,
   "metadata": {
    "collapsed": true
   },
   "outputs": [],
   "source": [
    "d = {'k1':1,'k2':2,'k3':3}"
   ]
  },
  {
   "cell_type": "code",
   "execution_count": 26,
   "metadata": {},
   "outputs": [
    {
     "name": "stdout",
     "output_type": "stream",
     "text": [
      "k3\n",
      "k2\n",
      "k1\n"
     ]
    }
   ],
   "source": [
    "for element in d:\n",
    "    print element"
   ]
  },
  {
   "cell_type": "markdown",
   "metadata": {},
   "source": [
    "Zauważ, że otrzymaliśmy wyłącznie klucze. Jak możemy uzyskać wartości lub klucz z wartością?"
   ]
  },
  {
   "cell_type": "markdown",
   "metadata": {},
   "source": [
    "### <font color='red'>Python 3 Alert!</font>\n",
    "W Pythonie 2 powiniśmy użyc .iteritem() aby dokonać iteracji przez klucze i wartośći w dictionaries. To tworzy generator (o tym na jednej z kolejnych lekcji), który generuje klucze i wartości z naszego dictionary. "
   ]
  },
  {
   "cell_type": "code",
   "execution_count": 27,
   "metadata": {},
   "outputs": [
    {
     "data": {
      "text/plain": [
       "<dictionary-itemiterator at 0x7f56a447b470>"
      ]
     },
     "execution_count": 27,
     "metadata": {},
     "output_type": "execute_result"
    }
   ],
   "source": [
    "# Utworzenie generatora\n",
    "d.iteritems()"
   ]
  },
  {
   "cell_type": "markdown",
   "metadata": {},
   "source": [
    "Wywołując metodę iteritems() zwraca nam listę tuples. Teraz możemy iterować po nich tak jak zrobiliśmy to w poprzednim przyładzie. "
   ]
  },
  {
   "cell_type": "code",
   "execution_count": 28,
   "metadata": {},
   "outputs": [
    {
     "name": "stdout",
     "output_type": "stream",
     "text": [
      "k3\n",
      "3\n",
      "k2\n",
      "2\n",
      "k1\n",
      "1\n"
     ]
    }
   ],
   "source": [
    "# Utworzenie generatora\n",
    "for k,v in d.iteritems():\n",
    "    print k\n",
    "    print v  "
   ]
  },
  {
   "cell_type": "markdown",
   "metadata": {},
   "source": [
    "### Python 3: items()\n",
    "W Pythonie 3 używa się do iteracji przez klucze i wartości w dictionaries stosuje się metodę .items()."
   ]
  },
  {
   "cell_type": "code",
   "execution_count": 30,
   "metadata": {},
   "outputs": [
    {
     "name": "stdout",
     "output_type": "stream",
     "text": [
      "k3\n",
      "3\n",
      "k2\n",
      "2\n",
      "k1\n",
      "1\n"
     ]
    }
   ],
   "source": [
    "# W Pythonie 3\n",
    "for k,v in d.items():\n",
    "    print(k)\n",
    "    print(v)  "
   ]
  },
  {
   "cell_type": "markdown",
   "metadata": {},
   "source": [
    "Być może zastanawiasz się, dlaczego działa to w Pythonie 2. Jest tak z powodu wprowadzenia generatorów do Pythona w wcześniejszych latach (omówimy generatory w jednej z następnych lekcji, ale ich podstawową zasadą jest to, że generatory nie przechowują danych w pamięci, lecz zamiast tego po prostu oddają je gdy przechodzą przez element iterowalny).\n",
    "\n",
    "Oryginalnie metoda Pythona .items() budowała prawdziwą listę tuples i zwracała je. To potencjalnie może zająć dużo dodatkowej pamięci operacyjnej.\n",
    "\n",
    "Później, generatory zostały wprowadzone do języka, a ta metoda została ponownie zaimplementowana jako metoda iterator-generator o nazwie .iteritems(). Oryginał zachowuje zgodność wsteczną.\n",
    "\n",
    "Jedną z zmian w Pythonie 3 jest to, że .items() teraz zwracają iteratory, a lista nigdy nie jest w pełni zbudowana. Metoda .iteritems() również zniknęła, ponieważ .items() działa teraz jak .iteritems() w Pythonie 2."
   ]
  },
  {
   "cell_type": "markdown",
   "metadata": {},
   "source": [
    "## Podsumowanie\n",
    "Nauczyliśmy się jak wykorzystywać pętlę **for** z tuples, lists, strings i dictionaries. To zagadnienie będzie przez nas bardzo często wykorzystywane, więc upewnij się że zrozumiałeś jak działa pętla **for**. Jeżeli nie, poszukaj w sieci dodatkowych informacji.\n",
    "\n",
    "[Dodatkowe źrodło](http://www.tutorialspoint.com/python/python_for_loop.htm)"
   ]
  }
 ],
 "metadata": {
  "kernelspec": {
   "display_name": "Python 2",
   "language": "python",
   "name": "python2"
  },
  "language_info": {
   "codemirror_mode": {
    "name": "ipython",
    "version": 2
   },
   "file_extension": ".py",
   "mimetype": "text/x-python",
   "name": "python",
   "nbconvert_exporter": "python",
   "pygments_lexer": "ipython2",
   "version": "2.7.14"
  }
 },
 "nbformat": 4,
 "nbformat_minor": 1
}
