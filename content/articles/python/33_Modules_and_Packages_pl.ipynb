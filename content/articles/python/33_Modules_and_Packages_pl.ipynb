{
 "cells": [
  {
   "cell_type": "markdown",
   "metadata": {},
   "source": [
    "# Modules and Packages (pl. * Moduły i Pakiety*)\n",
    "+ date: 2018-01-03\n",
    "+ category: python\n",
    "+ tags: modules, packages\n"
   ]
  },
  {
   "cell_type": "markdown",
   "metadata": {},
   "source": [
    "Nie ma tu kodu, ponieważ sekcja ta nie miałaby większego sensu. Sprawdź wykłady wideo, aby uzyskać więcej informacji i zasoby na ten temat.\n",
    "\n",
    "Oto najlepsze źródło oficjalnych dokumentów!\n",
    "https://docs.python.org/2/tutorial/modules.html#packages\n",
    "\n",
    "Ale bardzo fajnie jest to omówione tutaj: https://python4astronomers.github.io/installation/packages.html\n",
    "\n",
    "Oto przykładowe polskie źródło:\n",
    "http://www.learnpython.org/pl/Moduly_i_pakiety\n",
    "\n",
    "\n",
    "Poniżej kilka dodatkowych informacji, które mogą pomóc:"
   ]
  },
  {
   "cell_type": "markdown",
   "metadata": {},
   "source": [
    "Moduły w Pythonie to po prostu pliki Pythona z rozszerzeniem .py, które implementują zestaw funkcji. Moduły są importowane z innych modułów za pomocą polecenia import.\n",
    "\n",
    "Aby zaimportować moduł, używamy polecenia *import*. Sprawdź pełną listę wbudowanych modułów w standardowej bibliotece Pythona [tutaj](https://docs.python.org/2/library/index.html).\n",
    "\n",
    "Przy pierwszym załadowaniu modułu do działającego skryptu w języku Python jest on inicjalizowany przez jednorazowe uruchomienie kodu w module. Jeśli inny moduł w twoim kodzie ponownie zaimportuje ten sam moduł, nie zostanie załadowany dwa razy, ale tylko jeden raz - więc zmienne lokalne w module działają jak \"singleton\" - są inicjowane tylko raz.\n",
    "\n",
    "Jeśli chcemy zaimportować moduł math, po prostu importujemy moduł:"
   ]
  },
  {
   "cell_type": "code",
   "execution_count": 3,
   "metadata": {
    "collapsed": true
   },
   "outputs": [],
   "source": [
    "# importowanie biblioteki\n",
    "import math"
   ]
  },
  {
   "cell_type": "code",
   "execution_count": 4,
   "metadata": {},
   "outputs": [
    {
     "data": {
      "text/plain": [
       "3.0"
      ]
     },
     "execution_count": 4,
     "metadata": {},
     "output_type": "execute_result"
    }
   ],
   "source": [
    "# wykorzystanie jej (ceiling rounding)\n",
    "math.ceil(2.4)"
   ]
  },
  {
   "cell_type": "markdown",
   "metadata": {},
   "source": [
    "## Przegląd wbudowanych modułów\n",
    "Dwie bardzo ważne funkcje ułatwiają zapoznanie się i pracę z modułami w Pythonie - funkcje **dir** oraz **help**.\n",
    "\n",
    "Możemy sprawdzić jakie funkcje są zaimplementowane w każdy moduł wykorzystując funkcję **dir**:"
   ]
  },
  {
   "cell_type": "code",
   "execution_count": 5,
   "metadata": {},
   "outputs": [
    {
     "name": "stdout",
     "output_type": "stream",
     "text": [
      "['__doc__', '__file__', '__name__', '__package__', 'acos', 'acosh', 'asin', 'asinh', 'atan', 'atan2', 'atanh', 'ceil', 'copysign', 'cos', 'cosh', 'degrees', 'e', 'erf', 'erfc', 'exp', 'expm1', 'fabs', 'factorial', 'floor', 'fmod', 'frexp', 'fsum', 'gamma', 'hypot', 'isinf', 'isnan', 'ldexp', 'lgamma', 'log', 'log10', 'log1p', 'modf', 'pi', 'pow', 'radians', 'sin', 'sinh', 'sqrt', 'tan', 'tanh', 'trunc']\n"
     ]
    }
   ],
   "source": [
    "print(dir(math))"
   ]
  },
  {
   "cell_type": "markdown",
   "metadata": {},
   "source": [
    "Kiedy znajdziemy interesującą nas funkcję, możemy przeczytać o niej więcej szczegółów wykorzystując funkcję **help**:"
   ]
  },
  {
   "cell_type": "code",
   "execution_count": 6,
   "metadata": {},
   "outputs": [
    {
     "name": "stdout",
     "output_type": "stream",
     "text": [
      "Help on built-in function ceil in module math:\n",
      "\n",
      "ceil(...)\n",
      "    ceil(x)\n",
      "    \n",
      "    Return the ceiling of x as a float.\n",
      "    This is the smallest integral value >= x.\n",
      "\n"
     ]
    }
   ],
   "source": [
    "help(math.ceil)"
   ]
  },
  {
   "cell_type": "markdown",
   "metadata": {},
   "source": [
    "## Pisanie modułów\n",
    "Pisanie modułów Pythona jest bardzo proste. Aby utworzyć własny moduł, po prostu utwórz nowy plik .py z nazwą modułu, a następnie zaimportuj go przy użyciu nazwy pliku Python (bez rozszerzenia .py) za pomocą polecenia import.\n",
    "\n",
    "## Pisanie pakietów\n",
    "Pakiety to przestrzenie nazw zawierające wiele pakietów i samych modułów. Są to po prostu katalogi, ale z niespodzianką.\n",
    "\n",
    "Każdy pakiet w Pythonie jest katalogiem, który MUSI zawierać specjalny plik o nazwie **\\__ init\\__.py **. Ten plik może być pusty, wskazuje on, że katalog, który zawiera, jest pakietem Pythona, więc można go importować w ten sam sposób, w jaki można zaimportować moduł.\n",
    "\n",
    "Jeśli utworzymy katalog o nazwie foo, który oznacza nazwę pakietu, możemy utworzyć moduł wewnątrz tego pakietu o nazwie bar. Nie możemy również zapomnieć o dodaniu pliku **\\__init\\__.py ** wewnątrz katalogu foo.\n",
    "\n",
    "Aby korzystać z modułu bar, należy go zaimportować na jeden z dwóch sposobów:"
   ]
  },
  {
   "cell_type": "code",
   "execution_count": null,
   "metadata": {
    "collapsed": true
   },
   "outputs": [],
   "source": [
    "# To tylko przykład, który nie zadziała\n",
    "import foo.bar"
   ]
  },
  {
   "cell_type": "code",
   "execution_count": null,
   "metadata": {
    "collapsed": true
   },
   "outputs": [],
   "source": [
    "# lub możemy zrobić to w ten sposób\n",
    "from foo import bar"
   ]
  },
  {
   "cell_type": "markdown",
   "metadata": {},
   "source": [
    "W pierwszej metodzie musimy użyć prefiksu foo za każdym razem, gdy wchodzimy w moduł bar. W drugiej metodzie tego nie robimy, ponieważ importujemy moduł do przestrzeni nazw naszego modułu.\n",
    "\n",
    "Plik **\\__init\\__.py ** może również decydować, które moduły pakiet eksportuje jako interfejs API, zachowując inne moduły wewnętrzne, zastępując zmienną **\\__all\\__**, jak na przykład:"
   ]
  },
  {
   "cell_type": "code",
   "execution_count": null,
   "metadata": {
    "collapsed": true
   },
   "outputs": [],
   "source": [
    "__init__.py:\n",
    "\n",
    "__all__ = [\"bar\"]"
   ]
  }
 ],
 "metadata": {
  "kernelspec": {
   "display_name": "Python 2",
   "language": "python",
   "name": "python2"
  },
  "language_info": {
   "codemirror_mode": {
    "name": "ipython",
    "version": 2
   },
   "file_extension": ".py",
   "mimetype": "text/x-python",
   "name": "python",
   "nbconvert_exporter": "python",
   "pygments_lexer": "ipython2",
   "version": "2.7.14"
  }
 },
 "nbformat": 4,
 "nbformat_minor": 1
}
