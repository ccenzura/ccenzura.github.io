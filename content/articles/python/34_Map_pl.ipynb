{
 "cells": [
  {
   "cell_type": "markdown",
   "metadata": {},
   "source": [
    "# Funkcja map()\n",
    "+ date: 2018-01-03\n",
    "+ category: python\n",
    "+ tags: map"
   ]
  },
  {
   "cell_type": "markdown",
   "metadata": {},
   "source": [
    "# map()\n",
    "\n",
    "map () jest funkcją, która przyjmuje dwa argumenty: funkcję i sekwencję iterowalną. W formie:\n",
    "     map(funkcja, sekwencja)\n",
    "    \n",
    "Pierwszym argumentem jest nazwa funkcji, a drugim sekwencja (na przykład lista). map() stosuje tę funkcję do wszystkich elementów sekwencji. Zwraca nową listę z elementami zmienionymi przez funkcję.\n",
    "\n",
    "Wykozrystaliśmy list comprehension aby stworzyć małe wyrażenie, które przekształca Fahrenheita w Celsjusza. Zróbmy to samo, ale użyjmy funkcji map().\n",
    "\n",
    "Zaczniemy od dwóch funkcji:"
   ]
  },
  {
   "cell_type": "code",
   "execution_count": 1,
   "metadata": {
    "collapsed": true
   },
   "outputs": [],
   "source": [
    "def fahrenheit(T):\n",
    "    return ((float(9)/5)*T + 32)\n",
    "def celsius(T):\n",
    "    return (float(5)/9)*(T-32)\n",
    "    \n",
    "temp = [0, 22.5, 40,100]"
   ]
  },
  {
   "cell_type": "markdown",
   "metadata": {},
   "source": [
    "Zobaczmy funkcję map() w akcji:"
   ]
  },
  {
   "cell_type": "code",
   "execution_count": 3,
   "metadata": {},
   "outputs": [
    {
     "data": {
      "text/plain": [
       "[32.0, 72.5, 104.0, 212.0]"
      ]
     },
     "execution_count": 3,
     "metadata": {},
     "output_type": "execute_result"
    }
   ],
   "source": [
    "F_temps = map(fahrenheit, temp)\n",
    "\n",
    "# Wypisz\n",
    "F_temps"
   ]
  },
  {
   "cell_type": "code",
   "execution_count": 4,
   "metadata": {},
   "outputs": [
    {
     "data": {
      "text/plain": [
       "[0.0, 22.5, 40.0, 100.0]"
      ]
     },
     "execution_count": 4,
     "metadata": {},
     "output_type": "execute_result"
    }
   ],
   "source": [
    "# Konwertowanie ponownie do celsjusa\n",
    "map(celsius, F_temps)"
   ]
  },
  {
   "cell_type": "markdown",
   "metadata": {},
   "source": [
    "W przykładzie powyżej nie użyliśmy wyrażenia lambda. Używając lambda, nie musielibyśmy definiować i nazywać funkcji fahrenheit() i celsius()."
   ]
  },
  {
   "cell_type": "code",
   "execution_count": 5,
   "metadata": {},
   "outputs": [
    {
     "data": {
      "text/plain": [
       "[0.0, 22.5, 40.0, 100.0]"
      ]
     },
     "execution_count": 5,
     "metadata": {},
     "output_type": "execute_result"
    }
   ],
   "source": [
    "map(lambda x: (5.0/9)*(x - 32), F_temps)"
   ]
  },
  {
   "cell_type": "markdown",
   "metadata": {},
   "source": [
    "Super! Mamy ten sam wynik! Funkcja map() jest znacznie częściej używana z wyrażeniami lambda, ponieważ cała idea map() ma na celu zaoszczędzenie wysiłku na konieczności tworzenia specjalnie pętli."
   ]
  },
  {
   "cell_type": "markdown",
   "metadata": {},
   "source": [
    "map() może być wykorzsytywane na więcej niż jednej iterowalnej sekwencji. Jednakże sekwencje muszą mieć tę samą długość/ilość elmentów.\n",
    "\n",
    "Na przykład, jeśli pracujemy z dwiema listami - map() zastosuje funkcję lambda do elementów list argumentów, tj. najpierw zastosujemy ją do elementów o indeksie 0, a następnie do elementów o indeksie 1, aż do n - osiągnięto indeks.\n",
    "\n",
    "Aby lepiej zrozumieć użyjmy map() oraz wyrażenia lambda w przykładzie z dwiema listami:"
   ]
  },
  {
   "cell_type": "code",
   "execution_count": 6,
   "metadata": {},
   "outputs": [
    {
     "data": {
      "text/plain": [
       "[6, 8, 10, 12]"
      ]
     },
     "execution_count": 6,
     "metadata": {},
     "output_type": "execute_result"
    }
   ],
   "source": [
    "a = [1,2,3,4]\n",
    "b = [5,6,7,8]\n",
    "c = [9,10,11,12]\n",
    "\n",
    "map(lambda x,y:x+y,a,b)"
   ]
  },
  {
   "cell_type": "code",
   "execution_count": 7,
   "metadata": {},
   "outputs": [
    {
     "data": {
      "text/plain": [
       "[15, 18, 21, 24]"
      ]
     },
     "execution_count": 7,
     "metadata": {},
     "output_type": "execute_result"
    }
   ],
   "source": [
    "# Teraz wykorzystajmy wszystkie 3 lsity\n",
    "map(lambda x,y,z:x+y+z, a,b,c)"
   ]
  },
  {
   "cell_type": "markdown",
   "metadata": {},
   "source": [
    "W powyższym przykładzie widać, że parametr x otrzymuje swoje wartości z listy a, podczas gdy y otrzymuje jego wartości z b i z z listy c. Śmiało sprawdź na własnym przykładzie czy poprawnie zrozumiałeś funkcję map().\n",
    "\n",
    "Dobra robota! Powinieneś teraz mieć podstawową wiedzę na temat funkcji map ()."
   ]
  }
 ],
 "metadata": {
  "kernelspec": {
   "display_name": "Python 2",
   "language": "python",
   "name": "python2"
  },
  "language_info": {
   "codemirror_mode": {
    "name": "ipython",
    "version": 2
   },
   "file_extension": ".py",
   "mimetype": "text/x-python",
   "name": "python",
   "nbconvert_exporter": "python",
   "pygments_lexer": "ipython2",
   "version": "2.7.14"
  }
 },
 "nbformat": 4,
 "nbformat_minor": 1
}
