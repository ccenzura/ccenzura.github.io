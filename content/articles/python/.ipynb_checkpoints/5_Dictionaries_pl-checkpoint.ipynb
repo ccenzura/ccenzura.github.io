{
 "cells": [
  {
   "cell_type": "markdown",
   "metadata": {},
   "source": [
    "# Dictionaries (pl. *Słowniki*)\n",
    "+ date: 2017-11-21\n",
    "+ category: python\n",
    "+ tags: python, dictionary"
   ]
  },
  {
   "cell_type": "markdown",
   "metadata": {},
   "source": [
    "Uczyliśmy się o * sekwencjach * w Pythonie, ale teraz zmienimy zagadnienia i zgłebimy *mapowanie* w Pythonie. Jeśli znasz inne języki, możesz uważać te słowniki za tabele mieszające.\n",
    "\n",
    "Ta sekcja posłuży jako krótkie wprowadzenie do słowników i składa się z:\n",
    "\n",
    "     1.) Tworzenie dictionaries\n",
    "     2.) Dostęp do obiektów z dictionary\n",
    "     3.) Zagnieżdżanie dictionaries\n",
    "     4.) Podstawowe metody dictionaries\n",
    "\n",
    "Więc czym jest Dictionaries? Dictionaries są zbiorami obiektów przechowywanych z użyciem *klucza*, w przeciwieństwie do sekwencji przechowującej obiekty według ich względnej pozycji. Jest to ważna różnica, ponieważ dictionaries nie zachowują porządku (kolejności), ponieważ obiekty są zdefiniowane przez klucz.\n",
    "\n",
    "Dictionary w języku Python składa się z klucza, a następnie z powiązanej wartości. Ta wartość może być prawie dowolnym obiektem Pythona.\n",
    "\n",
    "## Tworzenie dictionaries\n",
    "Stwórzmy pierwszy dictionary, w ten sposób zrozumiemy jak działają."
   ]
  },
  {
   "cell_type": "code",
   "execution_count": 1,
   "metadata": {
    "collapsed": true
   },
   "outputs": [],
   "source": [
    "# Stwórz dictionary używając { } oraz : do oznaczenia klucza oraz wartość\n",
    "my_dict = {'klucz1':'wartosc1','klucz2':'wartosc2'}"
   ]
  },
  {
   "cell_type": "code",
   "execution_count": 3,
   "metadata": {},
   "outputs": [
    {
     "data": {
      "text/plain": [
       "'wartosc2'"
      ]
     },
     "execution_count": 3,
     "metadata": {},
     "output_type": "execute_result"
    }
   ],
   "source": [
    "# Wywołaj wartość klucza\n",
    "my_dict['klucz2']"
   ]
  },
  {
   "cell_type": "markdown",
   "metadata": {},
   "source": [
    "Bardzo ważne jest, że słowniki są bardzo elestyczne i mogą przechowywać różne typy danych. Poniżej kilka przykładów:"
   ]
  },
  {
   "cell_type": "code",
   "execution_count": 4,
   "metadata": {
    "collapsed": true
   },
   "outputs": [],
   "source": [
    "my_dict = {'klucz1':123,'klucz2':[12,23,33],'klucz3':['elem0','elem1','elem2']}"
   ]
  },
  {
   "cell_type": "code",
   "execution_count": 6,
   "metadata": {},
   "outputs": [
    {
     "data": {
      "text/plain": [
       "['elem0', 'elem1', 'elem2']"
      ]
     },
     "execution_count": 6,
     "metadata": {},
     "output_type": "execute_result"
    }
   ],
   "source": [
    "# Wywołaj elementy ze słownika\n",
    "my_dict['klucz3']"
   ]
  },
  {
   "cell_type": "code",
   "execution_count": 7,
   "metadata": {},
   "outputs": [
    {
     "data": {
      "text/plain": [
       "'elem0'"
      ]
     },
     "execution_count": 7,
     "metadata": {},
     "output_type": "execute_result"
    }
   ],
   "source": [
    "# Możesz wywołać wartość konkretnego elementu z listy stanowiacej wartość jednego z kluczy\n",
    "my_dict['klucz3'][0]"
   ]
  },
  {
   "cell_type": "code",
   "execution_count": 8,
   "metadata": {},
   "outputs": [
    {
     "data": {
      "text/plain": [
       "'ELEM0'"
      ]
     },
     "execution_count": 8,
     "metadata": {},
     "output_type": "execute_result"
    }
   ],
   "source": [
    "# Wywołując ten element możesz wykorzystać nawet metody\n",
    "my_dict['klucz3'][0].upper()"
   ]
  },
  {
   "cell_type": "markdown",
   "metadata": {},
   "source": [
    "Możemy takżw wywołać samą wartość klucza"
   ]
  },
  {
   "cell_type": "code",
   "execution_count": 9,
   "metadata": {},
   "outputs": [
    {
     "data": {
      "text/plain": [
       "123"
      ]
     },
     "execution_count": 9,
     "metadata": {},
     "output_type": "execute_result"
    }
   ],
   "source": [
    "my_dict['klucz1']"
   ]
  },
  {
   "cell_type": "code",
   "execution_count": 10,
   "metadata": {
    "collapsed": true
   },
   "outputs": [],
   "source": [
    "# Odejmowanie 123 od wartości klucza\n",
    "my_dict['klucz1'] = my_dict['klucz1'] - 123"
   ]
  },
  {
   "cell_type": "code",
   "execution_count": 11,
   "metadata": {},
   "outputs": [
    {
     "data": {
      "text/plain": [
       "0"
      ]
     },
     "execution_count": 11,
     "metadata": {},
     "output_type": "execute_result"
    }
   ],
   "source": [
    "#Check\n",
    "my_dict['klucz1']"
   ]
  },
  {
   "cell_type": "markdown",
   "metadata": {},
   "source": [
    "Zwróć uwagę, na fakt że Python posiada wbudowane metody self subtraction oraz addition (multiplication i division). Nie wiem jak to przetłumaczyć, także zobacz przykład a zrozumiesz."
   ]
  },
  {
   "cell_type": "code",
   "execution_count": 12,
   "metadata": {},
   "outputs": [
    {
     "data": {
      "text/plain": [
       "-123"
      ]
     },
     "execution_count": 12,
     "metadata": {},
     "output_type": "execute_result"
    }
   ],
   "source": [
    "# Ustaw wartość obiektu, jego wartość - 123\n",
    "my_dict['klucz1'] -= 123\n",
    "my_dict['klucz1']"
   ]
  },
  {
   "cell_type": "markdown",
   "metadata": {},
   "source": [
    "Istnieje możliwość tworzenie klucza poprzez przypisanie. Na przykład, jeżeli utworzymy pusty słownik możemy do neigo dodawać pary klucz:wartość"
   ]
  },
  {
   "cell_type": "code",
   "execution_count": 13,
   "metadata": {
    "collapsed": true
   },
   "outputs": [],
   "source": [
    "# Stwórz nowy słownik\n",
    "d = {}"
   ]
  },
  {
   "cell_type": "code",
   "execution_count": 14,
   "metadata": {
    "collapsed": true
   },
   "outputs": [],
   "source": [
    "# Dodaj nowy klucz wraz w wartościa\n",
    "d['animal'] = 'Dog'"
   ]
  },
  {
   "cell_type": "code",
   "execution_count": 15,
   "metadata": {
    "collapsed": true
   },
   "outputs": [],
   "source": [
    "# Można tak robić z rożnymi obiektami\n",
    "d['answer'] = 42"
   ]
  },
  {
   "cell_type": "code",
   "execution_count": 18,
   "metadata": {},
   "outputs": [
    {
     "data": {
      "text/plain": [
       "{'animal': 'Dog', 'answer': 42}"
      ]
     },
     "execution_count": 18,
     "metadata": {},
     "output_type": "execute_result"
    }
   ],
   "source": [
    "# Wyświetl\n",
    "d"
   ]
  },
  {
   "cell_type": "markdown",
   "metadata": {},
   "source": [
    "## Zagnieżdżanie dictionaries\n",
    "\n",
    "Mam nadzieję, że zaczynasz widzieć, jak potężny jest Python dzięki możliwości elestycznego zagnieżdżania obiektów oraz możliwości wywoływania na nich metod. Zobaczmy dictionary zagnieżdżony w dictionary:"
   ]
  },
  {
   "cell_type": "code",
   "execution_count": 20,
   "metadata": {
    "collapsed": true
   },
   "outputs": [],
   "source": [
    "# Dictionary zagnieżdżony w dictionary zagnieżdżony w dictionary\n",
    "d = {'klucz1':{'zagklucz':{'zagnieklucz':'wartosc'}}}"
   ]
  },
  {
   "cell_type": "markdown",
   "metadata": {},
   "source": [
    "To jest podstawowa funkcjonalność i koncepcja używania dictionaries. Czas wyciągnać wartość z powyższego słownika:"
   ]
  },
  {
   "cell_type": "code",
   "execution_count": 21,
   "metadata": {},
   "outputs": [
    {
     "data": {
      "text/plain": [
       "'wartosc'"
      ]
     },
     "execution_count": 21,
     "metadata": {},
     "output_type": "execute_result"
    }
   ],
   "source": [
    "# Keep calling the keys\n",
    "d['klucz1']['zagklucz']['zagnieklucz']"
   ]
  },
  {
   "cell_type": "markdown",
   "metadata": {},
   "source": [
    "## Kilka metod dictionaries\n",
    "\n",
    "Poniżej możesz zobaczyć kilka podstawowych metod jakie można wykorzystać pracując z dictionaries. Zerknij poniżej, a polubisz je jeszcze bardziej:"
   ]
  },
  {
   "cell_type": "code",
   "execution_count": 22,
   "metadata": {
    "collapsed": true
   },
   "outputs": [],
   "source": [
    "# Stwórz typowy dictionary\n",
    "d = {'klucz1':1,'klucz2':2,'klucz3':3}"
   ]
  },
  {
   "cell_type": "code",
   "execution_count": 23,
   "metadata": {},
   "outputs": [
    {
     "data": {
      "text/plain": [
       "['klucz1', 'klucz3', 'klucz2']"
      ]
     },
     "execution_count": 23,
     "metadata": {},
     "output_type": "execute_result"
    }
   ],
   "source": [
    "# Metoda zwracająca wszytkie klucze z dictionary\n",
    "d.keys()"
   ]
  },
  {
   "cell_type": "code",
   "execution_count": 24,
   "metadata": {},
   "outputs": [
    {
     "data": {
      "text/plain": [
       "[1, 3, 2]"
      ]
     },
     "execution_count": 24,
     "metadata": {},
     "output_type": "execute_result"
    }
   ],
   "source": [
    "# Metoda zwracająca wszystkie wartości dictionary\n",
    "d.values()"
   ]
  },
  {
   "cell_type": "code",
   "execution_count": 25,
   "metadata": {},
   "outputs": [
    {
     "data": {
      "text/plain": [
       "[('klucz1', 1), ('klucz3', 3), ('klucz2', 2)]"
      ]
     },
     "execution_count": 25,
     "metadata": {},
     "output_type": "execute_result"
    }
   ],
   "source": [
    "# Metoda zwracająca w postaci tupli (pl. krotki) wszsytkie elementy dictionary (o tuplach niebawem)\n",
    "d.items()"
   ]
  },
  {
   "cell_type": "markdown",
   "metadata": {},
   "source": [
    "Sądzę, żep osaidasz już podstawową wiedzę na temat sposobu budowy oraz pracy z dictionaries. Znacznie więcej o dictionaries nauczymy się w dalszej części kursu. Po tej lekcji najważniejsze jest abyś wiedział jak tworzyć dictionary oraz jak odczytywać z niego wartości."
   ]
  }
 ],
 "metadata": {
  "kernelspec": {
   "display_name": "Python 2",
   "language": "python",
   "name": "python2"
  },
  "language_info": {
   "codemirror_mode": {
    "name": "ipython",
    "version": 2
   },
   "file_extension": ".py",
   "mimetype": "text/x-python",
   "name": "python",
   "nbconvert_exporter": "python",
   "pygments_lexer": "ipython2",
   "version": "2.7.14"
  }
 },
 "nbformat": 4,
 "nbformat_minor": 1
}
