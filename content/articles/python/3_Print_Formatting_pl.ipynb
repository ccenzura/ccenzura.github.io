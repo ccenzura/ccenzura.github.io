{
 "cells": [
  {
   "cell_type": "markdown",
   "metadata": {},
   "source": [
    "# Print Formatting\n",
    "+ date: 2017-11-16\n",
    "+ category: python\n",
    "+ tags: python, print"
   ]
  },
  {
   "cell_type": "markdown",
   "metadata": {},
   "source": [
    "W tej lekcji krótko omówimy różne sposoby formatowania instrukcji wywołania. W miarę jak będziesz kodował coraz więcej, prawdopodobnie będziesz potrzebował mieć instrukcje wywołania, które mogą przyjmować zmienną do wywoływanej instrukcji string.\n",
    "\n",
    "Najprostszym przykładem polecenia print jest:"
   ]
  },
  {
   "cell_type": "code",
   "execution_count": 1,
   "metadata": {},
   "outputs": [
    {
     "name": "stdout",
     "output_type": "stream",
     "text": [
      "To jest string\n"
     ]
    }
   ],
   "source": [
    "print 'To jest string' # pamiętaj, że w python 3 print jest funkcją print('To jest string')"
   ]
  },
  {
   "cell_type": "markdown",
   "metadata": {},
   "source": [
    "## Strings\n",
    "Możesz użyć %s aby sformatować string w instrukcji wywołania."
   ]
  },
  {
   "cell_type": "code",
   "execution_count": 3,
   "metadata": {},
   "outputs": [
    {
     "name": "stdout",
     "output_type": "stream",
     "text": [
      "Umieść kolejny string za pomocą procent i s: STRING\n"
     ]
    }
   ],
   "source": [
    "s = 'STRING'\n",
    "print 'Umieść kolejny string za pomocą procent i s: %s' %(s)"
   ]
  },
  {
   "cell_type": "markdown",
   "metadata": {},
   "source": [
    "## Floating Point Numbers\n",
    "\n",
    "Liczby zmiennoprzecinkowe używają formatu %n1.n2f, gdzie n1 jest całkowitą minimalną liczbą cyfr, które powinien zawierać ciąg znaków (mogą one być wypełnione białymi spacjami, jeśli cały numer nie ma tak wielu cyfr). Symbol n2 oznacza ilość liczb po przecinku odzielającym wartości całkowite od wartości dziesiętnych (ułamkowych). Zobaczmy kilka przykładów:"
   ]
  },
  {
   "cell_type": "code",
   "execution_count": 5,
   "metadata": {},
   "outputs": [
    {
     "name": "stdout",
     "output_type": "stream",
     "text": [
      "Liczby zmiennoprzecinkowe: 13.14\n"
     ]
    }
   ],
   "source": [
    "print 'Liczby zmiennoprzecinkowe: %1.2f' %(13.144)"
   ]
  },
  {
   "cell_type": "code",
   "execution_count": 6,
   "metadata": {},
   "outputs": [
    {
     "name": "stdout",
     "output_type": "stream",
     "text": [
      "Liczby zmiennoprzecinkowe: 13\n"
     ]
    }
   ],
   "source": [
    "print 'Liczby zmiennoprzecinkowe: %1.0f' %(13.144)"
   ]
  },
  {
   "cell_type": "code",
   "execution_count": 7,
   "metadata": {},
   "outputs": [
    {
     "name": "stdout",
     "output_type": "stream",
     "text": [
      "Liczby zmiennoprzecinkowe: 13.14400\n"
     ]
    }
   ],
   "source": [
    "print 'Liczby zmiennoprzecinkowe: %1.5f' %(13.144)"
   ]
  },
  {
   "cell_type": "code",
   "execution_count": 8,
   "metadata": {},
   "outputs": [
    {
     "name": "stdout",
     "output_type": "stream",
     "text": [
      "Liczby zmiennoprzecinkowe:      13.14\n"
     ]
    }
   ],
   "source": [
    "# jeżeli ilość cyfr liczby całkowitej jest mniejsza niż określone w  automatycznie dowane są spacje\n",
    "print 'Liczby zmiennoprzecinkowe: %10.2f' %(13.144) "
   ]
  },
  {
   "cell_type": "code",
   "execution_count": 9,
   "metadata": {},
   "outputs": [
    {
     "name": "stdout",
     "output_type": "stream",
     "text": [
      "Liczby zmiennoprzecinkowe:                     13.14\n"
     ]
    }
   ],
   "source": [
    "print 'Liczby zmiennoprzecinkowe: %25.2f' %(13.144)"
   ]
  },
  {
   "cell_type": "markdown",
   "metadata": {},
   "source": [
    "## Metody konwersji\n",
    "Zwróć uwagę, że dwie metody %s i %r faktycznie konwertują dowolny obiekt Pythona na ciąg znaków przy użyciu dwóch oddzielnych metod: str() i repr(). Dowiesz się więcej o tych funkcjach w dalszej części kursu, ale powinieneś zauważyć, że możesz przekazać prawie każdy obiekt w Pythonie za pomocą tych dwóch metod:"
   ]
  },
  {
   "cell_type": "code",
   "execution_count": 10,
   "metadata": {},
   "outputs": [
    {
     "name": "stdout",
     "output_type": "stream",
     "text": [
      "Tu jest liczba: 123.1. Tu jest string: hi\n"
     ]
    }
   ],
   "source": [
    "print 'Tu jest liczba: %s. Tu jest string: %s' %(123.1,'hi')"
   ]
  },
  {
   "cell_type": "code",
   "execution_count": 11,
   "metadata": {},
   "outputs": [
    {
     "name": "stdout",
     "output_type": "stream",
     "text": [
      "Tu jest liczba: 123.1. Tu jest string: 'hi'\n"
     ]
    }
   ],
   "source": [
    "print 'Tu jest liczba: %r. Tu jest string: %r' %(123.1,'hi')"
   ]
  },
  {
   "cell_type": "markdown",
   "metadata": {},
   "source": [
    "## Formatowanie wielokrotne\n",
    "Aby zastosować formatowanie wielokrotne po string w ( ) (tuple pl. *krotka*, lecz o tym później), poniższy przykład wyjaśni sposób działania. "
   ]
  },
  {
   "cell_type": "code",
   "execution_count": 12,
   "metadata": {},
   "outputs": [
    {
     "name": "stdout",
     "output_type": "stream",
     "text": [
      "Pierwszy: hi!, Drugi: 3.14, Trzeci: 22\n"
     ]
    }
   ],
   "source": [
    "print 'Pierwszy: %s, Drugi: %1.2f, Trzeci: %r' %('hi!',3.14,22)"
   ]
  },
  {
   "cell_type": "markdown",
   "metadata": {},
   "source": [
    "## Stosowanie metody string .format()\n",
    "Najlepszym sposobem do wstawienia zawartości obiektu do string przy użyciu print jest zastosowanie metody .format(). Składnia przedstawia się następująco:\n",
    "\n",
    "    'String tutaj {zmienna1} tutaj też {zmienna2}'.format(zmienna1='coś1',zmienna2='coś2')'\n",
    "    lub\n",
    "    'String {} tutaj też {}'.format(nazwa_zmiennej,'coś') \n",
    "    \n",
    "Poniżej kilka przykładów:"
   ]
  },
  {
   "cell_type": "code",
   "execution_count": 15,
   "metadata": {},
   "outputs": [
    {
     "name": "stdout",
     "output_type": "stream",
     "text": [
      "To jest string z insert\n"
     ]
    }
   ],
   "source": [
    "print 'To jest string z {p}'.format(p='insert')"
   ]
  },
  {
   "cell_type": "code",
   "execution_count": 16,
   "metadata": {},
   "outputs": [
    {
     "name": "stdout",
     "output_type": "stream",
     "text": [
      "Pierwszy: Hi!, Drugi: Hi!, Trzeci: Hi!\n"
     ]
    }
   ],
   "source": [
    "# Wileokrotne użycie\n",
    "print 'Pierwszy: {p}, Drugi: {p}, Trzeci: {p}'.format(p='Hi!')"
   ]
  },
  {
   "cell_type": "code",
   "execution_count": 17,
   "metadata": {},
   "outputs": [
    {
     "name": "stdout",
     "output_type": "stream",
     "text": [
      "Obiekt 1: 1, Obiekt 2: two, Obiekt 3: 12.3\n"
     ]
    }
   ],
   "source": [
    "# Kilka obiektów\n",
    "print 'Obiekt 1: {a}, Obiekt 2: {b}, Obiekt 3: {c}'.format(a=1,b='two',c=12.3)"
   ]
  },
  {
   "cell_type": "code",
   "execution_count": 19,
   "metadata": {},
   "outputs": [
    {
     "name": "stdout",
     "output_type": "stream",
     "text": [
      "Pierwszy raz, Drugi dwa\n"
     ]
    }
   ],
   "source": [
    "# Bez definiowania formatowia\n",
    "print 'Pierwszy {}, Drugi {}'.format('raz', 'dwa')"
   ]
  },
  {
   "cell_type": "code",
   "execution_count": 25,
   "metadata": {},
   "outputs": [
    {
     "name": "stdout",
     "output_type": "stream",
     "text": [
      "Ala ma kota\n"
     ]
    }
   ],
   "source": [
    "# Wykorzystanie w metodzie .format() wcześniej stworzonych zmiennych\n",
    "zmienna = 'kota'\n",
    "print 'Ala ma {}'.format(zmienna)"
   ]
  },
  {
   "cell_type": "code",
   "execution_count": 26,
   "metadata": {},
   "outputs": [
    {
     "name": "stdout",
     "output_type": "stream",
     "text": [
      "Ala ma kota\n"
     ]
    }
   ],
   "source": [
    "# Wykorzystanie w metodzie .format() wcześniej stworzonych zmiennych\n",
    "zmienna = 'kota'\n",
    "print 'Ala ma {a}'.format(a=zmienna)"
   ]
  },
  {
   "cell_type": "markdown",
   "metadata": {},
   "source": [
    "To są podstawy formatowania print. Pamiętaj, że w Pythonie 3 print jest metodą i stosuje się ją print().\n",
    "[Nieco więcej o formatowaniu print](https://pyformat.info/)"
   ]
  }
 ],
 "metadata": {
  "kernelspec": {
   "display_name": "Python 2",
   "language": "python",
   "name": "python2"
  },
  "language_info": {
   "codemirror_mode": {
    "name": "ipython",
    "version": 2
   },
   "file_extension": ".py",
   "mimetype": "text/x-python",
   "name": "python",
   "nbconvert_exporter": "python",
   "pygments_lexer": "ipython2",
   "version": "2.7.14"
  }
 },
 "nbformat": 4,
 "nbformat_minor": 1
}
