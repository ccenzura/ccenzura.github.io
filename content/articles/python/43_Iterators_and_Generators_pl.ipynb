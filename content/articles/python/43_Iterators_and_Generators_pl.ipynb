{
 "cells": [
  {
   "cell_type": "markdown",
   "metadata": {},
   "source": [
    "# Iteratory i genratory\n",
    "+ date: 2018-01-11\n",
    "+ category: python\n",
    "+ tags: iterator, genrator"
   ]
  },
  {
   "cell_type": "markdown",
   "metadata": {},
   "source": [
    "W tej części kursu dowiemy się jak jest różnica między iteracją i generacją w Pythonie oraz o tym, jak skonstruować własne generatory za pomocą instrukcji *yield*. Generatory pozwalają nam generować, gdy idziemy dalej, zamiast trzymać wszystko w pamięci.\n",
    "\n",
    "W przeszłości poruszaliśmy ten temat, omawiając funkcję range() w Pythonie 2 i podobnym xrange(), z tą różnicą, że xrange() było generatorem.\n",
    "\n",
    "Dowiedzmy sie trochę więcej. Nauczyliśmy się jak tworzyć funkcje za pomocą wrażenia **def** i **return**. Funkcje generatora pozwalają nam napisać funkcję, która może odesłać wartość, a następnie wznowić ją, aby ją wykorzystać w odpowiednim momencie. Ten typ funkcji jest generatorem w Pythonie, pozwala to generować sekwencję wartości w czasie rzeczywistym. Podstawową różnicą w składni będzie użycie instrukcji **yield**.\n",
    "\n",
    "W większości aspektów funkcja generatora będzie wyglądała bardzo podobnie do normalnej funkcji. Główna różnica polega na tym, że podczas kompilacji funkcji generatora staje się obiektem obsługującym protokół iteracyjny. Oznacza to, że kiedy są wywoływane w twoim kodzie, nie zwracają wartości a następnie kończą, funkcje generatora automatycznie wstrzymują i wznawiają ich wykonywanie i określają ostatni punkt wygenerowanej wartości. Główną zaletą jest to, że nie jest wyliczaana cała seria wartości z góry oraz fakt, że funkcje generatora mogą zostać zawieszone, ta funkcja jest znana jako **state suspension** (pl. *zawieszenie stanu*).\n",
    "\n",
    "Aby lepiej zrozumieć generatory, przejdź dalej i zobacz, jak możemy je utworzyć."
   ]
  },
  {
   "cell_type": "code",
   "execution_count": 11,
   "metadata": {
    "collapsed": true
   },
   "outputs": [],
   "source": [
    "# Funkcja generatora podnosząca do potęgi 3 daną liczbę\n",
    "def gen_potega3(n):\n",
    "    for liczba in range(n):\n",
    "        yield liczba**3"
   ]
  },
  {
   "cell_type": "code",
   "execution_count": 12,
   "metadata": {},
   "outputs": [
    {
     "name": "stdout",
     "output_type": "stream",
     "text": [
      "0\n",
      "1\n",
      "8\n",
      "27\n",
      "64\n",
      "125\n",
      "216\n",
      "343\n",
      "512\n",
      "729\n"
     ]
    }
   ],
   "source": [
    "for x in gen_potega3(10):\n",
    "    print x"
   ]
  },
  {
   "cell_type": "markdown",
   "metadata": {},
   "source": [
    "Extra! Teraz kiedy mamy genarator nie potrzebujemy śledzić każdej liczby podniesionej do potęgi 3. \n",
    "\n",
    "Generatory są najlepsze do obliczania dużych zbiorów (ang. *sets*) wyników (szczególnie w obliczeniach obejmujących pętle) w przypadkach kiedy nie chcemy przydzielić pamięci dla wszystkich wyników w tym samym czasie. \n",
    "\n",
    "Jak zauważyłeś w poprzednich lekcjach (takich jak range()) wiele funkcji biblioteki standardowej, które zwracają listy w Pythonie 2, zostało zmodyfikowanych tak, aby zwracały generatory w Pythonie 3.\n",
    "\n",
    "Zobaczmy klejny przykład generujący [ciąg fibonacciego](https://pl.wikipedia.org/wiki/Ci%C4%85g_Fibonacciego):"
   ]
  },
  {
   "cell_type": "code",
   "execution_count": 15,
   "metadata": {
    "collapsed": true
   },
   "outputs": [],
   "source": [
    "def gen_fibon(n):\n",
    "    '''\n",
    "    Generuj sekwencję fibonacciego do wartości n\n",
    "    '''\n",
    "    a = 1\n",
    "    b = 1\n",
    "    for i in range(n):\n",
    "        yield a\n",
    "        a,b = b,a+b"
   ]
  },
  {
   "cell_type": "code",
   "execution_count": 17,
   "metadata": {},
   "outputs": [
    {
     "name": "stdout",
     "output_type": "stream",
     "text": [
      "1\n",
      "1\n",
      "2\n",
      "3\n",
      "5\n",
      "8\n",
      "13\n",
      "21\n",
      "34\n",
      "55\n"
     ]
    }
   ],
   "source": [
    "for liczba in gen_fibon(10):\n",
    "    print liczba"
   ]
  },
  {
   "cell_type": "markdown",
   "metadata": {},
   "source": [
    "Jak wyglądałaby normalna funkcja generująca ciąg fibonacciego? Patrz poniżej:"
   ]
  },
  {
   "cell_type": "code",
   "execution_count": 18,
   "metadata": {
    "collapsed": true
   },
   "outputs": [],
   "source": [
    "def fibon(n):\n",
    "    a = 1\n",
    "    b = 1\n",
    "    output = []\n",
    "    \n",
    "    for i in range(n):\n",
    "        output.append(a)\n",
    "        a,b = b,a+b\n",
    "        \n",
    "    return output"
   ]
  },
  {
   "cell_type": "code",
   "execution_count": 19,
   "metadata": {},
   "outputs": [
    {
     "data": {
      "text/plain": [
       "[1, 1, 2, 3, 5, 8, 13, 21, 34, 55]"
      ]
     },
     "execution_count": 19,
     "metadata": {},
     "output_type": "execute_result"
    }
   ],
   "source": [
    "fibon(10)"
   ]
  },
  {
   "cell_type": "markdown",
   "metadata": {},
   "source": [
    "Zwróć uwagę, że w przypadku wywołania większej liczby n (np 100000) druga funkcja (nrmalna) będzie śledzić każdy pojedynczy wynik. Natomiast generatory przechowują wyłącznie ostatnio otrzymany wynik i na jego podstawie tworzą następny."
   ]
  },
  {
   "cell_type": "markdown",
   "metadata": {},
   "source": [
    "## Wbudowane funkcje next() i iter() \n",
    "Aby w pełni zrozumieć generatory należey poznac jeszcze funkcję next() oraz iter().\n",
    "\n",
    "Funkcja next() umożliwia nam dostęp do następnego elementu w sekwencji."
   ]
  },
  {
   "cell_type": "code",
   "execution_count": 22,
   "metadata": {
    "collapsed": true
   },
   "outputs": [],
   "source": [
    "def prosty_gen():\n",
    "    for x in range(3):\n",
    "        yield x"
   ]
  },
  {
   "cell_type": "code",
   "execution_count": 24,
   "metadata": {},
   "outputs": [],
   "source": [
    "# Przypisanie prosty_gen\n",
    "g = prosty_gen()"
   ]
  },
  {
   "cell_type": "code",
   "execution_count": 25,
   "metadata": {},
   "outputs": [
    {
     "name": "stdout",
     "output_type": "stream",
     "text": [
      "0\n"
     ]
    }
   ],
   "source": [
    "print next(g)"
   ]
  },
  {
   "cell_type": "code",
   "execution_count": 26,
   "metadata": {},
   "outputs": [
    {
     "name": "stdout",
     "output_type": "stream",
     "text": [
      "1\n"
     ]
    }
   ],
   "source": [
    "print next(g)"
   ]
  },
  {
   "cell_type": "code",
   "execution_count": 27,
   "metadata": {},
   "outputs": [
    {
     "name": "stdout",
     "output_type": "stream",
     "text": [
      "2\n"
     ]
    }
   ],
   "source": [
    "print next(g)"
   ]
  },
  {
   "cell_type": "code",
   "execution_count": 28,
   "metadata": {},
   "outputs": [
    {
     "ename": "StopIteration",
     "evalue": "",
     "output_type": "error",
     "traceback": [
      "\u001b[0;31m---------------------------------------------------------------------------\u001b[0m",
      "\u001b[0;31mStopIteration\u001b[0m                             Traceback (most recent call last)",
      "\u001b[0;32m<ipython-input-28-d013a5691c47>\u001b[0m in \u001b[0;36m<module>\u001b[0;34m()\u001b[0m\n\u001b[0;32m----> 1\u001b[0;31m \u001b[0;32mprint\u001b[0m \u001b[0mnext\u001b[0m\u001b[0;34m(\u001b[0m\u001b[0mg\u001b[0m\u001b[0;34m)\u001b[0m\u001b[0;34m\u001b[0m\u001b[0m\n\u001b[0m",
      "\u001b[0;31mStopIteration\u001b[0m: "
     ]
    }
   ],
   "source": [
    "print next(g)"
   ]
  },
  {
   "cell_type": "markdown",
   "metadata": {},
   "source": [
    "Po uzyskaniu wszystkich wartość korzystając z next() spowodował StopIteration error. Błąd ten informuje nas, że wszystkie wartosci zostały wydane.\n",
    "\n",
    "Możesz zastanawiać się dlaczego nie otrzymaliśmy tego błędu kiedy używaliśmy pętli for? Otóż, pętla for automatycznie wyłapuje ten błąd i przestaje wyoływać funkcję next().\n",
    "\n",
    "Idźmy dalej! Sprawdźmy jak używać funkcji iter(). Pamiętaj, że strings są iterowalne:"
   ]
  },
  {
   "cell_type": "code",
   "execution_count": 29,
   "metadata": {},
   "outputs": [
    {
     "name": "stdout",
     "output_type": "stream",
     "text": [
      "w\n",
      "e\n",
      "l\n",
      "c\n",
      "o\n",
      "m\n",
      "e\n"
     ]
    }
   ],
   "source": [
    "s = 'welcome'\n",
    "\n",
    "# Iterowanie po string\n",
    "for let in s:\n",
    "    print let"
   ]
  },
  {
   "cell_type": "markdown",
   "metadata": {},
   "source": [
    "Nie oznacza to że sam string jest *iteratorem*! Możemy sprawdzić to za pomocą funkcji next():"
   ]
  },
  {
   "cell_type": "code",
   "execution_count": 30,
   "metadata": {},
   "outputs": [
    {
     "ename": "TypeError",
     "evalue": "str object is not an iterator",
     "output_type": "error",
     "traceback": [
      "\u001b[0;31m---------------------------------------------------------------------------\u001b[0m",
      "\u001b[0;31mTypeError\u001b[0m                                 Traceback (most recent call last)",
      "\u001b[0;32m<ipython-input-30-bc0566bea448>\u001b[0m in \u001b[0;36m<module>\u001b[0;34m()\u001b[0m\n\u001b[0;32m----> 1\u001b[0;31m \u001b[0mnext\u001b[0m\u001b[0;34m(\u001b[0m\u001b[0ms\u001b[0m\u001b[0;34m)\u001b[0m\u001b[0;34m\u001b[0m\u001b[0m\n\u001b[0m",
      "\u001b[0;31mTypeError\u001b[0m: str object is not an iterator"
     ]
    }
   ],
   "source": [
    "next(s)"
   ]
  },
  {
   "cell_type": "markdown",
   "metadata": {},
   "source": [
    "Ciekawe, oznacza to że ogiekt string obsługuje iteracje, lecz nie możemy go bezpośrednio poddać iteracji tak jak to zrobiliśmy z funkcją generującą. Funkcja iter() pozwala nam to zrobić!"
   ]
  },
  {
   "cell_type": "code",
   "execution_count": 35,
   "metadata": {
    "collapsed": true
   },
   "outputs": [],
   "source": [
    "s_iter = iter(s)"
   ]
  },
  {
   "cell_type": "code",
   "execution_count": 36,
   "metadata": {},
   "outputs": [
    {
     "data": {
      "text/plain": [
       "'w'"
      ]
     },
     "execution_count": 36,
     "metadata": {},
     "output_type": "execute_result"
    }
   ],
   "source": [
    "next(s_iter)"
   ]
  },
  {
   "cell_type": "code",
   "execution_count": 37,
   "metadata": {},
   "outputs": [
    {
     "data": {
      "text/plain": [
       "'e'"
      ]
     },
     "execution_count": 37,
     "metadata": {},
     "output_type": "execute_result"
    }
   ],
   "source": [
    "next(s_iter) # i tak aż do końca stringa"
   ]
  },
  {
   "cell_type": "markdown",
   "metadata": {},
   "source": [
    "Super! Teraz już wiesz jak konwertować obiekty, które są iteracyjne na same iteratory!\n",
    "\n",
    "Główną informacją z tego wykładu jest to, że użycie słowa kluczowego yield w funkcji spowoduje, że funkcja stanie się generatorem. Ta zmiana może zaoszczędzić dużo pamięci w przypadk użycia dużych wartości. Aby uzyskać więcej informacji na temat generatorów sprawdź:\n",
    "\n",
    "[Stack Overflow Answer](http://stackoverflow.com/questions/1756096/understanding-generators-in-python)\n",
    "\n",
    "[Another StackOverflow Answer](http://stackoverflow.com/questions/231767/what-does-the-yield-keyword-do-in-python)"
   ]
  }
 ],
 "metadata": {
  "kernelspec": {
   "display_name": "Python 2",
   "language": "python",
   "name": "python2"
  },
  "language_info": {
   "codemirror_mode": {
    "name": "ipython",
    "version": 2
   },
   "file_extension": ".py",
   "mimetype": "text/x-python",
   "name": "python",
   "nbconvert_exporter": "python",
   "pygments_lexer": "ipython2",
   "version": "2.7.14"
  }
 },
 "nbformat": 4,
 "nbformat_minor": 1
}
