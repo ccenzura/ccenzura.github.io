{
 "cells": [
  {
   "cell_type": "markdown",
   "metadata": {},
   "source": [
    "# Funkcja filter()\n",
    "+ date: 2018-01-08\n",
    "+ category: python\n",
    "+ tags: filter"
   ]
  },
  {
   "cell_type": "markdown",
   "metadata": {},
   "source": [
    "## filter()\n",
    "\n",
    "filter(funkcja, lista) oferuje wygodny sposób odfiltrowania wszystkich elementów iteracji, dla których funkcja zwraca True.\n",
    "\n",
    "Funkcja filter(funkcja(), l) potrzebuje funkcji jako pierwszego argumentu. Funkcja musi zwracać wartość typu Boolean (True lub False). Ta funkcja zostanie zastosowana do każdego elementu sekwencji. Tylko jeśli funkcja zwróci wartość True, element sekwencji zostanie uwzględniony w wyniku.\n",
    "\n",
    "Zobaczmy kilka przykładów:"
   ]
  },
  {
   "cell_type": "code",
   "execution_count": 2,
   "metadata": {
    "collapsed": true
   },
   "outputs": [],
   "source": [
    "# najpierw stwórzmy funkcję\n",
    "def czy_parzysty(num):\n",
    "    if num%2 ==0:\n",
    "        return True"
   ]
  },
  {
   "cell_type": "markdown",
   "metadata": {},
   "source": [
    "Teraz przefiltrujmy listę numerów. Zauważ, że funkcja wewnątrz filter podawana jest bez nawiasów, pamiętaj że funkcja też jest obiektem."
   ]
  },
  {
   "cell_type": "code",
   "execution_count": 3,
   "metadata": {},
   "outputs": [
    {
     "data": {
      "text/plain": [
       "[0, 2, 4, 6, 8, 10, 12, 14, 16, 18]"
      ]
     },
     "execution_count": 3,
     "metadata": {},
     "output_type": "execute_result"
    }
   ],
   "source": [
    "lista =range(20)\n",
    "\n",
    "filter(czy_parzysty,lista)"
   ]
  },
  {
   "cell_type": "markdown",
   "metadata": {},
   "source": [
    "filter() jest często stosowane z wyrażeniem lambda. Przewaznie podczas filtrowania stosujemy proste funkcje, tak więc unikamy definiowania oddzielnych obiektów w postaci funkcji. Poniżej powyższy przykład wykorzystujący wyrażenie lambda:"
   ]
  },
  {
   "cell_type": "code",
   "execution_count": 4,
   "metadata": {},
   "outputs": [
    {
     "data": {
      "text/plain": [
       "[0, 2, 4, 6, 8, 10, 12, 14, 16, 18]"
      ]
     },
     "execution_count": 4,
     "metadata": {},
     "output_type": "execute_result"
    }
   ],
   "source": [
    "filter(lambda x: x%2==0,lista)"
   ]
  },
  {
   "cell_type": "markdown",
   "metadata": {},
   "source": [
    "Super! Teraz powinieneś już dobrze rozumieć sposób działania funkcji filter() i będziesz wiedział jak ją zastosować w swoim kodzie."
   ]
  },
  {
   "cell_type": "code",
   "execution_count": null,
   "metadata": {
    "collapsed": true
   },
   "outputs": [],
   "source": []
  }
 ],
 "metadata": {
  "kernelspec": {
   "display_name": "Python 2",
   "language": "python",
   "name": "python2"
  },
  "language_info": {
   "codemirror_mode": {
    "name": "ipython",
    "version": 2
   },
   "file_extension": ".py",
   "mimetype": "text/x-python",
   "name": "python",
   "nbconvert_exporter": "python",
   "pygments_lexer": "ipython2",
   "version": "2.7.14"
  }
 },
 "nbformat": 4,
 "nbformat_minor": 1
}
