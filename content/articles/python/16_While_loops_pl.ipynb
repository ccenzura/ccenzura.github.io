{
 "cells": [
  {
   "cell_type": "markdown",
   "metadata": {},
   "source": [
    "# Pętla while\n",
    "+ date: 2017-11-28\n",
    "+ categoty: python\n",
    "+ tags: python, while, loop"
   ]
  },
  {
   "cell_type": "markdown",
   "metadata": {},
   "source": [
    "Instrukcja **while** w Pythonie jest jedną z najczęściej wykorzystywaną instrukcją do iteracji. Pętla **while** jest wykonuje zawarte w niej instrukcje tak długo jak jej warunek nie jest True. Stąd też nazwa loop (pl. *pętla*), ponieważ instrukcja jest wykonywana w pętli.\n",
    "\n",
    "Ogólny format pętli while wygląda następująco:\n",
    "\n",
    "    while warunek:\n",
    "        powtarzana instrukcja\n",
    "    else:\n",
    "        finalna instrukcja\n",
    "        \n",
    "Zobaczmy tereaz kilka przykładów."
   ]
  },
  {
   "cell_type": "code",
   "execution_count": 1,
   "metadata": {},
   "outputs": [
    {
     "name": "stdout",
     "output_type": "stream",
     "text": [
      "x aktualne:  0\n",
      " x jest nadal mniejsze niż 10, dodaj 1 do x\n",
      "x aktualne:  1\n",
      " x jest nadal mniejsze niż 10, dodaj 1 do x\n",
      "x aktualne:  2\n",
      " x jest nadal mniejsze niż 10, dodaj 1 do x\n",
      "x aktualne:  3\n",
      " x jest nadal mniejsze niż 10, dodaj 1 do x\n",
      "x aktualne:  4\n",
      " x jest nadal mniejsze niż 10, dodaj 1 do x\n",
      "x aktualne:  5\n",
      " x jest nadal mniejsze niż 10, dodaj 1 do x\n",
      "x aktualne:  6\n",
      " x jest nadal mniejsze niż 10, dodaj 1 do x\n",
      "x aktualne:  7\n",
      " x jest nadal mniejsze niż 10, dodaj 1 do x\n",
      "x aktualne:  8\n",
      " x jest nadal mniejsze niż 10, dodaj 1 do x\n",
      "x aktualne:  9\n",
      " x jest nadal mniejsze niż 10, dodaj 1 do x\n"
     ]
    }
   ],
   "source": [
    "x = 0\n",
    "\n",
    "while x < 10:\n",
    "    print 'x aktualne: ',x\n",
    "    print ' x jest nadal mniejsze niż 10, dodaj 1 do x'\n",
    "    x+=1"
   ]
  },
  {
   "cell_type": "markdown",
   "metadata": {},
   "source": [
    "Zwróć uwagę, ile razy została wykonana instaukcja print i jak działa pętla while, dopóki nie zostanie spełniony warunek True, który został spełniony raz x == 10. Ważne jest, aby pamiętać, że po wystąpieniu tego zdarzenia kod zatrzymuje się. Zobaczmy, jak możemy dodać instrukcję else:"
   ]
  },
  {
   "cell_type": "code",
   "execution_count": 9,
   "metadata": {},
   "outputs": [
    {
     "name": "stdout",
     "output_type": "stream",
     "text": [
      "x akrualne:  0\n",
      " x jest nadal mniejsze niż 10, dodaj 1 do x\n",
      "x akrualne:  1\n",
      " x jest nadal mniejsze niż 10, dodaj 1 do x\n",
      "x akrualne:  2\n",
      " x jest nadal mniejsze niż 10, dodaj 1 do x\n",
      "x akrualne:  3\n",
      " x jest nadal mniejsze niż 10, dodaj 1 do x\n",
      "x akrualne:  4\n",
      " x jest nadal mniejsze niż 10, dodaj 1 do x\n",
      "x akrualne:  5\n",
      " x jest nadal mniejsze niż 10, dodaj 1 do x\n",
      "x akrualne:  6\n",
      " x jest nadal mniejsze niż 10, dodaj 1 do x\n",
      "x akrualne:  7\n",
      " x jest nadal mniejsze niż 10, dodaj 1 do x\n",
      "x akrualne:  8\n",
      " x jest nadal mniejsze niż 10, dodaj 1 do x\n",
      "x akrualne:  9\n",
      " x jest nadal mniejsze niż 10, dodaj 1 do x\n",
      "Zrobione!\n"
     ]
    }
   ],
   "source": [
    "x = 0\n",
    "\n",
    "while x < 10:\n",
    "    print 'x akrualne: ',x\n",
    "    print ' x jest nadal mniejsze niż 10, dodaj 1 do x'\n",
    "    x+=1\n",
    "    \n",
    "else:\n",
    "    print 'Zrobione!'"
   ]
  },
  {
   "cell_type": "markdown",
   "metadata": {},
   "source": [
    "## break, continue, pass\n",
    "\n",
    "Możemy użyć instrukcji break, continue i pass w naszej pętli w celu rozszerzenia funkcjonalności w różnych przypadkach. Definista tych trzech instrukcji jest nastepująca:\n",
    "\n",
    "    break: Powoduje zakończenie pętli.\n",
    "    continue: Umożliwia pominięcie bloku instrukcji poniżej continue.\n",
    "    pass: Nic nie robi.\n",
    "    \n",
    "\n",
    "Mówiąc o instrukcjach **break** i **continue**, mam na myśli poniższy format pętli:\n",
    "\n",
    "    while warunek: \n",
    "        powtarzana instrukcja\n",
    "        if warunek: \n",
    "            break\n",
    "        if warunek: \n",
    "            continue \n",
    "    else:\n",
    "\n",
    "Instrukcje **break** i **continue** mogą występować gdziekolwiek wewnątrz pętli, lecz będziemy je najczęsciej stosować w zagnieżdżonych koniunkcjach z instrukcją **if** aby zostały wykonane w przypadku spełnienia określonego warunku.\n",
    "\n",
    "Poniższe przykłądy powinny przybiżyć Ci sposób działania pętli:"
   ]
  },
  {
   "cell_type": "code",
   "execution_count": 11,
   "metadata": {},
   "outputs": [
    {
     "name": "stdout",
     "output_type": "stream",
     "text": [
      "x aktualne:  0\n",
      " x nadal jest mniejsze niż 10, dodaj 1 do x\n",
      "kontynuuj...\n",
      "x aktualne:  1\n",
      " x nadal jest mniejsze niż 10, dodaj 1 do x\n",
      "kontynuuj...\n",
      "x aktualne:  2\n",
      " x nadal jest mniejsze niż 10, dodaj 1 do x\n",
      "x==3\n",
      "x aktualne:  3\n",
      " x nadal jest mniejsze niż 10, dodaj 1 do x\n",
      "kontynuuj...\n",
      "x aktualne:  4\n",
      " x nadal jest mniejsze niż 10, dodaj 1 do x\n",
      "kontynuuj...\n",
      "x aktualne:  5\n",
      " x nadal jest mniejsze niż 10, dodaj 1 do x\n",
      "kontynuuj...\n",
      "x aktualne:  6\n",
      " x nadal jest mniejsze niż 10, dodaj 1 do x\n",
      "kontynuuj...\n",
      "x aktualne:  7\n",
      " x nadal jest mniejsze niż 10, dodaj 1 do x\n",
      "kontynuuj...\n",
      "x aktualne:  8\n",
      " x nadal jest mniejsze niż 10, dodaj 1 do x\n",
      "kontynuuj...\n",
      "x aktualne:  9\n",
      " x nadal jest mniejsze niż 10, dodaj 1 do x\n",
      "kontynuuj...\n"
     ]
    }
   ],
   "source": [
    "x = 0\n",
    "\n",
    "while x < 10:\n",
    "    print 'x aktualne: ',x\n",
    "    print ' x nadal jest mniejsze niż 10, dodaj 1 do x'\n",
    "    x+=1\n",
    "    if x ==3:\n",
    "        print 'x==3'\n",
    "    else:\n",
    "        print 'kontynuuj...'\n",
    "        continue"
   ]
  },
  {
   "cell_type": "markdown",
   "metadata": {},
   "source": [
    "Zwróć uwagę, że mamy wywołaną instrukcję print kiedy x==3 i kontynuujemy pętlę przechodząc przez zewnętrzną pętlę. Wstawmy break przy warunku x==3 i sprawdźmy jaki bedzie wynik:"
   ]
  },
  {
   "cell_type": "code",
   "execution_count": 13,
   "metadata": {},
   "outputs": [
    {
     "name": "stdout",
     "output_type": "stream",
     "text": [
      "x aktualny:  0\n",
      " x nadal jest mniejszy niż 10, dodaj 1 do x\n",
      "kontynuuj...\n",
      "x aktualny:  1\n",
      " x nadal jest mniejszy niż 10, dodaj 1 do x\n",
      "kontynuuj...\n",
      "x aktualny:  2\n",
      " x nadal jest mniejszy niż 10, dodaj 1 do x\n",
      "zatrzymaj (break) ponieważ x==3\n"
     ]
    }
   ],
   "source": [
    "x = 0\n",
    "while x < 10:\n",
    "    print 'x aktualny: ',x\n",
    "    print ' x nadal jest mniejszy niż 10, dodaj 1 do x'\n",
    "    x+=1\n",
    "    if x ==3:\n",
    "        print 'zatrzymaj (break) ponieważ x==3'\n",
    "        break\n",
    "    else:\n",
    "        print 'kontynuuj...'\n",
    "        continue"
   ]
  },
  {
   "cell_type": "markdown",
   "metadata": {},
   "source": [
    "Teraz wnętrze instrukcji else nie zostało wywołane!\n",
    "\n",
    "Po tym krótkim wprowadzeniu powinieneś już potrafić wykorzystywać intrukcję **while** w swoim kodzie.\n",
    "\n",
    "**Uwaga!! Możliwe jest też utowrzenie pętli nieskończonej z wykorzystaniem instrukcji while. Przykład poniżej:**"
   ]
  },
  {
   "cell_type": "code",
   "execution_count": null,
   "metadata": {},
   "outputs": [],
   "source": [
    "# Nie uruchamiaj tego kodu!!!! \n",
    "while True:\n",
    "    print 'O nie to jest pętla nieskończona'"
   ]
  }
 ],
 "metadata": {
  "kernelspec": {
   "display_name": "Python 2",
   "language": "python",
   "name": "python2"
  },
  "language_info": {
   "codemirror_mode": {
    "name": "ipython",
    "version": 2
   },
   "file_extension": ".py",
   "mimetype": "text/x-python",
   "name": "python",
   "nbconvert_exporter": "python",
   "pygments_lexer": "ipython2",
   "version": "2.7.14"
  }
 },
 "nbformat": 4,
 "nbformat_minor": 1
}
