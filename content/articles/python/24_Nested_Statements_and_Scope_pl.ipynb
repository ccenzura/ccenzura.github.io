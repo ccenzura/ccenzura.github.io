{
 "cells": [
  {
   "cell_type": "markdown",
   "metadata": {},
   "source": [
    "# Instrukcje zagnieżdżone i zasięg (ang. *Nested Statements and Scope*)\n",
    "+ date: 2017-12-14\n",
    "+ categoty: python\n",
    "+ tags: nested, scope"
   ]
  },
  {
   "cell_type": "markdown",
   "metadata": {},
   "source": [
    "Teraz, kiedy już wiemy jak tworzyć własne funkcje, ważne jest, aby zrozumieć, w jaki sposób Python radzi sobie z przypisanymi im nazwami zmiennych. Kiedy tworzysz nazwę zmiennej w Pythonie, nazwa jest przechowywana w *name-space*. Nazwy zmiennych mają także *zasięg*, zakres określa widoczność nazwy tej zmiennej w innych częściach kodu.\n",
    "\n",
    "Zacznijmy od szybkiego eksperymentu, wyobraź sobie następujący kod:"
   ]
  },
  {
   "cell_type": "code",
   "execution_count": 1,
   "metadata": {},
   "outputs": [
    {
     "name": "stdout",
     "output_type": "stream",
     "text": [
      "25\n",
      "50\n"
     ]
    }
   ],
   "source": [
    "x = 25\n",
    "def printer():\n",
    "    x = 50\n",
    "    return x\n",
    "print x\n",
    "print printer()"
   ]
  },
  {
   "cell_type": "markdown",
   "metadata": {},
   "source": [
    "Co zwraca funkcja printer(), 25 czy 50? Co zwraca print x, 25 czy 50?"
   ]
  },
  {
   "cell_type": "code",
   "execution_count": 2,
   "metadata": {},
   "outputs": [
    {
     "name": "stdout",
     "output_type": "stream",
     "text": [
      "25\n"
     ]
    }
   ],
   "source": [
    "print x"
   ]
  },
  {
   "cell_type": "code",
   "execution_count": 3,
   "metadata": {},
   "outputs": [
    {
     "name": "stdout",
     "output_type": "stream",
     "text": [
      "50\n"
     ]
    }
   ],
   "source": [
    "print printer()"
   ]
  },
  {
   "cell_type": "markdown",
   "metadata": {},
   "source": [
    "Ciekawe! Skąd Python wie, do którego **x** chcesz się odwołać w swoim kodzie? Tutaj ma zastosowanie idea scope. Python posiada zestaw zasad określających, do której zmiennej (jak w naszym przypadku *x*) możemy się odwołać.\n",
    "\n",
    "Poznajmy te reguły:"
   ]
  },
  {
   "cell_type": "markdown",
   "metadata": {},
   "source": [
    "Idea scope w tworzonym kodzie jest bardzo ważne aby zrozumieć jak prawidłowo przypisywać i wywoływać nazwy zmiennych.\n",
    "\n",
    "W uproszczeniu pojęcie scope można opisać za pomocą 3 ogólnych reguł:\n",
    "\n",
    "1. Podczas przypisywania zmiennych są tworzone nowe nazwy lub są one nadpisywane.\n",
    "2. Python wyszukuje danej nazwy w (maksymalnie) czterech zasięgach, są to:\n",
    "    * local (pl. *localne*)\n",
    "    * enclosing functions (pl. *obudowane funkcjami*)\n",
    "    * global (pl. *globalne*)\n",
    "    * built-in (pl. *wbudowane*)\n",
    "3. Nazwy przypisane w instrukcjach globalnych i nielokalnych mapują przypisane im nazwy do modułu i zakresu funkcji.\n",
    "\n",
    "\n",
    "Reguła z punktu 2 definiują reguły LEGB.\n",
    "\n",
    "** Zasaday LEGB. **\n",
    "L: Local - Nazwy przypisane w jakikolwiek sposób w ramach funkcji (def lub lambda)) i nie deklarowane jako globalne w danej funkcji.\n",
    "\n",
    "E: Enclosing function locals (pl. *Obudowane zmienne lokalne przez funkcje*) - Nazwy o lokalnym zasięgu  wewnątrz dowolnych i wszystkich otaczających funkcji (def lub lambda), od wewnętrznej do zewnętrznej.\n",
    "\n",
    "G: Global (moduł) - Nazwy przypislane na najwyższym poziomie pliku modułu lub zadeklarowane globalnie w def w pliku.\n",
    "\n",
    "B: Built-in (pl. *Wbudowany*) (w Pythona) - Nazwy wstępnie przypisane w wbudowanym module nazw: open, range, SyntaxError, ..."
   ]
  },
  {
   "cell_type": "markdown",
   "metadata": {},
   "source": [
    "## Szybkie przykłądy LEGB\n",
    "\n",
    "### Local"
   ]
  },
  {
   "cell_type": "code",
   "execution_count": 5,
   "metadata": {},
   "outputs": [],
   "source": [
    "# x jest tutaj lokalną zmienną:\n",
    "f = lambda x:x**2"
   ]
  },
  {
   "cell_type": "markdown",
   "metadata": {},
   "source": [
    "### Obudowane zmienne lokalne przez funkcje\n",
    "Dzieję się tak kiedy mamy funkcję wewnątrz funkcji (zagnieżdzone funkcje)"
   ]
  },
  {
   "cell_type": "code",
   "execution_count": 6,
   "metadata": {},
   "outputs": [
    {
     "name": "stdout",
     "output_type": "stream",
     "text": [
      "Hello Sammy\n"
     ]
    }
   ],
   "source": [
    "name = 'To jest zmmienna globalna'\n",
    "\n",
    "def pozdrow():\n",
    "    # Funkcja obudowująca\n",
    "    name = 'Sammy'\n",
    "    \n",
    "    def hello():\n",
    "        print 'Hello '+ name\n",
    "    \n",
    "    hello()\n",
    "\n",
    "pozdrow()"
   ]
  },
  {
   "cell_type": "markdown",
   "metadata": {},
   "source": [
    "Zwróć uwagę dlaczego został wywołany Sammy. Jest tak ponieważ funkcja hello jest obudowana przez funkcję pozdrow!\n",
    "Tak więc, pierwsza zmienna name zostaje nadpisana w funkcji pozdrow na 'Sammy'. Nastepnie funkcja hello wykorzystuje wartość zmiennej name z funkcji obudowującej pozdrow."
   ]
  },
  {
   "cell_type": "markdown",
   "metadata": {},
   "source": [
    "### Global\n",
    "Na szczęście w Jupyter szybką metodą sprawdzenia zmiennych globalnych jest sprawdzenie, czy inna komórka rozpoznaje zmienną!"
   ]
  },
  {
   "cell_type": "code",
   "execution_count": 8,
   "metadata": {},
   "outputs": [
    {
     "name": "stdout",
     "output_type": "stream",
     "text": [
      "To jest zmmienna globalna\n"
     ]
    }
   ],
   "source": [
    "print name"
   ]
  },
  {
   "cell_type": "markdown",
   "metadata": {},
   "source": [
    "### Built-in\n",
    "Python posiada wiele wbudowanych funkcje, którch nazw nie powinno się wykorzystywać do tworzenia własnych zmiennych!"
   ]
  },
  {
   "cell_type": "code",
   "execution_count": 9,
   "metadata": {},
   "outputs": [
    {
     "data": {
      "text/plain": [
       "<function len>"
      ]
     },
     "execution_count": 9,
     "metadata": {},
     "output_type": "execute_result"
    }
   ],
   "source": [
    "len"
   ]
  },
  {
   "cell_type": "markdown",
   "metadata": {},
   "source": [
    "## Local Variables\n",
    "Gdy deklarujesz zmienne w definicji funkcji, nie są one w żaden sposób powiązane z innymi zmiennymi o tych samych nazwach, które są używane poza funkcją. Nazwy zmiennych są lokalne wyłącznie wewnątrz funkcji. Nazywa się to zakresem (ang. *scope*) zmiennej. Wszystkie zmienne mają zakres bloku zdeklarowane od punktu definicji nazwy."
   ]
  },
  {
   "cell_type": "code",
   "execution_count": 11,
   "metadata": {},
   "outputs": [
    {
     "name": "stdout",
     "output_type": "stream",
     "text": [
      "x is 50\n",
      "Zmieniono zmienną lokalną x na 2\n",
      "x nadal wynosi 50\n"
     ]
    }
   ],
   "source": [
    "x = 50\n",
    "\n",
    "def funkcja(x):\n",
    "    print 'x to', x\n",
    "    x = 2\n",
    "    print 'Zmieniono zmienną lokalną x na', x\n",
    "\n",
    "funkcja(x)\n",
    "print 'x nadal wynosi', x"
   ]
  },
  {
   "cell_type": "markdown",
   "metadata": {},
   "source": [
    "Za pierwszym razem, gdy wywołujemy wartość nazwy x z pierwszym wierszu funkcji, Python używa wartości parametru zadeklarowanego w głównym bloku, powyżej definicji funkcji.\n",
    "\n",
    "Następnie przypisujemy wartość 2 do zmiennej x. Zmienna x jest lokalna dla naszej funkcji. Tak więc, gdy zmienimy wartość x w funkcji, x zdefiniowany w głównym bloku pozostaje niezmieniony.\n",
    "\n",
    "Za pomocą ostatniego polecenia print wyświetlamy wartość x zdefiniowaną w głównym bloku, potwierdzając tym samym, że faktycznie nie ma wpływu na lokalne przypisanie w poprzednio wywołanej funkcji."
   ]
  },
  {
   "cell_type": "markdown",
   "metadata": {},
   "source": [
    "## The global statement (pl. *wyrażenie global*)\n",
    "Jeśli chcesz przypisać wartość do nazwy zdefiniowanej na najwyższym poziomie programu (tj. Nie wewnątrz jakiegokolwiek zakresu, takiego jak funkcji lub klasy), musisz powiedzieć Pythonowi, że nazwa nie jest lokalna, lecz jest globalna. Robimy to za pomocą wyrażenia global. Niemożliwe jest przypisanie wartości do zmiennej zdefiniowanej poza funkcją bez wyrażenia global.\n",
    "\n",
    "Możesz użyć wartości takich zmiennych zdefiniowanych poza funkcją (zakładając, że w ramach tej funkcji nie ma zmiennej o tej samej nazwie). Nie jest to jednak zlecane i należy tego unikać, ponieważ osoba czynająca później kod nie wie, skąd się bierze ta zmienna. Korzystanie z wyrażenia gobal wyraźnie stwierdza, że zmienna jest zdefiniowana w najbardziej zewnętrznym bloku."
   ]
  },
  {
   "cell_type": "code",
   "execution_count": 15,
   "metadata": {},
   "outputs": [
    {
     "name": "stdout",
     "output_type": "stream",
     "text": [
      "Przed wywołaniem funkcja() x  50\n",
      "Teraz ta funkcja wykorzystuje globalną zmienną x!\n",
      "Globalna zmienna x to  50\n",
      "Wywołanie funkcji(), zmienia wartość zmiennej globalnej x na  2\n",
      "Wartość x (poza funkcja()) to  2\n"
     ]
    }
   ],
   "source": [
    "x = 50\n",
    "def funkcja():\n",
    "    global x\n",
    "    print 'Teraz ta funkcja wykorzystuje globalną zmienną x!'\n",
    "    print 'Globalna zmienna x to ', x\n",
    "    x = 2\n",
    "    print 'Wywołanie funkcji(), zmienia wartość zmiennej globalnej x na ', x\n",
    "print 'Przed wywołaniem funkcja() x ', x\n",
    "funkcja()\n",
    "print 'Wartość x (poza funkcja()) to ', x"
   ]
  },
  {
   "cell_type": "markdown",
   "metadata": {
    "collapsed": true
   },
   "source": [
    "Wyrażenie global jest używane do zdeklarowania x jako zmienna globalna, więc kiedy wewnątrz funkcja() przypiszemy zmiennej x nową wartość, to modyfikujemy także wartość zmiennej x poza blokiem funkcji.\n",
    "\n",
    "Wykorzystując wyrażenie global możesz ustawić więcej niż jedną zmienną, np. *global x, y, z*"
   ]
  },
  {
   "cell_type": "markdown",
   "metadata": {
    "collapsed": true
   },
   "source": [
    "## Podsumowanie\n",
    "Teraz powinieneś już dobrze rozumieć Scope. Ostatnia informacja jest taka, że możesz użyć funkcji globals() i locals(), aby sprawdzić jakie są twoje bieżące lokalne i globalne zmienne.\n",
    "\n",
    "Powinieneś teraz dobrze zrozumieć Scope (możesz już intuicyjnie czuć się dobrze w Scope, co jest świetne!) Ostatnie wspomnienie jest takie, że możesz użyć funkcji globals () i locals (), aby sprawdzić, jakie są twoje bieżące lokalne i globalne zmienne.\n",
    "\n",
    "Kolejną bardzo ważna informacją jest to, że w Pythonie wszystko jest obiektem! Mogę do zmiennej przypisać funkcję tak jak i numbers. Będziemy poruszać ten temat podczas lekcji o dekoratorach!"
   ]
  }
 ],
 "metadata": {
  "kernelspec": {
   "display_name": "Python 2",
   "language": "python",
   "name": "python2"
  },
  "language_info": {
   "codemirror_mode": {
    "name": "ipython",
    "version": 2
   },
   "file_extension": ".py",
   "mimetype": "text/x-python",
   "name": "python",
   "nbconvert_exporter": "python",
   "pygments_lexer": "ipython2",
   "version": "2.7.14"
  }
 },
 "nbformat": 4,
 "nbformat_minor": 1
}
