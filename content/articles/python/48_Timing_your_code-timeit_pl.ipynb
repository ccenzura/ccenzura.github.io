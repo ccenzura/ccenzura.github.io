{
 "cells": [
  {
   "cell_type": "markdown",
   "metadata": {},
   "source": [
    "# Moduł timeit\n",
    "+ date: 2018-01-16\n",
    "+ category: python\n",
    "+ tags: timeit"
   ]
  },
  {
   "cell_type": "markdown",
   "metadata": {},
   "source": [
    "## Czas twojego kodu \n",
    "Czasami ważne jest, aby wiedzieć, jak długo trwa wykonywanie kodu, lub przynajmniej wiedzieć, czy konkretna linia kodu spowalnia cały projekt. W tym celu Python ma wbudowany moduł czasowy.\n",
    "\n",
    "Ten moduł zapewnia prosty sposób na pomiar czasu małych bitów kodu Pythona. Ma zarówno interfejs wiersza poleceń, jak i wywoływany. Pozwala to uniknąć wielu typowych pułapek przy mierzeniu czasów wykonania.\n",
    "\n",
    "Poznajmy timeit!"
   ]
  },
  {
   "cell_type": "code",
   "execution_count": 1,
   "metadata": {
    "collapsed": true
   },
   "outputs": [],
   "source": [
    "import timeit"
   ]
  },
  {
   "cell_type": "markdown",
   "metadata": {},
   "source": [
    "Użyjmy timeit do pomiaru czasu wykonania stringu '0-1-2-3-.....-99' za pomocą różnych metod.\n",
    "\n",
    "Przekażemy dwa argumenty, które przetestujemy, faktyczną linię kodu w postaci enkapsulowanej jako ciąg znaków oraz liczbę określającą ile raz chcemy uruchomić nasz kod w stringu. Tutaj wybieramy 10 000 razy, aby uzyskać wystarczająco wysokie liczby umożliwiające porównanie różnych metod."
   ]
  },
  {
   "cell_type": "code",
   "execution_count": 2,
   "metadata": {},
   "outputs": [
    {
     "data": {
      "text/plain": [
       "0.21494603157043457"
      ]
     },
     "execution_count": 2,
     "metadata": {},
     "output_type": "execute_result"
    }
   ],
   "source": [
    "# Pętla for\n",
    "timeit.timeit('\"-\".join(str(n) for n in range(100))', number=10000)"
   ]
  },
  {
   "cell_type": "code",
   "execution_count": 3,
   "metadata": {},
   "outputs": [
    {
     "data": {
      "text/plain": [
       "0.21930599212646484"
      ]
     },
     "execution_count": 3,
     "metadata": {},
     "output_type": "execute_result"
    }
   ],
   "source": [
    "# List comprehension\n",
    "timeit.timeit('\"-\".join([str(n) for n in range(100)])', number=10000)"
   ]
  },
  {
   "cell_type": "code",
   "execution_count": 4,
   "metadata": {},
   "outputs": [
    {
     "data": {
      "text/plain": [
       "0.13242816925048828"
      ]
     },
     "execution_count": 4,
     "metadata": {},
     "output_type": "execute_result"
    }
   ],
   "source": [
    "# Map()\n",
    "timeit.timeit('\"-\".join(map(str, range(100)))', number=10000)"
   ]
  },
  {
   "cell_type": "markdown",
   "metadata": {},
   "source": [
    "Ekstra! **Widzimy znaczną poprawę czasu przy wykorzystaniu funkcji map()! Dobrze o tym wiedzieć i powinniśmy o tym pamiętać.**\n",
    "\n",
    "Teraz wykorzystamy magiczną funkcję iPythona %timeit.\n",
    "\n",
    "% timeit programu iPython wykona kod w tej samej linii określoną liczbę razy (pętle) i zwróci najszybszy czas działania (najlepszy z 3).\n",
    "\n",
    "Powtórz powyższe badania używając magii iPythona!"
   ]
  },
  {
   "cell_type": "code",
   "execution_count": 5,
   "metadata": {},
   "outputs": [
    {
     "name": "stdout",
     "output_type": "stream",
     "text": [
      "100000 loops, best of 3: 16.2 µs per loop\n"
     ]
    }
   ],
   "source": [
    "%timeit \"-\".join(str(n) for n in range(100))"
   ]
  },
  {
   "cell_type": "code",
   "execution_count": 6,
   "metadata": {},
   "outputs": [
    {
     "name": "stdout",
     "output_type": "stream",
     "text": [
      "100000 loops, best of 3: 15.2 µs per loop\n"
     ]
    }
   ],
   "source": [
    "%timeit \"-\".join([str(n) for n in range(100)])"
   ]
  },
  {
   "cell_type": "code",
   "execution_count": 7,
   "metadata": {},
   "outputs": [
    {
     "name": "stdout",
     "output_type": "stream",
     "text": [
      "100000 loops, best of 3: 10.4 µs per loop\n"
     ]
    }
   ],
   "source": [
    "%timeit \"-\".join(map(str, range(100)))"
   ]
  },
  {
   "cell_type": "markdown",
   "metadata": {},
   "source": [
    "Super! Ważne jest również, aby pamiętać, że iPython ogranicza ilość *czasu rzeczywistego* wydanego na procedurę timeit. Na przykład, jeśli uruchomienie 100000 pętli zajęło 10 minut, iPython automatycznie zmniejszyłby liczbę pętli do czegoś bardziej sensownego, np. 100 lub 1000.\n",
    "\n",
    "Powinieneś teraz czuć się komfortowo w pracy z pomiarę czasu, zarówno w iPythonie, jak i poza nim. Sprawdź dokumentację, aby uzyskać więcej informacji:\n",
    "https://docs.python.org/2/library/timeit.html\n",
    "\n",
    "[Tutaj też zerknij](https://pl.wikibooks.org/wiki/Zanurkuj_w_Pythonie/Korzystanie_z_modu%C5%82u_timeit)"
   ]
  }
 ],
 "metadata": {
  "kernelspec": {
   "display_name": "Python 2",
   "language": "python",
   "name": "python2"
  },
  "language_info": {
   "codemirror_mode": {
    "name": "ipython",
    "version": 2
   },
   "file_extension": ".py",
   "mimetype": "text/x-python",
   "name": "python",
   "nbconvert_exporter": "python",
   "pygments_lexer": "ipython2",
   "version": "2.7.14"
  }
 },
 "nbformat": 4,
 "nbformat_minor": 1
}
