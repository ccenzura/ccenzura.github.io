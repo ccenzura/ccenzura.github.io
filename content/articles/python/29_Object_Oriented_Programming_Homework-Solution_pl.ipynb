{
 "cells": [
  {
   "cell_type": "markdown",
   "metadata": {},
   "source": [
    "# Programowanie obiektowe - praca domowa - rozwiązanie\n",
    "+ date: 2018-01-02\n",
    "+ category: python\n",
    "+ tags: homework, oop"
   ]
  },
  {
   "cell_type": "markdown",
   "metadata": {},
   "source": [
    "### Zadanie 1\n",
    "Wypełnij metody klasy Linia, aby przyjmowała współrzędne jako parę krotek, zwracała nachylenie oraz długość linii."
   ]
  },
  {
   "cell_type": "code",
   "execution_count": 7,
   "metadata": {
    "collapsed": true
   },
   "outputs": [],
   "source": [
    "class Linia(object):\n",
    "    \n",
    "    def __init__(self, wsp1, wsp2):\n",
    "        self.wsp1 = wsp1\n",
    "        self.wsp2 = wsp2\n",
    "    \n",
    "    def dlugosc(self):\n",
    "        x1,y1 = self.wsp1\n",
    "        x2,y2 = self.wsp2\n",
    "        return ( (x2-x1)**2 + (y2-y1)**2 )**0.5\n",
    "    \n",
    "    def nachylenie(self):\n",
    "        x1,y1 = self.wsp1\n",
    "        x2,y2 = self.wsp2\n",
    "        return float((y2-y1))/(x2-x1)"
   ]
  },
  {
   "cell_type": "code",
   "execution_count": 8,
   "metadata": {
    "collapsed": true
   },
   "outputs": [],
   "source": [
    "wspolrzedne1 = (3,2)\n",
    "wspolrzedne2 = (8,10)\n",
    "\n",
    "li = Linia(wspolrzedne1, wspolrzedne2)"
   ]
  },
  {
   "cell_type": "code",
   "execution_count": 9,
   "metadata": {},
   "outputs": [
    {
     "data": {
      "text/plain": [
       "9.433981132056603"
      ]
     },
     "execution_count": 9,
     "metadata": {},
     "output_type": "execute_result"
    }
   ],
   "source": [
    "li.dlugosc()"
   ]
  },
  {
   "cell_type": "code",
   "execution_count": 10,
   "metadata": {},
   "outputs": [
    {
     "data": {
      "text/plain": [
       "1.6"
      ]
     },
     "execution_count": 10,
     "metadata": {},
     "output_type": "execute_result"
    }
   ],
   "source": [
    "li.nachylenie()"
   ]
  },
  {
   "cell_type": "markdown",
   "metadata": {},
   "source": [
    "### Zadanie 2\n",
    "Uzypełnij klasę."
   ]
  },
  {
   "cell_type": "code",
   "execution_count": 18,
   "metadata": {
    "collapsed": true
   },
   "outputs": [],
   "source": [
    "class Cylinder(object):\n",
    "    \n",
    "    def __init__(self, wysokosc=1, promien=1):\n",
    "        self.wysokosc = wysokosc\n",
    "        self.promien = promien\n",
    "        \n",
    "    def objetosc(self):\n",
    "        return self.wysokosc * (3.14)* (self.promien)**2\n",
    "    \n",
    "    def powierzchnia_calkowita(self):\n",
    "        top = (3.14)* (self.promien)**2\n",
    "        return 2*top + 2*3.14*self.promien*self.wysokosc"
   ]
  },
  {
   "cell_type": "code",
   "execution_count": 19,
   "metadata": {
    "collapsed": true
   },
   "outputs": [],
   "source": [
    "c = Cylinder(2,3)"
   ]
  },
  {
   "cell_type": "code",
   "execution_count": 20,
   "metadata": {},
   "outputs": [
    {
     "data": {
      "text/plain": [
       "56.52"
      ]
     },
     "execution_count": 20,
     "metadata": {},
     "output_type": "execute_result"
    }
   ],
   "source": [
    "c.objetosc()"
   ]
  },
  {
   "cell_type": "code",
   "execution_count": 21,
   "metadata": {},
   "outputs": [
    {
     "data": {
      "text/plain": [
       "94.2"
      ]
     },
     "execution_count": 21,
     "metadata": {},
     "output_type": "execute_result"
    }
   ],
   "source": [
    "c.powierzchnia_calkowita()"
   ]
  }
 ],
 "metadata": {
  "kernelspec": {
   "display_name": "Python 2",
   "language": "python",
   "name": "python2"
  },
  "language_info": {
   "codemirror_mode": {
    "name": "ipython",
    "version": 2
   },
   "file_extension": ".py",
   "mimetype": "text/x-python",
   "name": "python",
   "nbconvert_exporter": "python",
   "pygments_lexer": "ipython2",
   "version": "2.7.14"
  }
 },
 "nbformat": 4,
 "nbformat_minor": 1
}
