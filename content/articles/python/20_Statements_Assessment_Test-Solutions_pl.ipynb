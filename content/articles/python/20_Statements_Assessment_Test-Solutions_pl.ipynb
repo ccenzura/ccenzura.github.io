{
 "cells": [
  {
   "cell_type": "markdown",
   "metadata": {},
   "source": [
    "# Wyrażenia - test sprawdzający - odpowiedzi\n",
    "+ date: 2017-11-28\n",
    "+ category: python\n",
    "+ tags: python, test, statements"
   ]
  },
  {
   "cell_type": "markdown",
   "metadata": {
    "collapsed": true
   },
   "source": [
    "Sprawdźmy Twoją wiedzę!"
   ]
  },
  {
   "cell_type": "markdown",
   "metadata": {},
   "source": [
    "_____\n",
    "**Użyj pętli for, funkcji split() oraz instrukcji if do stworzenia wyrażenia wypisującego wszystkie słowa zaczynające się na 'w'**"
   ]
  },
  {
   "cell_type": "code",
   "execution_count": 3,
   "metadata": {
    "collapsed": true
   },
   "outputs": [],
   "source": [
    "st = 'Wypisz z tego zdania wyłącznie słowa zaczynające się na literę w'"
   ]
  },
  {
   "cell_type": "code",
   "execution_count": 5,
   "metadata": {},
   "outputs": [
    {
     "name": "stdout",
     "output_type": "stream",
     "text": [
      "Wypisz\n",
      "wyłącznie\n",
      "w\n"
     ]
    }
   ],
   "source": [
    "for w in st.split():\n",
    "    if w[0] in [\"W\",\"w\"]:\n",
    "        print w"
   ]
  },
  {
   "cell_type": "markdown",
   "metadata": {},
   "source": [
    "______\n",
    "**Użyj funkcji range() aby wypisać wszystkie parzyste liczby od 0 do 10**"
   ]
  },
  {
   "cell_type": "code",
   "execution_count": 7,
   "metadata": {},
   "outputs": [
    {
     "data": {
      "text/plain": [
       "[0, 2, 4, 6, 8, 10]"
      ]
     },
     "execution_count": 7,
     "metadata": {},
     "output_type": "execute_result"
    }
   ],
   "source": [
    "range(0,11,2)"
   ]
  },
  {
   "cell_type": "markdown",
   "metadata": {},
   "source": [
    "___\n",
    "**Użyj list comprehension aby stworzyć listę liczb pomiędzy 1 a 50 podzielnych przez 3**"
   ]
  },
  {
   "cell_type": "code",
   "execution_count": 9,
   "metadata": {},
   "outputs": [
    {
     "data": {
      "text/plain": [
       "[3, 6, 9, 12, 15, 18, 21, 24, 27, 30, 33, 36, 39, 42, 45, 48]"
      ]
     },
     "execution_count": 9,
     "metadata": {},
     "output_type": "execute_result"
    }
   ],
   "source": [
    "a = [x for x in range (1,50) if x%3==0]\n",
    "a"
   ]
  },
  {
   "cell_type": "markdown",
   "metadata": {},
   "source": [
    "_____\n",
    "**Przejdź przez string poniżej i jeżeli długość danego słowa jest parzysta wypisz to słowo i komunikat \"parzysta!\"**"
   ]
  },
  {
   "cell_type": "code",
   "execution_count": 12,
   "metadata": {
    "collapsed": true
   },
   "outputs": [],
   "source": [
    "st = 'Wypisz kazde słowo z tego zdania jezeli dlugosc danego slowa jest parzysta'"
   ]
  },
  {
   "cell_type": "code",
   "execution_count": 15,
   "metadata": {},
   "outputs": [
    {
     "name": "stdout",
     "output_type": "stream",
     "text": [
      "Wypisz - parzysta!\n",
      "kazde - nieparzysta\n",
      "słowo - parzysta!\n",
      "z - nieparzysta\n",
      "tego - parzysta!\n",
      "zdania - parzysta!\n",
      "jezeli - parzysta!\n",
      "dlugosc - nieparzysta\n",
      "danego - parzysta!\n",
      "slowa - nieparzysta\n",
      "jest - parzysta!\n",
      "parzysta - parzysta!\n"
     ]
    }
   ],
   "source": [
    "for w in st.split():\n",
    "    if len(w) % 2 ==0:\n",
    "        print w, \"- parzysta!\"\n",
    "    else:\n",
    "        print w, \"- nieparzysta\""
   ]
  },
  {
   "cell_type": "markdown",
   "metadata": {},
   "source": [
    "____\n",
    "**Napisz program, który wypisze liczby od 1 do 100. Lecz dla wilokrotności liczby trzy wypisze \"Fizz\", a dla wielokrotności pięć wypisze \"Buzz\". Natomiast dla liczb będących wielokrotnośćią obu (trzy i pięć) wypisz \"FizzBuzz\"**"
   ]
  },
  {
   "cell_type": "code",
   "execution_count": 17,
   "metadata": {},
   "outputs": [
    {
     "name": "stdout",
     "output_type": "stream",
     "text": [
      "1\n",
      "2\n",
      "Fizz\n",
      "4\n",
      "Buzz\n",
      "Fizz\n",
      "7\n",
      "8\n",
      "Fizz\n",
      "Buzz\n",
      "11\n",
      "Fizz\n",
      "13\n",
      "14\n",
      "FizzBuzz\n",
      "16\n",
      "17\n",
      "Fizz\n",
      "19\n",
      "Buzz\n",
      "Fizz\n",
      "22\n",
      "23\n",
      "Fizz\n",
      "Buzz\n",
      "26\n",
      "Fizz\n",
      "28\n",
      "29\n",
      "FizzBuzz\n",
      "31\n",
      "32\n",
      "Fizz\n",
      "34\n",
      "Buzz\n",
      "Fizz\n",
      "37\n",
      "38\n",
      "Fizz\n",
      "Buzz\n",
      "41\n",
      "Fizz\n",
      "43\n",
      "44\n",
      "FizzBuzz\n",
      "46\n",
      "47\n",
      "Fizz\n",
      "49\n",
      "Buzz\n",
      "Fizz\n",
      "52\n",
      "53\n",
      "Fizz\n",
      "Buzz\n",
      "56\n",
      "Fizz\n",
      "58\n",
      "59\n",
      "FizzBuzz\n",
      "61\n",
      "62\n",
      "Fizz\n",
      "64\n",
      "Buzz\n",
      "Fizz\n",
      "67\n",
      "68\n",
      "Fizz\n",
      "Buzz\n",
      "71\n",
      "Fizz\n",
      "73\n",
      "74\n",
      "FizzBuzz\n",
      "76\n",
      "77\n",
      "Fizz\n",
      "79\n",
      "Buzz\n",
      "Fizz\n",
      "82\n",
      "83\n",
      "Fizz\n",
      "Buzz\n",
      "86\n",
      "Fizz\n",
      "88\n",
      "89\n",
      "FizzBuzz\n",
      "91\n",
      "92\n",
      "Fizz\n",
      "94\n",
      "Buzz\n",
      "Fizz\n",
      "97\n",
      "98\n",
      "Fizz\n",
      "Buzz\n"
     ]
    }
   ],
   "source": [
    "for num in xrange(1,101):\n",
    "    if num % 3 == 0 and num % 5 ==0:\n",
    "        print \"FizzBuzz\"\n",
    "    elif num % 3 == 0:\n",
    "        print \"Fizz\"\n",
    "    elif num % 5 ==0:\n",
    "        print \"Buzz\"\n",
    "    else:\n",
    "        print num"
   ]
  },
  {
   "cell_type": "markdown",
   "metadata": {},
   "source": [
    "____\n",
    "**Użyj list comprehension aby stworzyć listę pierwszych liter z każdego słowa ze zdania poniżej*** "
   ]
  },
  {
   "cell_type": "code",
   "execution_count": 18,
   "metadata": {
    "collapsed": true
   },
   "outputs": [],
   "source": [
    "st = 'Stwórz listę składającą się z pierwszych liter każdego wyrazu w tym zadaniu'"
   ]
  },
  {
   "cell_type": "code",
   "execution_count": 20,
   "metadata": {},
   "outputs": [
    {
     "data": {
      "text/plain": [
       "['S', 'l', 's', 's', 'z', 'p', 'l', 'k', 'w', 'w', 't', 'z']"
      ]
     },
     "execution_count": 20,
     "metadata": {},
     "output_type": "execute_result"
    }
   ],
   "source": [
    "lst = [l[0] for l in st.split()]\n",
    "lst"
   ]
  }
 ],
 "metadata": {
  "kernelspec": {
   "display_name": "Python 2",
   "language": "python",
   "name": "python2"
  },
  "language_info": {
   "codemirror_mode": {
    "name": "ipython",
    "version": 2
   },
   "file_extension": ".py",
   "mimetype": "text/x-python",
   "name": "python",
   "nbconvert_exporter": "python",
   "pygments_lexer": "ipython2",
   "version": "2.7.14"
  }
 },
 "nbformat": 4,
 "nbformat_minor": 1
}
