{
 "cells": [
  {
   "cell_type": "markdown",
   "metadata": {},
   "source": [
    "# Metody\n",
    "+ date: 2017-11-30\n",
    "+ category: python\n",
    "+ tags: python, methods"
   ]
  },
  {
   "cell_type": "markdown",
   "metadata": {},
   "source": [
    "Poznaliśmy już kilka przykładów metod podczas uczenia się o obiektach i typach danych w Pythonie. Metody są z zasady funkcjami wbudowanymi w obiekty. W dalszej części kursu dowiemy się, jak tworzyć własne obiekty, metody  i klasy zgodnie z Object Oriented Programming (OOP).\n",
    "\n",
    "Metody wykonują określone działania na obiekcie oraz mogą przyjmować argumenty, podobnie jak funkcję. Wykład ten będzie stanowić jedynie krótkie wprowadzenie do metod i pozwoli Ci zastanowić się nad ogólnymi zasadami projektowania metod, z którymi będziemy się do czynienia gdy dotrzemy do lekcji związanej z OOP.\n",
    "\n",
    "Metody są w formie:\n",
    "\n",
    "     object.method (arg1, arg2, etc ...)\n",
    "    \n",
    "Z czasem zrozumiesz, że o metodach  możemy myśleć jak o argumentach \"self\" odnoszących się do samego obiektu. Nie można zobaczyć tego argumentu, lecz będziemy go używać później w trakcie omawiania zagadnienia OOP.\n",
    "\n",
    "Zobaczmy jakie przykłady różnych metod ma lista:"
   ]
  },
  {
   "cell_type": "code",
   "execution_count": 1,
   "metadata": {
    "collapsed": true
   },
   "outputs": [],
   "source": [
    "# Stwórz prostą listę\n",
    "l = [1,2,3,4,5]"
   ]
  },
  {
   "cell_type": "markdown",
   "metadata": {},
   "source": [
    "Korzystając z iPython i Jupyter Notebook mamy możliwość szybkiego podejrzenia wszystkich możliwych metod danego obiektu wykorzystując klawisz tab. Metody dla obiektu typu lista to:\n",
    "\n",
    "\n",
    "* append\n",
    "* count\n",
    "* extend\n",
    "* insert\n",
    "* pop\n",
    "* remove\n",
    "* reverse\n",
    "* sort\n",
    "\n",
    "Sprawdźmy jak działają wybrane metody:"
   ]
  },
  {
   "cell_type": "markdown",
   "metadata": {},
   "source": [
    "### append() \n",
    "umożliwia nam dodanie elementu na końcu listy:"
   ]
  },
  {
   "cell_type": "code",
   "execution_count": 2,
   "metadata": {
    "collapsed": true
   },
   "outputs": [],
   "source": [
    "l.append(6)"
   ]
  },
  {
   "cell_type": "code",
   "execution_count": 3,
   "metadata": {},
   "outputs": [
    {
     "data": {
      "text/plain": [
       "[1, 2, 3, 4, 5, 6]"
      ]
     },
     "execution_count": 3,
     "metadata": {},
     "output_type": "execute_result"
    }
   ],
   "source": [
    "l"
   ]
  },
  {
   "cell_type": "markdown",
   "metadata": {},
   "source": [
    "### count()\n",
    "zwracam nam ilość, określonych w apametrze elementów, znajdujących się w danej liście"
   ]
  },
  {
   "cell_type": "code",
   "execution_count": 4,
   "metadata": {},
   "outputs": [
    {
     "data": {
      "text/plain": [
       "1"
      ]
     },
     "execution_count": 4,
     "metadata": {},
     "output_type": "execute_result"
    }
   ],
   "source": [
    "# Sprawdźmy ile razy liczba 2 wystepuje w naszej liście\n",
    "l.count(2)"
   ]
  },
  {
   "cell_type": "markdown",
   "metadata": {},
   "source": [
    "Korzytając z Jupyter Notebook masz możliwość wyświetlenia dodatkowych przydatnych informacji korzystając ze skrótu klawiszowego Shift + Tab. W każdym środowisku Pythona umożliwia nam to także funkcja help():"
   ]
  },
  {
   "cell_type": "code",
   "execution_count": 5,
   "metadata": {},
   "outputs": [
    {
     "name": "stdout",
     "output_type": "stream",
     "text": [
      "Help on built-in function count:\n",
      "\n",
      "count(...)\n",
      "    L.count(value) -> integer -- return number of occurrences of value\n",
      "\n"
     ]
    }
   ],
   "source": [
    "help(l.count)"
   ]
  },
  {
   "cell_type": "markdown",
   "metadata": {},
   "source": [
    "Zapraszam do zabawy z pozostałymi metodami list. W dalszej części wykorzystasz pomoc i Google, szukając metod różnych typów obiektów!"
   ]
  },
  {
   "cell_type": "markdown",
   "metadata": {},
   "source": [
    "Po zakończeniu tej lekcji powinieneś wiedzić jak wywoływać metody obiektów w Pythonie!"
   ]
  }
 ],
 "metadata": {
  "kernelspec": {
   "display_name": "Python 2",
   "language": "python",
   "name": "python2"
  },
  "language_info": {
   "codemirror_mode": {
    "name": "ipython",
    "version": 2
   },
   "file_extension": ".py",
   "mimetype": "text/x-python",
   "name": "python",
   "nbconvert_exporter": "python",
   "pygments_lexer": "ipython2",
   "version": "2.7.14"
  }
 },
 "nbformat": 4,
 "nbformat_minor": 1
}
