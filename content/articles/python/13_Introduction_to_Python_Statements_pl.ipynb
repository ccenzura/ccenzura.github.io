{
 "cells": [
  {
   "cell_type": "markdown",
   "metadata": {},
   "source": [
    "# Wstęp do instrukcji w Pythonie\n",
    "+ date: 2017-11-22\n",
    "+ category: python\n",
    "+ tags: python, statement"
   ]
  },
  {
   "cell_type": "markdown",
   "metadata": {
    "slideshow": {
     "slide_type": "slide"
    }
   },
   "source": [
    "W tej lekcji szybko przejrzymy instrukcjom Pythona. Zostaną podkreślone różnice pomiędzy Pythonem a innymi językami typu C++.\n",
    "\n",
    "Są dwa powodu dla których w ten sposób chcemy wprowadzić Cię do budowania instrukcji w Pythonie:\n",
    "    \n",
    "    1.) Jeżeli posiadasz już wiedzę na temat innego języka programowania to ułatwi Ci zrozumienie instrukcji w Pythonie. \n",
    "    2.) Ucząc się w ten sposób będzie Ci w przyszłości łatwiej zrozumieć inne języki programowania."
   ]
  },
  {
   "cell_type": "markdown",
   "metadata": {
    "slideshow": {
     "slide_type": "slide"
    }
   },
   "source": [
    "## Python vs inne języki\n",
    "\n",
    "Stwórzmy proste wyrażenie móœiące:\n",
    "\"Jeżeli a jest większe niż b, przypisz 2 do a oraz 4 do b\"\n",
    "\n",
    "Przyjrzyj się tym dwóm instrukcjom (niebawem będziemy się uczyć o budowaniu instrukcji).\n",
    "\n",
    "**Wersja 1 (Inny język)**\n",
    "\n",
    "    if (a>b){\n",
    "        a = 2;\n",
    "        b = 4;\n",
    "    }\n",
    "                        \n",
    "**Wersja 2 (Python)**   \n",
    "\n",
    "    if a>b:\n",
    "        a = 2\n",
    "        b = 4"
   ]
  },
  {
   "cell_type": "markdown",
   "metadata": {},
   "source": [
    "\n",
    "Na pewno zauważyłeś, że Python jest mniej zagracony i znacznie łatwiej czytelny niżeli wersja 1. W jaki sposób Python tym zarządza?\n",
    "\n",
    "Przyjrzyjmy się najważniejszym różnicom:\n",
    "\n",
    "Python pozbył się () oraz {} poprzez włącznie dwóch głównych czynników: *colon* (pl. dwukropek) oraz *whitespace* (pl. białe spacje). Instrukcja jest zakończona colon a whitespace (indentation, pl. wcięcia) używa się do definiowania co zawiera się w instrukcji.\n",
    "\n",
    "Kolejną poważną różnicą jest brak semicolons (pl. średników) w Pythonie. Semicolons są używane do oznaczenia zakończenia instrukcji w wielu innych językach, lecz w Pythonie koniec linii jest tym samym co koniec instrukcji.\n",
    "\n",
    "Na zakończenie krótkiego przeglądu różnic, przyjrzyjmy się bliżej wcięciom i składni Pythona porównując ją do innych języków:\n",
    "\n",
    "## Indentation\n",
    "\n",
    "Poniżej znajduje się pseudo-kod przedstawiajacy sposób użycia whitespaces i indentation w Pythonie:\n",
    "\n",
    "**Inne języki**\n",
    "\n",
    "    if (x)\n",
    "        if(y)\n",
    "            kod-instukcji;\n",
    "    else\n",
    "        kod-innej-instrukcji;\n",
    "        \n",
    "**Python**\n",
    "    \n",
    "    if x:\n",
    "        if y:\n",
    "            kod-instrukcji\n",
    "    else:\n",
    "        kod-innej-instrukcji"
   ]
  },
  {
   "cell_type": "markdown",
   "metadata": {},
   "source": [
    "Zwróć uwagę, jak Python jest silnie związany z indentation i whitespaces. Oznacza to, że czytelność kodu jest zasadniczą częścią Pythona.\n",
    "\n",
    "Zgłębmy bardziej naszą więdzę pisząc takie intrukcje w Pythonie."
   ]
  }
 ],
 "metadata": {
  "kernelspec": {
   "display_name": "Python 2",
   "language": "python",
   "name": "python2"
  },
  "language_info": {
   "codemirror_mode": {
    "name": "ipython",
    "version": 2
   },
   "file_extension": ".py",
   "mimetype": "text/x-python",
   "name": "python",
   "nbconvert_exporter": "python",
   "pygments_lexer": "ipython2",
   "version": "2.7.14"
  }
 },
 "nbformat": 4,
 "nbformat_minor": 1
}
