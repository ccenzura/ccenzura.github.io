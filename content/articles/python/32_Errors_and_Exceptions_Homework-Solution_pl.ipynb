{
 "cells": [
  {
   "cell_type": "markdown",
   "metadata": {},
   "source": [
    "# Błędy i wyjątki - praca domowa - rozwiązanie\n",
    "+ date: 2018-01-02\n",
    "+ category: python\n",
    "+ tags: error, except, homework"
   ]
  },
  {
   "cell_type": "markdown",
   "metadata": {},
   "source": [
    "## Zadanie 1\n",
    "Zajmij się wyjątkiem wygenerowanym przez poniższy kod, używając bloków try i except."
   ]
  },
  {
   "cell_type": "code",
   "execution_count": 2,
   "metadata": {},
   "outputs": [
    {
     "name": "stdout",
     "output_type": "stream",
     "text": [
      "Wystąpił błąd!\n"
     ]
    }
   ],
   "source": [
    "try:\n",
    "    for i in ['a','b','c']:\n",
    "        print i**2\n",
    "except:\n",
    "    print \"Wystąpił błąd!\""
   ]
  },
  {
   "cell_type": "markdown",
   "metadata": {},
   "source": [
    "## Zadanie 2\n",
    "Zajmij się wyjątkiem wygenerowanym przez poniższy kod, używając bloków **try** i **except**. Następnie użyj bloku **finally**, aby wywołać \"All Done\"."
   ]
  },
  {
   "cell_type": "code",
   "execution_count": 3,
   "metadata": {},
   "outputs": [
    {
     "name": "stdout",
     "output_type": "stream",
     "text": [
      "Nie można dzielić przez Zero!\n",
      "All Done!\n"
     ]
    }
   ],
   "source": [
    "x = 5\n",
    "y = 0\n",
    "try:\n",
    "    z = x/y\n",
    "except ZeroDivisionError:\n",
    "    print \"Nie można dzielić przez Zero!\"\n",
    "finally:\n",
    "    print 'All Done!'"
   ]
  },
  {
   "cell_type": "markdown",
   "metadata": {},
   "source": [
    "## Zadanie 3\n",
    "Napisz funkcję, która prosi o liczbę całkowitą i wypisuje jej kwadrat. Użyj pętli while z blokami try, except, else, aby uwzględnić niepoprawne dane wejściowe."
   ]
  },
  {
   "cell_type": "code",
   "execution_count": 4,
   "metadata": {},
   "outputs": [],
   "source": [
    "def ask():\n",
    "    \n",
    "    while True:\n",
    "        try:\n",
    "            n = input('Podaj liczbę całkowitą: ')\n",
    "        except:\n",
    "            print 'Wystąpił błąd! Spróbuj jeszcze raz!'\n",
    "            continue\n",
    "        else:\n",
    "            break\n",
    "            \n",
    "        \n",
    "    print 'Twoja liczba całkowita podniesiona do kwadratu daje wynik: ',n**2"
   ]
  },
  {
   "cell_type": "code",
   "execution_count": 5,
   "metadata": {},
   "outputs": [
    {
     "name": "stdout",
     "output_type": "stream",
     "text": [
      "Podaj liczbę całkowitą: null\n",
      "Wystąpił błąd! Spróbuj jeszcze raz!\n",
      "Podaj liczbę całkowitą: 4\n",
      "Twoja liczba całkowita podniesiona do kwadratu daje wynik:  16\n"
     ]
    }
   ],
   "source": [
    "ask()"
   ]
  }
 ],
 "metadata": {
  "kernelspec": {
   "display_name": "Python 2",
   "language": "python",
   "name": "python2"
  },
  "language_info": {
   "codemirror_mode": {
    "name": "ipython",
    "version": 2
   },
   "file_extension": ".py",
   "mimetype": "text/x-python",
   "name": "python",
   "nbconvert_exporter": "python",
   "pygments_lexer": "ipython2",
   "version": "2.7.14"
  }
 },
 "nbformat": 4,
 "nbformat_minor": 1
}
