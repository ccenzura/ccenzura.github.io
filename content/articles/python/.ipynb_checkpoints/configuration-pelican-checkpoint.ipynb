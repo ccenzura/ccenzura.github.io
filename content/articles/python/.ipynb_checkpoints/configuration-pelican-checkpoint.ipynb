{
 "cells": [
  {
   "cell_type": "markdown",
   "metadata": {},
   "source": [
    "# How to configure pelican static blog to use jupyter notebook and github pages?\n",
    "+ date: 2017-11-09\n",
    "+ category: python\n",
    "+ tags: pelican, python"
   ]
  },
  {
   "cell_type": "markdown",
   "metadata": {},
   "source": [
    "## My system configuration, used documentation and repositores."
   ]
  },
  {
   "cell_type": "markdown",
   "metadata": {},
   "source": [
    "I have got installed python 3.6 git. I used virtualenv with virtualenvwrapper. My case is based on those settings.\n",
    "1. [Pelican doumentation](http://docs.getpelican.com/en/stable/index.html)\n",
    "2. [ipynb2pelican plugin](https://github.com/peijunz/ipynb2pelican)"
   ]
  },
  {
   "cell_type": "markdown",
   "metadata": {},
   "source": [
    "### Let's start."
   ]
  },
  {
   "cell_type": "markdown",
   "metadata": {},
   "source": [
    "Create project"
   ]
  },
  {
   "cell_type": "code",
   "execution_count": null,
   "metadata": {},
   "outputs": [],
   "source": [
    "mkproject project_name"
   ]
  },
  {
   "cell_type": "markdown",
   "metadata": {},
   "source": [
    "After comand above we are in created virtualenv. Install all dependencies"
   ]
  },
  {
   "cell_type": "code",
   "execution_count": null,
   "metadata": {},
   "outputs": [],
   "source": [
    "pip install pelican markdown ghp-import jupyter nbconvert ipyhton"
   ]
  },
  {
   "cell_type": "markdown",
   "metadata": {},
   "source": [
    "Create repository on github - username.github.io. \n",
    "After this go to directory where is the catalog with your project - project_name and clone your repository to that catalog using command below."
   ]
  },
  {
   "cell_type": "code",
   "execution_count": null,
   "metadata": {},
   "outputs": [],
   "source": [
    "git clone http://github.com/username/username.github.io.git project_name"
   ]
  },
  {
   "cell_type": "markdown",
   "metadata": {},
   "source": [
    "Next go to catalog project_name, create new branch and start to configure pelican in this new branch. Most docs say to put it on a gh-pages branch (e.g. pelican docs, github docs showing how to use jekyll), but the docs for githib pages implies that the master branch should be used."
   ]
  },
  {
   "cell_type": "code",
   "execution_count": null,
   "metadata": {},
   "outputs": [],
   "source": [
    "cd project_name\n",
    "git checkout -b source # create new branch\n",
    "pelican-quickstart\n",
    "> What will be the title of this web site? First static blog\n",
    "> Who will be the author of this web site? your_nick\n",
    "> What will be the default language of this web site? [en]\n",
    "> Do you want to specify a URL prefix? e.g., http://example.com   (Y/n) Y\n",
    "> What is your URL prefix? (see above example; no trailing slash) http://username.github.io/\n",
    "> Do you want to enable article pagination? (Y/n) Y\n",
    "> How many articles per page do you want? [10]\n",
    "> What is your time zone? [Europe/Paris] Europe/Warsaw\n",
    "> Do you want to generate a Fabfile/Makefile to automate generation and publishing? (Y/n) n\n",
    "> Do you want an auto-reload & simpleHTTP script to assist with theme and site development? (Y/n) Y\n",
    "Done. Your new project is available at your/path"
   ]
  },
  {
   "cell_type": "markdown",
   "metadata": {},
   "source": [
    "Now, for sure push it to git. At first change the branch. "
   ]
  },
  {
   "cell_type": "code",
   "execution_count": null,
   "metadata": {},
   "outputs": [],
   "source": [
    "git add --all # add all catalogs and files to you repository\n",
    "git commit -m \"first push of tresh pelican configuration\"\n",
    "git push origin source"
   ]
  },
  {
   "cell_type": "markdown",
   "metadata": {},
   "source": [
    "Let's create First article using example from [pelican documentation](http://docs.getpelican.com/en/stable/quickstart.html#create-an-article)."
   ]
  },
  {
   "cell_type": "code",
   "execution_count": null,
   "metadata": {},
   "outputs": [],
   "source": [
    "cd content\n",
    "mousepad first.md"
   ]
  },
  {
   "cell_type": "markdown",
   "metadata": {},
   "source": [
    "In opened window just paste the example, save and close."
   ]
  },
  {
   "cell_type": "code",
   "execution_count": null,
   "metadata": {},
   "outputs": [],
   "source": [
    "Title: My First Review\n",
    "Date: 2010-12-03 10:20\n",
    "Category: Review\n",
    "\n",
    "Following is a review of my favorite mechanical keyboard."
   ]
  },
  {
   "cell_type": "markdown",
   "metadata": {},
   "source": [
    "To build page with First article go back to projec_name catalog and run command below."
   ]
  },
  {
   "cell_type": "code",
   "execution_count": null,
   "metadata": {},
   "outputs": [],
   "source": [
    "cd ..\n",
    "pelican content\n",
    "Done: Processed 1 article, 0 drafts, 0 pages and 0 hidden pages in 0.20 seconds."
   ]
  },
  {
   "cell_type": "markdown",
   "metadata": {},
   "source": [
    "After this check generated page. Go to catalog output and run command below."
   ]
  },
  {
   "cell_type": "code",
   "execution_count": null,
   "metadata": {},
   "outputs": [],
   "source": [
    "cd output\n",
    "python -m pelican.server"
   ]
  },
  {
   "cell_type": "markdown",
   "metadata": {},
   "source": [
    "Now open new card in browser and use this adress or clik link below. To stop server use in terminal shortcut ctrl + c."
   ]
  },
  {
   "cell_type": "markdown",
   "metadata": {},
   "source": [
    "[http://localhost:8000/](http://localhost:8000/)"
   ]
  },
  {
   "cell_type": "markdown",
   "metadata": {},
   "source": [
    "To deploy blog on github pages use command below in project_name catalog."
   ]
  },
  {
   "cell_type": "code",
   "execution_count": null,
   "metadata": {},
   "outputs": [],
   "source": [
    "ghp-import -b master output # copy content of output catalog to master branch\n",
    "git checkout master # change branch to master\n",
    "git push origin master # push it to repository\n"
   ]
  },
  {
   "cell_type": "markdown",
   "metadata": {},
   "source": [
    "Check http://username.github.io"
   ]
  },
  {
   "cell_type": "markdown",
   "metadata": {},
   "source": [
    "To configure ipynb2pelican plugin fallow comannds below.\n"
   ]
  },
  {
   "cell_type": "code",
   "execution_count": null,
   "metadata": {},
   "outputs": [],
   "source": [
    "git checkout source # change reposotory branch to source\n"
   ]
  },
  {
   "cell_type": "code",
   "execution_count": null,
   "metadata": {},
   "outputs": [],
   "source": []
  }
 ],
 "metadata": {
  "kernelspec": {
   "display_name": "Python 3",
   "language": "python",
   "name": "python3"
  },
  "language_info": {
   "codemirror_mode": {
    "name": "ipython",
    "version": 3
   },
   "file_extension": ".py",
   "mimetype": "text/x-python",
   "name": "python",
   "nbconvert_exporter": "python",
   "pygments_lexer": "ipython3",
   "version": "3.5.2"
  }
 },
 "nbformat": 4,
 "nbformat_minor": 2
}
