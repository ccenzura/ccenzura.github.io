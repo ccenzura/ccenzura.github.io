{
 "cells": [
  {
   "cell_type": "markdown",
   "metadata": {},
   "source": [
    "# Funkcje\n",
    "+ date: 2017-12-11\n",
    "+ category: python\n",
    "+ tags: python, function"
   ]
  },
  {
   "cell_type": "markdown",
   "metadata": {},
   "source": [
    "## Wprowadzenie do funkcji\n",
    "Wykład ten będzie zawierał wyjaśnienie, czym jest funkcja w Pythonie i jak ją utworzyć. Podczas tworzenia kodu rozwiązującego nasze problemy bardzo często będziesz korzystać z funkcji. \n",
    "\n",
    "** Czym jest funkcja? **\n",
    "\n",
    "Funkcja jest użytecznym obiektem, który grupuje zestaw instrukcji, dzięki czemu można ją uruchamiać więcej niż raz. Może ona także przyjmować parametry, które mogą służyć jako dane wejściowe do funkcji.\n",
    "\n",
    "Na bardziej podstawowym poziomie, funkcje pozwalają nam nie powtarzać wielokrotnie tego samego kodu. Przypomnij sobie lekcje o łańcuchach i listach, użyliśmy tam funkcji len (), aby uzyskać długość ciągu znaków. Ponieważ sprawdzenie długości sekwencji jest typowym zadaniem, mógłbyś napisać włąsną funkcję, lecz takowa znajduje się już w Pythonie.\n",
    "\n",
    "Funkcje zapewniają możliwość tworzenia \"narzędzia\" wielokrotnie używanego bez potrzeby powielania jego kodu, a także pozwolają nam zacząć myśleć o projektowaniu programu (podczas nauki o programowaniu obiektowym (ang. *Object Oriented Programming*) zgłębimy bardziej możliwości funkcji)."
   ]
  },
  {
   "cell_type": "markdown",
   "metadata": {},
   "source": [
    "## Wyrażenie def\n",
    "Zobaczmy jak zbudować składnię tworzącą funkcję"
   ]
  },
  {
   "cell_type": "code",
   "execution_count": 3,
   "metadata": {},
   "outputs": [],
   "source": [
    "def nazwa_funkcji(arg1,arg2):\n",
    "    '''\n",
    "    W doc-string warto zamieszczać podstawowy opis funkcji.\n",
    "    '''\n",
    "    # wykonaj zadanie\n",
    "    # zwróć oczekiwany rezultat"
   ]
  },
  {
   "cell_type": "markdown",
   "metadata": {},
   "source": [
    "Zaczynamy od def, następnie spacja, po której podajemy nazwę funkcji. Staraj się stosować odpowiednie nazwy, na przykład len() to dobra nazwa dla funkcji length(). Uważaj też na stosowane nazwy, nie stosuj takich nazw, co [wbudowane funkcje w Pythonie](https://docs.python.org/2/library/functions.html) (np. len).\n",
    "\n",
    "Następnie w nawiasie możesz podać kilka argumentów oddzielając je przecinkami. Te argumenty są inputs do twojej funkcji. Będziesz mógł użyć tych danych wejściowych w swojej funkcji i odnieść się do nich. Po tym wstawiamy dwukropek.\n",
    "Teraz tutaj ważna kwestia, należy stosować indents (ang. *wciecia*) aby poprawnie wprowadzić wewnątrz funkcji. Python używa białych znaków do porządkowania kodu. Wiele innych języków programowania posiada inne rozwiazanie, więc miej to na uwadze.\n",
    "\n",
    "Następnie zobaczysz doc-string, tutaj podajesz podstawowy opis funkcji. Korzystając z iPython i iPython Notebooks, będziesz czytać te doc-strings, naciskając Shift + Tab po nazwie funkcji. Doc-string nie są konieczne dla prostych funkcji, ale dobrą praktyką jest umieszczanie ich w taki sposób, aby Ty lub inni ludzie mogli łatwo zrozumieć napisany przez Ciebie kod.\n",
    "\n",
    "Najlepszym sposobem uczenia się funkcji jest przeglądanie przykładów. Spróbujmy więc przejść przez przykłady odnoszące się do różnych obiektów i struktur danych, o których już wcześniej się uczyliśmy."
   ]
  },
  {
   "cell_type": "markdown",
   "metadata": {},
   "source": [
    "### Przykład 1: Prosta funkcja wywołująca string 'hello'"
   ]
  },
  {
   "cell_type": "code",
   "execution_count": 4,
   "metadata": {
    "collapsed": true
   },
   "outputs": [],
   "source": [
    "def say_hello():\n",
    "    print 'hello'"
   ]
  },
  {
   "cell_type": "markdown",
   "metadata": {},
   "source": [
    "Wywołaj funkcję"
   ]
  },
  {
   "cell_type": "code",
   "execution_count": 5,
   "metadata": {},
   "outputs": [
    {
     "name": "stdout",
     "output_type": "stream",
     "text": [
      "hello\n"
     ]
    }
   ],
   "source": [
    "say_hello()"
   ]
  },
  {
   "cell_type": "markdown",
   "metadata": {},
   "source": [
    "### Przykład 2: Prosta funkcja pozdrawiająca\n",
    "Stwórzmy funkcję, która będzie pozdrawiać ludzi z ich imieniem."
   ]
  },
  {
   "cell_type": "code",
   "execution_count": 6,
   "metadata": {
    "collapsed": true
   },
   "outputs": [],
   "source": [
    "def pozdrow(name):\n",
    "    print 'Hello %s' %name"
   ]
  },
  {
   "cell_type": "code",
   "execution_count": 8,
   "metadata": {},
   "outputs": [
    {
     "name": "stdout",
     "output_type": "stream",
     "text": [
      "Hello Janek\n"
     ]
    }
   ],
   "source": [
    "pozdrow('Janek')"
   ]
  },
  {
   "cell_type": "markdown",
   "metadata": {},
   "source": [
    "## Wykorzystanie return\n",
    "Sprawdźmy teraz przyjkład, który używa wyrażenia return. Funkcja je wykorzytująca może *zwrocić* wynik, który może być przechowywany jako zmienna lub jakikolwiek inny sposób."
   ]
  },
  {
   "cell_type": "markdown",
   "metadata": {},
   "source": [
    "### Przykład 3: Funkcja dodawania"
   ]
  },
  {
   "cell_type": "code",
   "execution_count": 9,
   "metadata": {
    "collapsed": true
   },
   "outputs": [],
   "source": [
    "def dodaj_num(num1,num2):\n",
    "    return num1+num2"
   ]
  },
  {
   "cell_type": "code",
   "execution_count": 11,
   "metadata": {},
   "outputs": [
    {
     "data": {
      "text/plain": [
       "9"
      ]
     },
     "execution_count": 11,
     "metadata": {},
     "output_type": "execute_result"
    }
   ],
   "source": [
    "dodaj_num(4,5)"
   ]
  },
  {
   "cell_type": "code",
   "execution_count": 14,
   "metadata": {},
   "outputs": [],
   "source": [
    "# Wynik można od razu przypisać do zmiennej\n",
    "result = dodaj_num(4,5)"
   ]
  },
  {
   "cell_type": "code",
   "execution_count": 15,
   "metadata": {},
   "outputs": [
    {
     "name": "stdout",
     "output_type": "stream",
     "text": [
      "9\n"
     ]
    }
   ],
   "source": [
    "print result"
   ]
  },
  {
   "cell_type": "markdown",
   "metadata": {},
   "source": [
    "Co się stanie jak podamy dwa string?"
   ]
  },
  {
   "cell_type": "code",
   "execution_count": 17,
   "metadata": {},
   "outputs": [
    {
     "name": "stdout",
     "output_type": "stream",
     "text": [
      "jedendwa\n"
     ]
    }
   ],
   "source": [
    "print dodaj_num('jeden','dwa')"
   ]
  },
  {
   "cell_type": "markdown",
   "metadata": {},
   "source": [
    "Zauważ, że w Pythonie nie deklarujemy typu zmiennej, dlatego ta funkcja może być uzyta do dodania liczb lub sqkwencji! W dalszej częsci kursu dowiemy się jak weryfikować czy użytkownik podał poprawne argumenty w funkcji.\n",
    "\n",
    "Zastosujmy teraz w naszym kodzie wyrażenia *brak*, *continue* oraz *pass*. \n",
    "\n",
    "Najwyższy czas na bardziej rozbudowany przykład tworzenia funkcji sprawdzającej czy liczba jest liczbą pierwszą (ang. *prime*).\n",
    "\n",
    "Wiemy, że liczba pierwsza jest podzielna wyłącznie przez 1 samą siebie. Poniżej pierwsza wersja naszej funkcji srpawdzającą wszystkie liczby od 1 do N używając modulo."
   ]
  },
  {
   "cell_type": "code",
   "execution_count": 20,
   "metadata": {
    "collapsed": true
   },
   "outputs": [],
   "source": [
    "def is_prime(liczba):\n",
    "    '''\n",
    "    Natywna metoda sprawdzająca czy liczba jest liczbą pierwszą. \n",
    "    '''\n",
    "    for n in range(2,liczba):\n",
    "        if liczba % n == 0:\n",
    "            print 'nie jest to liczba pierwsza'\n",
    "            break\n",
    "    else: # Jeżeli modulo ani razu nie wychodzi 0 to jest to liczba pierwsza\n",
    "        print 'liczba pierwsza'"
   ]
  },
  {
   "cell_type": "code",
   "execution_count": 19,
   "metadata": {},
   "outputs": [
    {
     "name": "stdout",
     "output_type": "stream",
     "text": [
      "nie jest to liczba pierwsza\n"
     ]
    }
   ],
   "source": [
    "is_prime(16)"
   ]
  },
  {
   "cell_type": "markdown",
   "metadata": {},
   "source": [
    "Zwróć uwagę jak przerwaliśmy kod po wyrażeniu print! Możemy to poprawić, sprawdzając tylko pierwiastek kwadratowy z liczby docelowej, możemy również zignorować wszystkie liczby parzyste po sprawdzeniu podzielności przez 2. Zmienimy również wartość zwracaną przez wartość boolean, aby uzyskać przykład użycia instrukcji return:"
   ]
  },
  {
   "cell_type": "code",
   "execution_count": 21,
   "metadata": {},
   "outputs": [],
   "source": [
    "import math\n",
    "\n",
    "def is_prime(liczba):\n",
    "    '''\n",
    "    Lepsza funkcja sprawdzająca liczby pierwsze.\n",
    "    '''\n",
    "    if liczba % 2 == 0 and liczba > 2: \n",
    "        return False\n",
    "    for i in range(3, lint(math.sqrt(liczba)) + 1, 2):\n",
    "        if liczba % i == 0:\n",
    "            return False\n",
    "    return True"
   ]
  },
  {
   "cell_type": "code",
   "execution_count": 22,
   "metadata": {},
   "outputs": [
    {
     "data": {
      "text/plain": [
       "False"
      ]
     },
     "execution_count": 22,
     "metadata": {},
     "output_type": "execute_result"
    }
   ],
   "source": [
    "is_prime(14)"
   ]
  },
  {
   "cell_type": "markdown",
   "metadata": {},
   "source": [
    "Wspaniałe! Powinieneś teraz mieć podstawową wiedzę na temat tworzenia własnych funkcji, aby uchronić się przed wielokrotnym pisaniem kodu!"
   ]
  }
 ],
 "metadata": {
  "kernelspec": {
   "display_name": "Python 2",
   "language": "python",
   "name": "python2"
  },
  "language_info": {
   "codemirror_mode": {
    "name": "ipython",
    "version": 2
   },
   "file_extension": ".py",
   "mimetype": "text/x-python",
   "name": "python",
   "nbconvert_exporter": "python",
   "pygments_lexer": "ipython2",
   "version": "2.7.14"
  }
 },
 "nbformat": 4,
 "nbformat_minor": 1
}
