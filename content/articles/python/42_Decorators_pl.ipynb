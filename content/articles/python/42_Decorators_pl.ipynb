{
 "cells": [
  {
   "cell_type": "markdown",
   "metadata": {},
   "source": [
    "# Decorators (pl. *dekoratory*)\n",
    "+ date: 2018-01-10\n",
    "+ category: python\n",
    "+ tags: decorators"
   ]
  },
  {
   "cell_type": "markdown",
   "metadata": {},
   "source": [
    "Dekoratory można uważać za funkcje, które mogą modyfikować *funkcjonalność* innej funkcji. POmoagaja one skrócić kod i zpodkeślić charakter pythona."
   ]
  },
  {
   "cell_type": "markdown",
   "metadata": {},
   "source": [
    "## Przegląd funkcji"
   ]
  },
  {
   "cell_type": "code",
   "execution_count": 1,
   "metadata": {},
   "outputs": [],
   "source": [
    "def func():\n",
    "    return 1"
   ]
  },
  {
   "cell_type": "code",
   "execution_count": 2,
   "metadata": {
    "scrolled": true
   },
   "outputs": [
    {
     "data": {
      "text/plain": [
       "1"
      ]
     },
     "execution_count": 2,
     "metadata": {},
     "output_type": "execute_result"
    }
   ],
   "source": [
    "func()"
   ]
  },
  {
   "cell_type": "markdown",
   "metadata": {},
   "source": [
    "## Przegląd zasięgu\n",
    "Przypomnienie z instrukcji zagnieżdżonych i zasięgu, pamiętaj o etykietach."
   ]
  },
  {
   "cell_type": "code",
   "execution_count": 1,
   "metadata": {
    "collapsed": true
   },
   "outputs": [],
   "source": [
    "s = 'To jest zmienna globalna'\n",
    "\n",
    "def func():\n",
    "    print locals()"
   ]
  },
  {
   "cell_type": "markdown",
   "metadata": {},
   "source": [
    "Pmiętaj, że funkcje Pythona tworzą nowy zasięg, co oznacza, że funkcja ma własny obszar nazw umożliwiający znaleźć nazwy zmiennych w przypadku ich użycia w funkcji. Możemy sprawdzić zmienne lokalne i zmienne globalne poprze użycie funkcji locals() i globals()."
   ]
  },
  {
   "cell_type": "code",
   "execution_count": 3,
   "metadata": {},
   "outputs": [
    {
     "name": "stdout",
     "output_type": "stream",
     "text": [
      "{'_dh': [u'/home/cezary/projects/udemy_tlumaczenie'], '__': '', '__builtin__': <module '__builtin__' (built-in)>, '_i2': u'print globals()', 'quit': <IPython.core.autocall.ZMQExitAutocall object at 0x7fd5a6a7af90>, '_i3': u'print globals() # pami\\u0119taj, \\u017ce otrzymujesz s\\u0142ownik', '_iii': u'', '_i1': u\"s = 'To jest zmienna globalna'\\n\\ndef func():\\n    print locals()\", 'exit': <IPython.core.autocall.ZMQExitAutocall object at 0x7fd5a6a7af90>, 'get_ipython': <bound method ZMQInteractiveShell.get_ipython of <ipykernel.zmqshell.ZMQInteractiveShell object at 0x7fd5a8aba450>>, '_i': u'print globals()', '__doc__': 'Automatically created module for IPython interactive environment', '__builtins__': <module '__builtin__' (built-in)>, '_ih': ['', u\"s = 'To jest zmienna globalna'\\n\\ndef func():\\n    print locals()\", u'print globals()', u'print globals() # pami\\u0119taj, \\u017ce otrzymujesz s\\u0142ownik'], 'func': <function func at 0x7fd5a51dc7d0>, '__name__': '__main__', '___': '', '_': '', '_sh': <module 'IPython.core.shadowns' from '/home/cezary/anaconda2/lib/python2.7/site-packages/IPython/core/shadowns.pyc'>, 's': 'To jest zmienna globalna', '_ii': u\"s = 'To jest zmienna globalna'\\n\\ndef func():\\n    print locals()\", 'In': ['', u\"s = 'To jest zmienna globalna'\\n\\ndef func():\\n    print locals()\", u'print globals()', u'print globals() # pami\\u0119taj, \\u017ce otrzymujesz s\\u0142ownik'], '_oh': {}, 'Out': {}}\n"
     ]
    }
   ],
   "source": [
    "print globals() # pamiętaj, że otrzymujesz słownik"
   ]
  },
  {
   "cell_type": "markdown",
   "metadata": {
    "collapsed": true
   },
   "source": [
    "Here we get back a dictionary of all the global variables, many of them are predefined in Python. So let's go ahead and look at the keys:"
   ]
  },
  {
   "cell_type": "markdown",
   "metadata": {},
   "source": [
    "Otrzymaliśmy w odpowiedzi słownik wszystkich zmiennych globalnych, wiele z nich jest predefiniowanych w Pythonie. Dalej, sprawdźmy teraz klucze."
   ]
  },
  {
   "cell_type": "code",
   "execution_count": 7,
   "metadata": {},
   "outputs": [
    {
     "name": "stdout",
     "output_type": "stream",
     "text": [
      "['_dh', '__', '__builtin__', '_i2', 'quit', '_i7', '_i6', '_i5', '_i4', '_i3', '_iii', '_i1', 'exit', 'get_ipython', '_i', '__doc__', '__builtins__', '_ih', 'func', '__name__', '___', '_', '_sh', 's', '_ii', 'In', '_oh', 'Out']\n"
     ]
    }
   ],
   "source": [
    "print globals().keys()"
   ]
  },
  {
   "cell_type": "markdown",
   "metadata": {},
   "source": [
    "Zwróc uwagę na zmienną **s**, zmienną globalną zdefiniowaną przez nas jako string: "
   ]
  },
  {
   "cell_type": "code",
   "execution_count": 8,
   "metadata": {},
   "outputs": [
    {
     "data": {
      "text/plain": [
       "'To jest zmienna globalna'"
      ]
     },
     "execution_count": 8,
     "metadata": {},
     "output_type": "execute_result"
    }
   ],
   "source": [
    "globals()['s']"
   ]
  },
  {
   "cell_type": "markdown",
   "metadata": {},
   "source": [
    "Czas uruchomić naszą funkcję, aby sprawdzić zmienne lokalne w func()."
   ]
  },
  {
   "cell_type": "code",
   "execution_count": 10,
   "metadata": {},
   "outputs": [
    {
     "name": "stdout",
     "output_type": "stream",
     "text": [
      "{}\n"
     ]
    }
   ],
   "source": [
    "func()"
   ]
  },
  {
   "cell_type": "markdown",
   "metadata": {},
   "source": [
    "Extra! Kontynuujmy budowanie logiki tego, czym jest dekorator. W Pythonie **wszystko jest obiektem**. To oznacza, że funkcje są obiektami, którym można przypisać etykietyi wykorzystać w innej funkcji. Czas na proste przykłady:"
   ]
  },
  {
   "cell_type": "code",
   "execution_count": 19,
   "metadata": {
    "collapsed": true
   },
   "outputs": [],
   "source": [
    "def hej(name='Janek'):\n",
    "    return 'Czesc '+ name"
   ]
  },
  {
   "cell_type": "code",
   "execution_count": 20,
   "metadata": {},
   "outputs": [
    {
     "data": {
      "text/plain": [
       "'Czesc Janek'"
      ]
     },
     "execution_count": 20,
     "metadata": {},
     "output_type": "execute_result"
    }
   ],
   "source": [
    "hej()"
   ]
  },
  {
   "cell_type": "markdown",
   "metadata": {},
   "source": [
    "Przypisanie etykiety funkcji. Zwróć uwagę, że nie używamy tutaj nawiasów, ponieważ nie wywołujemy funkcji hej lecz wyłącznie przypisujemy ją do zmiennej greet."
   ]
  },
  {
   "cell_type": "code",
   "execution_count": 22,
   "metadata": {},
   "outputs": [],
   "source": [
    "czesc = hej"
   ]
  },
  {
   "cell_type": "code",
   "execution_count": 24,
   "metadata": {},
   "outputs": [
    {
     "data": {
      "text/plain": [
       "<function __main__.hej>"
      ]
     },
     "execution_count": 24,
     "metadata": {},
     "output_type": "execute_result"
    }
   ],
   "source": [
    "czesc # w odpowiedzi uzyskujemy informację, że do tej zmiennej jest przypisana funkcja hej"
   ]
  },
  {
   "cell_type": "code",
   "execution_count": 25,
   "metadata": {},
   "outputs": [
    {
     "data": {
      "text/plain": [
       "'Czesc Janek'"
      ]
     },
     "execution_count": 25,
     "metadata": {},
     "output_type": "execute_result"
    }
   ],
   "source": [
    "hej()"
   ]
  },
  {
   "cell_type": "markdown",
   "metadata": {},
   "source": [
    "To przypisanie nie ma wpływu na oryginalną funkcję:"
   ]
  },
  {
   "cell_type": "code",
   "execution_count": 26,
   "metadata": {
    "collapsed": true
   },
   "outputs": [],
   "source": [
    "del hej"
   ]
  },
  {
   "cell_type": "code",
   "execution_count": 28,
   "metadata": {},
   "outputs": [
    {
     "ename": "NameError",
     "evalue": "name 'hej' is not defined",
     "output_type": "error",
     "traceback": [
      "\u001b[0;31m---------------------------------------------------------------------------\u001b[0m",
      "\u001b[0;31mNameError\u001b[0m                                 Traceback (most recent call last)",
      "\u001b[0;32m<ipython-input-28-12f5872f5e3a>\u001b[0m in \u001b[0;36m<module>\u001b[0;34m()\u001b[0m\n\u001b[0;32m----> 1\u001b[0;31m \u001b[0mhej\u001b[0m\u001b[0;34m(\u001b[0m\u001b[0;34m)\u001b[0m\u001b[0;34m\u001b[0m\u001b[0m\n\u001b[0m",
      "\u001b[0;31mNameError\u001b[0m: name 'hej' is not defined"
     ]
    }
   ],
   "source": [
    "hej()"
   ]
  },
  {
   "cell_type": "code",
   "execution_count": 29,
   "metadata": {},
   "outputs": [
    {
     "data": {
      "text/plain": [
       "'Czesc Janek'"
      ]
     },
     "execution_count": 29,
     "metadata": {},
     "output_type": "execute_result"
    }
   ],
   "source": [
    "czesc()"
   ]
  },
  {
   "cell_type": "markdown",
   "metadata": {},
   "source": [
    "## Functions within functions\n",
    "Właśnie dowiedziałeś się w jaki sposób możesz przypisać funkcję do zmiennej, aby móc ją wykorzystać jako obiekt. Teraz dowiemy się jak zdefiniować funkcję wewnątrz innej funkcji:"
   ]
  },
  {
   "cell_type": "code",
   "execution_count": 31,
   "metadata": {
    "collapsed": true
   },
   "outputs": [],
   "source": [
    "def hej(name='Janek'):\n",
    "    print 'Została wywołana funkcja hej()'\n",
    "    \n",
    "    def czesc():\n",
    "        return '\\t To jest wewnątrz funkcji czesc()'\n",
    "    \n",
    "    def welcome():\n",
    "        return \"\\t To jest wewnątrz funkcji welcome()\"\n",
    "    \n",
    "    print czesc()\n",
    "    print welcome()\n",
    "    print \"Teraz jesteśmy ponownie w funkcji hej()\""
   ]
  },
  {
   "cell_type": "code",
   "execution_count": 32,
   "metadata": {},
   "outputs": [
    {
     "name": "stdout",
     "output_type": "stream",
     "text": [
      "Została wywołana funkcja hej()\n",
      "\t To jest wewnątrz funkcji czesc()\n",
      "\t To jest wewnątrz funkcji welcome()\n",
      "Teraz jesteśmy ponownie w funkcji hej()\n"
     ]
    }
   ],
   "source": [
    "hej()"
   ]
  },
  {
   "cell_type": "code",
   "execution_count": 33,
   "metadata": {},
   "outputs": [
    {
     "ename": "NameError",
     "evalue": "name 'welcome' is not defined",
     "output_type": "error",
     "traceback": [
      "\u001b[0;31m---------------------------------------------------------------------------\u001b[0m",
      "\u001b[0;31mNameError\u001b[0m                                 Traceback (most recent call last)",
      "\u001b[0;32m<ipython-input-33-efaf77b113fd>\u001b[0m in \u001b[0;36m<module>\u001b[0;34m()\u001b[0m\n\u001b[0;32m----> 1\u001b[0;31m \u001b[0mwelcome\u001b[0m\u001b[0;34m(\u001b[0m\u001b[0;34m)\u001b[0m\u001b[0;34m\u001b[0m\u001b[0m\n\u001b[0m",
      "\u001b[0;31mNameError\u001b[0m: name 'welcome' is not defined"
     ]
    }
   ],
   "source": [
    "welcome()"
   ]
  },
  {
   "cell_type": "markdown",
   "metadata": {},
   "source": [
    "Zauważ, że ze względu na zasięg funkcja welcome() nie jest zdefiniowana poza funkcją hej(). Teraz nauczmy się o zwracaniu funkcji z funkcji wewnętrznej:"
   ]
  },
  {
   "cell_type": "markdown",
   "metadata": {},
   "source": [
    "## Returning Functions"
   ]
  },
  {
   "cell_type": "code",
   "execution_count": 34,
   "metadata": {
    "collapsed": true
   },
   "outputs": [],
   "source": [
    "def hej(name='Janek'):\n",
    "    \n",
    "    def czesc():\n",
    "        return '\\t To jest wewnątrz funkcji czesc()'\n",
    "    \n",
    "    def welcome():\n",
    "        return \"\\t To jest wewnątrz funkcji welcome()\"\n",
    "    \n",
    "    if name == 'Janek':\n",
    "        return czesc\n",
    "    else:\n",
    "        return welcome"
   ]
  },
  {
   "cell_type": "code",
   "execution_count": 35,
   "metadata": {
    "collapsed": true
   },
   "outputs": [],
   "source": [
    "x = hej()"
   ]
  },
  {
   "cell_type": "markdown",
   "metadata": {},
   "source": [
    "Zobaczmy co zwróci funkcji jeżeli przypiszemy x = hej(), użyłem zamkniętych nawiasów więc zostanie użyty domyślnie Janek."
   ]
  },
  {
   "cell_type": "code",
   "execution_count": 37,
   "metadata": {},
   "outputs": [
    {
     "data": {
      "text/plain": [
       "<function __main__.czesc>"
      ]
     },
     "execution_count": 37,
     "metadata": {},
     "output_type": "execute_result"
    }
   ],
   "source": [
    "\n",
    "x"
   ]
  },
  {
   "cell_type": "markdown",
   "metadata": {},
   "source": [
    "Super! Teraz możemy zobaczyć, w jaki sposób x wskazuje na na funkcję czesc wewnatrz funkcji hej(). Jest tak, ponieważ domyslnie użyto Janek, a to oznacza true warunku z dunkcji i uruchomienie funkcji czesc."
   ]
  },
  {
   "cell_type": "code",
   "execution_count": 38,
   "metadata": {},
   "outputs": [
    {
     "name": "stdout",
     "output_type": "stream",
     "text": [
      "\t To jest wewnątrz funkcji czesc()\n"
     ]
    }
   ],
   "source": [
    "print x()"
   ]
  },
  {
   "cell_type": "markdown",
   "metadata": {},
   "source": [
    "Przejrzyjmy jeszcze raz szybko kod.\n",
    "\n",
    "W instrukcji if/else zwracamy czesc i welcome, nie czesc() i welcome()\n",
    "\n",
    "Dzieje się tak dlatego, że po wstawieniu pary nawiasów funkcja zostałaby wykonana; mając na uwadze, że jeśli nie wstawi się po niej nawiasów, to można ją przekazać i można przypisać do innych zmiennych bez jego wykonywania.\n",
    "\n",
    "Kiedy napisaliśmy x = hej(), hej() zostało wykonane i dlatego domyślnie imię to Janek, zwracana jest funkcja czesc(). Jeżeli zminimy instrukcję na x = hello(name = 'Marek') wtedy zostanie zwrócona funkcja welcome. "
   ]
  },
  {
   "cell_type": "markdown",
   "metadata": {},
   "source": [
    "## Funkcja jako argument\n",
    "Teraz zobaczmy jak możemy przekazać funkcję jako argument innej funkcji:"
   ]
  },
  {
   "cell_type": "code",
   "execution_count": 44,
   "metadata": {
    "collapsed": true
   },
   "outputs": [],
   "source": [
    "def hej():\n",
    "    return 'Hej Janek!'\n",
    "\n",
    "def other(func):\n",
    "    print 'Tutaj jest inny kod'\n",
    "    print func()"
   ]
  },
  {
   "cell_type": "code",
   "execution_count": 45,
   "metadata": {},
   "outputs": [
    {
     "name": "stdout",
     "output_type": "stream",
     "text": [
      "Tutaj jest inny kod\n",
      "Hej Janek!\n"
     ]
    }
   ],
   "source": [
    "other(hej)"
   ]
  },
  {
   "cell_type": "markdown",
   "metadata": {},
   "source": [
    "Super! Zauważ, że możemy przekazać funkcje jako obiekt i wtedy użyć ich wewnątrz innych funkcji. Czas napisać własny dekorator:"
   ]
  },
  {
   "cell_type": "markdown",
   "metadata": {},
   "source": [
    "## Tworzenie dekoratora\n",
    "W poprzednim przukładzie ręczni stworzyliśmy dekorator. Teraz go zmodyfikujemy aby wszystko było jasne:"
   ]
  },
  {
   "cell_type": "code",
   "execution_count": 58,
   "metadata": {
    "collapsed": true
   },
   "outputs": [],
   "source": [
    "def nowy_dekorator(func):\n",
    "\n",
    "    def owijajaca_func():\n",
    "        print \"Kod ten jest wywołany przed func()\"\n",
    "\n",
    "        func()\n",
    "\n",
    "        print \"Kod ten jest wywołany po func()\"\n",
    "\n",
    "    return owijajaca_func\n",
    "\n",
    "def func_potrzebuje_dekoratora():\n",
    "    print \"Ta funkcja potrzebuje dekoratora\""
   ]
  },
  {
   "cell_type": "code",
   "execution_count": 59,
   "metadata": {},
   "outputs": [
    {
     "name": "stdout",
     "output_type": "stream",
     "text": [
      "Ta funkcja potrzebuje dekoratora\n"
     ]
    }
   ],
   "source": [
    "func_potrzebuje_dekoratora()"
   ]
  },
  {
   "cell_type": "code",
   "execution_count": 60,
   "metadata": {},
   "outputs": [],
   "source": [
    "# Ponowne przypisanie func_potrzebuje_dekoratora\n",
    "func_potrzebuje_dekoratora = nowy_dekorator(func_potrzebuje_dekoratora)"
   ]
  },
  {
   "cell_type": "code",
   "execution_count": 61,
   "metadata": {},
   "outputs": [
    {
     "name": "stdout",
     "output_type": "stream",
     "text": [
      "Kod ten jest wywołany przed func()\n",
      "Ta funkcja potrzebuje dekoratora\n",
      "Kod ten jest wywołany po func()\n"
     ]
    }
   ],
   "source": [
    "func_potrzebuje_dekoratora()"
   ]
  },
  {
   "cell_type": "markdown",
   "metadata": {},
   "source": [
    "Co się tutaj wydarzyło? Prosty dekorator owinął funkcję i zmodyfikował jej zachowanie. Teraz możemy dowiedzieć się jak przepisać ten kod z wykorzystaniem symbolu @, którego Python używa do dekoratorów."
   ]
  },
  {
   "cell_type": "code",
   "execution_count": 64,
   "metadata": {
    "collapsed": true
   },
   "outputs": [],
   "source": [
    "@nowy_dekorator\n",
    "def func_potrzebuje_dekoratora():\n",
    "    print \"Ta funkcja potrzebuje dekoratora\""
   ]
  },
  {
   "cell_type": "code",
   "execution_count": 65,
   "metadata": {},
   "outputs": [
    {
     "name": "stdout",
     "output_type": "stream",
     "text": [
      "Kod ten jest wywołany przed func()\n",
      "Ta funkcja potrzebuje dekoratora\n",
      "Kod ten jest wywołany po func()\n"
     ]
    }
   ],
   "source": [
    "func_potrzebuje_dekoratora()"
   ]
  },
  {
   "cell_type": "markdown",
   "metadata": {},
   "source": [
    "**Super! Zbudowałeś ręczni dekorator a później dowiedziałeś się jak użyć symbolu @ w Pythonie aby to zautomatyzować i oczyścić swój kod. Będziesz wykorzystywać dekoratory bardzo często, szczególnie przy web development, np. w pracy z Flask lub Django Framework.**"
   ]
  }
 ],
 "metadata": {
  "kernelspec": {
   "display_name": "Python 2",
   "language": "python",
   "name": "python2"
  },
  "language_info": {
   "codemirror_mode": {
    "name": "ipython",
    "version": 2
   },
   "file_extension": ".py",
   "mimetype": "text/x-python",
   "name": "python",
   "nbconvert_exporter": "python",
   "pygments_lexer": "ipython2",
   "version": "2.7.14"
  }
 },
 "nbformat": 4,
 "nbformat_minor": 1
}
