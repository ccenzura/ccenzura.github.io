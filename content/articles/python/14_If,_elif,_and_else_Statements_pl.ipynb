{
 "cells": [
  {
   "cell_type": "markdown",
   "metadata": {},
   "source": [
    "# Instrukcje if, elif oraz else \n",
    "+ date: 2017-11-22\n",
    "+ category: python\n",
    "+ tags: python, if, elif, else, statement"
   ]
  },
  {
   "cell_type": "markdown",
   "metadata": {},
   "source": [
    "Instrukcje if w Pythonie umożliwiaja przekazanie  komputerowi polecenia wykonania innej akcji opartej na określonym zestawie wyników.\n",
    "\n",
    "Możemy sobie wyobrazić, ze mówimy komputerowi:\n",
    "\"Hej jeżeli tak się stanie, to wykonaj taką akcję\"\n",
    "\n",
    "Następnie możemy rozszerzyć nasz pomysł za pomocą instrukcji elif i else, które pozwalają nam powiedzieć komputerowi:\n",
    "\"Hej if (jeżeli) tak się stanie, to wywołaj taką akcję. Elif (ale jeżeli) tak2 się stanie, to wykonaj taką2 akcje. Else (jeżeli żadna z wyżej określonych) akcji się nie wykona, to wykonaj taką akcję.\n",
    "\n",
    "Przyjrzyjmy się skłądni instrukcji if aby lepiej to  zrozumieć:\n",
    "\n",
    "    if warunek1:\n",
    "        wykonaj akcję1\n",
    "    elif warunek2:\n",
    "        wykonaj akcję2\n",
    "    else: \n",
    "        wykonaj akcję3"
   ]
  },
  {
   "cell_type": "markdown",
   "metadata": {},
   "source": [
    "## Pierwszy przykład\n",
    "\n",
    "Szybki bardzo prosty przykład:"
   ]
  },
  {
   "cell_type": "code",
   "execution_count": 3,
   "metadata": {},
   "outputs": [
    {
     "name": "stdout",
     "output_type": "stream",
     "text": [
      "To było True!\n"
     ]
    }
   ],
   "source": [
    "if True:\n",
    "    print 'To było True!'"
   ]
  },
  {
   "cell_type": "markdown",
   "metadata": {},
   "source": [
    "Dodajmy instrukcję else:"
   ]
  },
  {
   "cell_type": "code",
   "execution_count": 4,
   "metadata": {},
   "outputs": [
    {
     "name": "stdout",
     "output_type": "stream",
     "text": [
      "To zostanie wywołane jeżeli x nie jest True\n"
     ]
    }
   ],
   "source": [
    "x = False\n",
    "\n",
    "if x:\n",
    "    print 'x jest True!'\n",
    "else:\n",
    "    print 'To zostanie wywołane jeżeli x nie jest True'"
   ]
  },
  {
   "cell_type": "markdown",
   "metadata": {},
   "source": [
    "## Wszystko w jednym\n",
    "\n",
    "Przyjrzyjmy się przykładowi obejmującemy wszystko: if, elif oraz else.\n",
    "\n",
    "Poniższy przykład wykorzystuje strukturę zagnieżdżoną. Zwróć uwagę w jaki sposób w kodzie zostało wpisane if, elif oraz else, szczególnie przyjrzyj się indentation (pl. *wcięcia*). Poniższy przykłąd ułatwi Ci zrozumienie działania instrukcji if w połączeniu z elif oraz else."
   ]
  },
  {
   "cell_type": "code",
   "execution_count": 6,
   "metadata": {
    "scrolled": true
   },
   "outputs": [
    {
     "name": "stdout",
     "output_type": "stream",
     "text": [
      "Witamy w naszym Banku!\n"
     ]
    }
   ],
   "source": [
    "lok = 'Bank'\n",
    "\n",
    "if lok == 'Sklep':\n",
    "    print 'Witamy w naszym Sklepie!'\n",
    "elif lok == 'Bank':\n",
    "    print 'Witamy w naszym Banku!'\n",
    "else:\n",
    "    print \"Gdzie jesteś?\""
   ]
  },
  {
   "cell_type": "markdown",
   "metadata": {},
   "source": [
    "Zauważ, że zagnieżdżone instrukcje if są sprawdzane do momentu, aż któryś z warunków nie bedzie True i nie spowoduje uruchomienia zawartego w nim kodu. Powinienej także zwrócić uwagę, że wartunków w elif możesz umieścić ile chcesz.\n",
    "\n",
    "Stwórzmy dwa proste przykłady dla instrukcji if, elif i else:"
   ]
  },
  {
   "cell_type": "code",
   "execution_count": 9,
   "metadata": {},
   "outputs": [
    {
     "name": "stdout",
     "output_type": "stream",
     "text": [
      "Witaj Stefan!\n"
     ]
    }
   ],
   "source": [
    "osoba = 'Stefan'\n",
    "\n",
    "if osoba == 'Stefan':\n",
    "    print 'Witaj Stefan!'\n",
    "else:\n",
    "    print \"Witaj, jakie jest Twoje imię?\" "
   ]
  },
  {
   "cell_type": "code",
   "execution_count": 10,
   "metadata": {},
   "outputs": [
    {
     "name": "stdout",
     "output_type": "stream",
     "text": [
      "Witaj Grzegorz!\n"
     ]
    }
   ],
   "source": [
    "osoba = 'Grzegorz'\n",
    "\n",
    "if osoba == 'Stefan':\n",
    "    print 'Witaj Stefan!'\n",
    "elif osoba =='Grzegorz':\n",
    "    print \"Witaj Grzegorz!\"\n",
    "else:\n",
    "    print \"Witaj, jakie jest Twoje imię?\" "
   ]
  },
  {
   "cell_type": "markdown",
   "metadata": {},
   "source": [
    "## Indentation (pl. *wcięcia*)\n",
    "\n",
    "Waże jest aby dobrze zrozumieć jak w Pythonie działają indentation aby zachować strukturę i porządek swojego kodu. Temat z nimi związany poruszymny podczas jednej z przyszył lekcji o budowaniu funkcji."
   ]
  }
 ],
 "metadata": {
  "kernelspec": {
   "display_name": "Python 2",
   "language": "python",
   "name": "python2"
  },
  "language_info": {
   "codemirror_mode": {
    "name": "ipython",
    "version": 2
   },
   "file_extension": ".py",
   "mimetype": "text/x-python",
   "name": "python",
   "nbconvert_exporter": "python",
   "pygments_lexer": "ipython2",
   "version": "2.7.14"
  }
 },
 "nbformat": 4,
 "nbformat_minor": 1
}
