{
 "cells": [
  {
   "cell_type": "markdown",
   "metadata": {},
   "source": [
    "# Object Oriented Programming (pl. *Programowanie obiektowe*)\n",
    "+ date: 2017-12-22\n",
    "+ category: python\n",
    "+ tags: oop"
   ]
  },
  {
   "cell_type": "markdown",
   "metadata": {},
   "source": [
    "Object Oriented Programmin (OOP) jest jedną w głównych przeszkód dla poczatkujących, którzy zaczynają przygodę z programowaniem.\n",
    "\n",
    "W siecie jest bardzo dużo tutoriali i materiałów tłumaczacych zasdany OOP. Śmiało poszukaj w Google, praca programisty wiąże się ze stałą nauką...\n",
    "\n",
    "Podczas tej lekcji zdobędziesz wiedzę na temat OOP w Pythonie, obejmującą poniższe zagadnienia:\n",
    "\n",
    "* Obiekty\n",
    "* Używanie słowa kluczowego *class* (pl. *klasa*)\n",
    "* Tworzenie atrybutów class\n",
    "* Tworzenie methods w class\n",
    "* Podstawy Inheritance (pl. *dziedziczenie*)\n",
    "* Podstawy Special Methods for class (pl. * metody specjalne klas*)\n",
    "\n",
    "Przypominam, że w Pythonie wszysko jest obiektem, np. lista, tuple, dictionary. Czas zacząć od kilku przykładów:"
   ]
  },
  {
   "cell_type": "code",
   "execution_count": 2,
   "metadata": {
    "collapsed": true
   },
   "outputs": [],
   "source": [
    "l = [1,2,3]"
   ]
  },
  {
   "cell_type": "markdown",
   "metadata": {},
   "source": [
    "Pamiętasz jak się wywołuje methods na listach?"
   ]
  },
  {
   "cell_type": "code",
   "execution_count": 4,
   "metadata": {},
   "outputs": [
    {
     "data": {
      "text/plain": [
       "1"
      ]
     },
     "execution_count": 4,
     "metadata": {},
     "output_type": "execute_result"
    }
   ],
   "source": [
    "l.count(2) # liczy ile razy w liście występuje liczba 2"
   ]
  },
  {
   "cell_type": "markdown",
   "metadata": {},
   "source": [
    "Podczas tej lekcji dowiemy się jak tworzyć obiekty takie jak lista. Do tej pory dowiedzieliśmy się jak tworzyć funkcje. Poznajmy obiekty:"
   ]
  },
  {
   "cell_type": "markdown",
   "metadata": {},
   "source": [
    "## Obiekty\n",
    "W Pythonie, **wszystko jest obiektem**. Przypomnij sobie jak podczas jednej z poprzednich lekcji wyżywaliśmy funkcji type() aby sprawdzić typ obiektu..."
   ]
  },
  {
   "cell_type": "code",
   "execution_count": 5,
   "metadata": {},
   "outputs": [
    {
     "name": "stdout",
     "output_type": "stream",
     "text": [
      "<type 'int'>\n",
      "<type 'list'>\n",
      "<type 'tuple'>\n",
      "<type 'dict'>\n"
     ]
    }
   ],
   "source": [
    "print type(1)\n",
    "print type([])\n",
    "print type(())\n",
    "print type({})"
   ]
  },
  {
   "cell_type": "markdown",
   "metadata": {},
   "source": [
    "Już wiemu, że wszystko co wymieniliśmny powyżej jest obiektem, lecz jak stowrzyć własny typ obiektów? Tutaj najistotniejsze jest słowo kluczowe *class*."
   ]
  },
  {
   "cell_type": "markdown",
   "metadata": {},
   "source": [
    "## class (pl. *klasa*)\n",
    "Obiekty zdefiniowane przez użytkownika tworzone są za pomocą słowa kluczowego class. Class to \"plan\", który definiuje naturę przyszłego obiektu. Za pomocą class możemy stowrzyć instances (pl. *instancje*). Instancja jest specyficznym obiektem utworzonym na podstawie danej classy. Dla przykładu, powyżej stworzyliśmy obiekt 'l', który jest instancją obiektu list.\n",
    "\n",
    "Sprawdźmy jak używać **class**:"
   ]
  },
  {
   "cell_type": "code",
   "execution_count": 7,
   "metadata": {},
   "outputs": [
    {
     "name": "stdout",
     "output_type": "stream",
     "text": [
      "<class '__main__.Przyklad'>\n"
     ]
    }
   ],
   "source": [
    "# Stwórz nowy typ obiektów Przyklad\n",
    "class Przyklad(object):\n",
    "    pass\n",
    "\n",
    "# W ten sposób tworzymy obiekt typu Przyklad\n",
    "x = Przyklad()\n",
    "\n",
    "print type(x)"
   ]
  },
  {
   "cell_type": "markdown",
   "metadata": {},
   "source": [
    "Zachowując konwencję tworząc class stosuje się nazwy zaczynające się wielką literą (ang. *capital letter*). Zwróć uwagę, że x jest teraz odniesieniem nasze nowej instancji klasy Przyklad. Innymi słowy stworzyliśmy nową instancję (ang. *instantiate*) klasy Przyklad.\n",
    "\n",
    "Wewnątrz naszej class nic nie zaplanowaliśmy, lecz możemy zdefinować atrybuty class i methods.\n",
    "\n",
    "* **Atrybut** to właściwość obiektu.\n",
    "* **Method** to operacja, którą mozemy wykonać z obiektm danej class.\n",
    "\n",
    "Na przykład, możemy stowrzyć classę o nazwie Pies. Antrybutem psa może być jestgo rasa lub jego imię, podczas gdy metodą może być szczekanie, które zwraca znaki imitujace głos. \n",
    "\n",
    "Aby lepiej zrozumieć atrybuty przyjżyjmy się przykładowi. "
   ]
  },
  {
   "cell_type": "markdown",
   "metadata": {},
   "source": [
    "## Atrybuty\n",
    "Aby utworzyć atrybut należy trzymać się poniżeszej składni:\n",
    "    \n",
    "    self.atrybut = coś\n",
    "    \n",
    "Jest specjalna metoda o nazwie: \n",
    "\n",
    "    __init__()\n",
    "\n",
    "Metoda ta służy do inicjalizacji atrybutów (w innych językach określa się tak kontruktor) obiektu danej class, np: "
   ]
  },
  {
   "cell_type": "code",
   "execution_count": 11,
   "metadata": {
    "collapsed": true
   },
   "outputs": [],
   "source": [
    "class Pies(object):\n",
    "    def __init__(self,rasa):\n",
    "        self.rasa = rasa\n",
    "        \n",
    "pikus = Pies(rasa='Lab')\n",
    "kapsel = Pies(rasa='Husky')"
   ]
  },
  {
   "cell_type": "markdown",
   "metadata": {},
   "source": [
    "Przanalizujmy to co zrobiliśmy powyżej. \n",
    "Special Method \n",
    "\n",
    "    __init__ \n",
    "\n",
    "jest automatycznie wywoływana zaraz po stworzeniu obiektu danej klasy.\n",
    "\n",
    "    def __init__(self, breed):\n",
    "    \n",
    "Każdy atrybut w definicji class zaczyna się od odwołania do instancji obiektu. Zgodnie z konwencją odwołujemy się stosując zwrot **self**. Rasa jest atrybutem. Wartość atrybutu jest przekazywana podczs tworzenia instancji class.\n",
    "\n",
    "     self.breed = breed"
   ]
  },
  {
   "cell_type": "markdown",
   "metadata": {},
   "source": [
    "Powyżej stworzyliśmy dwie instancje class Pies. Każda z nich posiada inną rasę. Za pomocą poniższej składni możemy uzyskać dostęp do tych atrybutów:"
   ]
  },
  {
   "cell_type": "code",
   "execution_count": 9,
   "metadata": {},
   "outputs": [
    {
     "data": {
      "text/plain": [
       "'Lab'"
      ]
     },
     "execution_count": 9,
     "metadata": {},
     "output_type": "execute_result"
    }
   ],
   "source": [
    "pikus.rasa"
   ]
  },
  {
   "cell_type": "code",
   "execution_count": 12,
   "metadata": {},
   "outputs": [
    {
     "data": {
      "text/plain": [
       "'Husky'"
      ]
     },
     "execution_count": 12,
     "metadata": {},
     "output_type": "execute_result"
    }
   ],
   "source": [
    "kapsel.rasa"
   ]
  },
  {
   "cell_type": "markdown",
   "metadata": {},
   "source": [
    "Zauważ, że po rasa nie ma żadnych nawiasów, jest tak ponieważ jest to atrybut i nie przyjmuje żadnych argumentów.\n",
    "\n",
    "W Pythonie są także **class object attributes** (pl. *atrybuty obiektów klasowych*). Atrybuty obiektów klasowych są takie dla wszystkich instancji danej classy. Dla przykładu, możemy utowrzyć atrybut *gatunek* dla klasy Pies. Każdy pies, poza rasą czy imieniem zawsze będzie ssakiem. W poniższym kodzie zaimplementujemy tę logikę:"
   ]
  },
  {
   "cell_type": "code",
   "execution_count": 19,
   "metadata": {},
   "outputs": [],
   "source": [
    "class Pies(object):\n",
    "    \n",
    "    # Class Object Attribute\n",
    "    gatunek = 'ssak'\n",
    "    \n",
    "    def __init__(self, rasa, imie):\n",
    "        self.rasa = rasa\n",
    "        self.imie = imie"
   ]
  },
  {
   "cell_type": "code",
   "execution_count": 20,
   "metadata": {},
   "outputs": [],
   "source": [
    "pikus = Pies('Lab','Pikus')"
   ]
  },
  {
   "cell_type": "code",
   "execution_count": 22,
   "metadata": {},
   "outputs": [
    {
     "data": {
      "text/plain": [
       "'Pikus'"
      ]
     },
     "execution_count": 22,
     "metadata": {},
     "output_type": "execute_result"
    }
   ],
   "source": [
    "pikus.imie"
   ]
  },
  {
   "cell_type": "markdown",
   "metadata": {},
   "source": [
    "Zwróć uwagę, że Class Object Attribute jest zdefiniowany poza jakąkolwiek metodą w klasie. Zgodnie z konwencją definiujemy je jako pierwsze przed metodą  __init__."
   ]
  },
  {
   "cell_type": "code",
   "execution_count": 23,
   "metadata": {},
   "outputs": [
    {
     "data": {
      "text/plain": [
       "'ssak'"
      ]
     },
     "execution_count": 23,
     "metadata": {},
     "output_type": "execute_result"
    }
   ],
   "source": [
    "pikus.gatunek"
   ]
  },
  {
   "cell_type": "markdown",
   "metadata": {},
   "source": [
    "## Methods (pl. *metody*)\n",
    "\n",
    "Metody są funkcjami definiowanymi wewnątrz ciała class. Metody są wykorzystywane do wykonywania operacji z wykorzystaniem atrybutów naszych obiektów. metody są esncją koncepcji [hermetyzacji](https://pl.wikipedia.org/wiki/Programowanie_obiektowe) w paradygmacie OOP. Jest to niezbędne przy dzieleniu obowiązków w programowaniu, szczególnie przy dużych projektach.\n",
    "\n",
    "Zasadniczo można myśleć o metodach jako funkcjach działających na Obiekt, które wykorzystują jego **self** (pl. *własne*) argumenty.\n",
    "\n",
    "Przeanalizujmy przykład tworzenia class Kolo:"
   ]
  },
  {
   "cell_type": "code",
   "execution_count": 26,
   "metadata": {},
   "outputs": [
    {
     "name": "stdout",
     "output_type": "stream",
     "text": [
      "Promien wynosi:  2\n",
      "Powierzchnia wynosi:  12.56\n"
     ]
    }
   ],
   "source": [
    "class Kolo(object):\n",
    "    pi = 3.14\n",
    "\n",
    "    # Kolo otrzyma instancję z wartością promienia (domyślnie 1)\n",
    "    def __init__(self, promien=1):\n",
    "        self.promien = promien \n",
    "\n",
    "    # Metoda powierzchnia obiecza powierzchnię. Zauważ, że używamy self!\n",
    "    def powierzchnia(self):\n",
    "        return self.promien * self.promien * Kolo.pi\n",
    "\n",
    "    # Metoda unożliwiająca zmiane wartości promienia\n",
    "    def set_promien(self, nowy_promien):\n",
    "        self.promien = nowy_promien\n",
    "\n",
    "    # Metoda zwracająca promien (to samo co wywołanie .promien)\n",
    "    def get_promien(self):\n",
    "        return self.promien\n",
    "\n",
    "\n",
    "k = Kolo()\n",
    "\n",
    "k.set_promien(2)\n",
    "\n",
    "print 'Promien wynosi: ', k.get_promien()\n",
    "print 'Powierzchnia wynosi: ', k.powierzchnia()"
   ]
  },
  {
   "cell_type": "markdown",
   "metadata": {},
   "source": [
    "Super! Powinienś już siedzieć jak sotsować notację *self* aby nadawać referencję atrybutom w metodach. Przejrzyj jeszcze raz kod powyżej i spróbuj napisać własne metody."
   ]
  },
  {
   "cell_type": "markdown",
   "metadata": {},
   "source": [
    "## Inheritance (pl. *dziedziczenie*)\n",
    "\n",
    "Dziedziczenie to sposób tworzenia nowych klas za pomocą klas, które zostały już wcześniej zdefiniowane. Nowo utworzone klasy są nazywane klasami pochodnymi, a klasy, na podstawie których powstają to klasy podstawowowe. Zaletą dziedziczenia jest ponowne użycie kodu i ograniczenie złożoności programu. Klasy pochodne (potomkowie) zastępują lub rozszerzają funkcjonalność klas podstawowych (przodków).\n",
    "\n",
    "Zobacz przykład, włączając naszą poprzednią pracę do klasy Dog:"
   ]
  },
  {
   "cell_type": "code",
   "execution_count": 27,
   "metadata": {
    "collapsed": true
   },
   "outputs": [],
   "source": [
    "class Animal(object):\n",
    "    def __init__(self):\n",
    "        print \"Animal created\"\n",
    "\n",
    "    def whoAmI(self):\n",
    "        print \"Animal\"\n",
    "\n",
    "    def eat(self):\n",
    "        print \"Eating\"\n",
    "\n",
    "\n",
    "class Dog(Animal):\n",
    "    def __init__(self):\n",
    "        Animal.__init__(self)\n",
    "        print \"Dog created\"\n",
    "\n",
    "    def whoAmI(self):\n",
    "        print \"Dog\"\n",
    "\n",
    "    def bark(self):\n",
    "        print \"Woof!\""
   ]
  },
  {
   "cell_type": "code",
   "execution_count": 28,
   "metadata": {},
   "outputs": [
    {
     "name": "stdout",
     "output_type": "stream",
     "text": [
      "Animal created\n",
      "Dog created\n"
     ]
    }
   ],
   "source": [
    "d = Dog()"
   ]
  },
  {
   "cell_type": "code",
   "execution_count": 25,
   "metadata": {},
   "outputs": [
    {
     "name": "stdout",
     "output_type": "stream",
     "text": [
      "Dog\n"
     ]
    }
   ],
   "source": [
    "d.whoAmI()"
   ]
  },
  {
   "cell_type": "code",
   "execution_count": 26,
   "metadata": {},
   "outputs": [
    {
     "name": "stdout",
     "output_type": "stream",
     "text": [
      "Eating\n"
     ]
    }
   ],
   "source": [
    "d.eat()"
   ]
  },
  {
   "cell_type": "code",
   "execution_count": 27,
   "metadata": {},
   "outputs": [
    {
     "name": "stdout",
     "output_type": "stream",
     "text": [
      "Woof!\n"
     ]
    }
   ],
   "source": [
    "d.bark()"
   ]
  },
  {
   "cell_type": "markdown",
   "metadata": {},
   "source": [
    "W tym przykłądzie mamy dwie klasy: Animal i Dog. Animal jest klasą podstawową, a Dog jest klasą pochodną.\n",
    "\n",
    "Klasa pochodna dziedziczy metody z klasy bazowej.\n",
    "\n",
    "* Zostało to udowodnione poprzez wykorzystanie metody eat().\n",
    "\n",
    "Klasa pochodna może zmodyfikować metody klasy podstawowej.\n",
    "\n",
    "* Zostało to zaprezentowane poprzez użycie metody whoAmI().\n",
    "\n",
    "Ponadto, klasa pochodna może tworzy własne metody.\n",
    "\n",
    "* Nowa metoda bark()."
   ]
  },
  {
   "cell_type": "markdown",
   "metadata": {},
   "source": [
    "## Metody Specjalne (ang. *Special Methods*)"
   ]
  },
  {
   "cell_type": "markdown",
   "metadata": {},
   "source": [
    "Na koniec omówmy Special Methods. Klasy w Pythonie mogą implementować pewne operacje ze specjalnymi nazwami metod. Te metody nie są w rzeczywistości wywoływane bezpośrednio, lecz w oparciu o specyficzną składnię języka Python. Na przykład,  stworzmy klasę Book:"
   ]
  },
  {
   "cell_type": "code",
   "execution_count": 29,
   "metadata": {
    "collapsed": true
   },
   "outputs": [],
   "source": [
    "class Book(object):\n",
    "    def __init__(self, title, author, pages):\n",
    "        print \"A book is created\"\n",
    "        self.title = title\n",
    "        self.author = author\n",
    "        self.pages = pages\n",
    "\n",
    "    def __str__(self):\n",
    "        return \"Title:%s , author:%s, pages:%s \" %(self.title, self.author, self.pages)\n",
    "\n",
    "    def __len__(self):\n",
    "        return self.pages\n",
    "\n",
    "    def __del__(self):\n",
    "        print \"A book is destroyed\""
   ]
  },
  {
   "cell_type": "code",
   "execution_count": 31,
   "metadata": {},
   "outputs": [
    {
     "name": "stdout",
     "output_type": "stream",
     "text": [
      "A book is created\n",
      "Title:Python! , author:Jan Rosa, pages:155 \n",
      "155\n",
      "A book is destroyed\n"
     ]
    }
   ],
   "source": [
    "book = Book(\"Python!\", \"Jan Rosa\", 155)\n",
    "\n",
    "#Special Methods\n",
    "print book\n",
    "print len(book)\n",
    "del book"
   ]
  },
  {
   "cell_type": "markdown",
   "metadata": {},
   "source": [
    "    Metody __init__(), __str__(), __len__() and the __del__().\n",
    "    \n",
    "Powyższe metody specjalne są zdefiniowane przez użycie podkreślników. Umożliwiają one użycie specyficznych metod Pythona na obiektach tworzony przez naszą klasę.\n",
    "\n",
    "** Super! Po tej lekcji powinieneś rozumieć podstawy OOP oraz wiedzieć jak stworzyć własną klasę oraz jej obiekt.**\n"
   ]
  },
  {
   "cell_type": "code",
   "execution_count": null,
   "metadata": {
    "collapsed": true
   },
   "outputs": [],
   "source": []
  }
 ],
 "metadata": {
  "kernelspec": {
   "display_name": "Python 2",
   "language": "python",
   "name": "python2"
  },
  "language_info": {
   "codemirror_mode": {
    "name": "ipython",
    "version": 2
   },
   "file_extension": ".py",
   "mimetype": "text/x-python",
   "name": "python",
   "nbconvert_exporter": "python",
   "pygments_lexer": "ipython2",
   "version": "2.7.14"
  }
 },
 "nbformat": 4,
 "nbformat_minor": 1
}
