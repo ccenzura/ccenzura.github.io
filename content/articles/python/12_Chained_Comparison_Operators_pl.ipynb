{
 "cells": [
  {
   "cell_type": "markdown",
   "metadata": {},
   "source": [
    "# Łączenie operatorów porównania\n",
    "+ date: 2017-11-22\n",
    "+ category: python\n",
    "+ tags: python, comparison, operators"
   ]
  },
  {
   "cell_type": "markdown",
   "metadata": {},
   "source": [
    "Ciekawą cechą Python jest możliwość *łączenia* wielu porównań do budowy bardziej złożonych testów. Możesz użyć łączenia porównań w celu skrócenia bardziej skomplikowanych wyrażeń logicznych.\n",
    "\n",
    "Podczas tej lekcji dowiesz sie jak łączyć operatory porównania oraz poznasz inne dwa ważne wyrażenia w Pythonie: **and** oraz **or**.\n",
    "\n",
    "Przeanalizujmy kilka przykładów poniżej:"
   ]
  },
  {
   "cell_type": "code",
   "execution_count": 1,
   "metadata": {},
   "outputs": [
    {
     "data": {
      "text/plain": [
       "True"
      ]
     },
     "execution_count": 1,
     "metadata": {},
     "output_type": "execute_result"
    }
   ],
   "source": [
    "1 < 2 < 3"
   ]
  },
  {
   "cell_type": "markdown",
   "metadata": {},
   "source": [
    "Wyrażenie powyżej sprawdza czy 1 jest mniejsze od 2 **and** czy 2 jest mniejsze od 3. Możemy napisać to takie samo wyrażenia używając **and**, tak jak poniżej:"
   ]
  },
  {
   "cell_type": "code",
   "execution_count": 1,
   "metadata": {},
   "outputs": [
    {
     "data": {
      "text/plain": [
       "True"
      ]
     },
     "execution_count": 1,
     "metadata": {},
     "output_type": "execute_result"
    }
   ],
   "source": [
    "1<2 and 2<3"
   ]
  },
  {
   "cell_type": "markdown",
   "metadata": {},
   "source": [
    "Operator **and** jest stosowany do sprawdzenia czy oba warunki są spełnione, jeżeli tak to całę wyrażenie jest True."
   ]
  },
  {
   "cell_type": "code",
   "execution_count": 3,
   "metadata": {},
   "outputs": [
    {
     "data": {
      "text/plain": [
       "True"
      ]
     },
     "execution_count": 3,
     "metadata": {},
     "output_type": "execute_result"
    }
   ],
   "source": [
    "1 < 3 > 2"
   ]
  },
  {
   "cell_type": "markdown",
   "metadata": {},
   "source": [
    "Powyżej sprawdzamy czy 3 jest większe niż pozostałe liczby, w tym przypadku także możemy użyć operatora **and**:"
   ]
  },
  {
   "cell_type": "code",
   "execution_count": 2,
   "metadata": {},
   "outputs": [
    {
     "data": {
      "text/plain": [
       "True"
      ]
     },
     "execution_count": 2,
     "metadata": {},
     "output_type": "execute_result"
    }
   ],
   "source": [
    "1<3 and 3>2"
   ]
  },
  {
   "cell_type": "markdown",
   "metadata": {},
   "source": [
    "Istotne jest to że Python sprawdza oba przypadki porównania. Możemy także użyć operatora **or** pisząc wyrażenie w Pythonie. "
   ]
  },
  {
   "cell_type": "code",
   "execution_count": 3,
   "metadata": {},
   "outputs": [
    {
     "data": {
      "text/plain": [
       "True"
      ]
     },
     "execution_count": 3,
     "metadata": {},
     "output_type": "execute_result"
    }
   ],
   "source": [
    "1==2 or 2<3"
   ]
  },
  {
   "cell_type": "markdown",
   "metadata": {},
   "source": [
    "Zwróc uwagę, że całe wrażenie jest True. Wynika to z tego, że dzięki opreatorowi **or** tylko jeden przypadek musi być spełniony aby całe wyrażenie było True. Przeanalizujmy poniższy przykład:"
   ]
  },
  {
   "cell_type": "code",
   "execution_count": 4,
   "metadata": {},
   "outputs": [
    {
     "data": {
      "text/plain": [
       "True"
      ]
     },
     "execution_count": 4,
     "metadata": {},
     "output_type": "execute_result"
    }
   ],
   "source": [
    "1==1 or 100==1"
   ]
  }
 ],
 "metadata": {
  "kernelspec": {
   "display_name": "Python 2",
   "language": "python",
   "name": "python2"
  },
  "language_info": {
   "codemirror_mode": {
    "name": "ipython",
    "version": 2
   },
   "file_extension": ".py",
   "mimetype": "text/x-python",
   "name": "python",
   "nbconvert_exporter": "python",
   "pygments_lexer": "ipython2",
   "version": "2.7.14"
  }
 },
 "nbformat": 4,
 "nbformat_minor": 1
}
