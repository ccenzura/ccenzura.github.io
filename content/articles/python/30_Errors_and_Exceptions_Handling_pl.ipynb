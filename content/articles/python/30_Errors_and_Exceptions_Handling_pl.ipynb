{
 "cells": [
  {
   "cell_type": "markdown",
   "metadata": {},
   "source": [
    "# Obsługa Błędów i Wyjątków (ang. *Errors and Exception Handling*)\n",
    "+ date: 2018-01-02\n",
    "+ category: python\n",
    "+ tags: error, exception"
   ]
  },
  {
   "cell_type": "markdown",
   "metadata": {},
   "source": [
    "Podczas tej lekcji nauczymy się jak obsługiwać błędy i wyjątki w Pythonie. Na pewno w czasie tego kursu miałeś już styczność z errors, np.:"
   ]
  },
  {
   "cell_type": "code",
   "execution_count": 1,
   "metadata": {},
   "outputs": [
    {
     "ename": "SyntaxError",
     "evalue": "EOL while scanning string literal (<ipython-input-1-23e01f0d17c8>, line 1)",
     "output_type": "error",
     "traceback": [
      "\u001b[0;36m  File \u001b[0;32m\"<ipython-input-1-23e01f0d17c8>\"\u001b[0;36m, line \u001b[0;32m1\u001b[0m\n\u001b[0;31m    print 'Hello\u001b[0m\n\u001b[0m               ^\u001b[0m\n\u001b[0;31mSyntaxError\u001b[0m\u001b[0;31m:\u001b[0m EOL while scanning string literal\n"
     ]
    }
   ],
   "source": [
    "print 'Hello"
   ]
  },
  {
   "cell_type": "markdown",
   "metadata": {},
   "source": [
    "Zwróć uwagę, w jaki sposób otrzymujemy błąd SyntaxError, z dalszym opisem, że był to błąd EOL (błąd końca linii) wywołany podczas skanowania string. Jest to wystarczająco szczegółowe, abyśmy mogli zauważyć, że zapomnieliśmy o pojedynczym cudzysłowie na końcu linii. Zrozumienie różnych typów błędów pomoże znacznie szybciej debugować kod.\n",
    "\n",
    "Ten typ błędu i opis jest znany jako wyjątek. Nawet jeśli instrukcja lub wyrażenie jest poprawne pod względem składni, może spowodować błąd podczas próby wykonania. Błędy wykryte podczas wykonywania są nazywane Exceptions i nie powodują przerwania działania kodu.\n",
    "\n",
    "Możesz przejrzeć pełną listę wbudowanych wyjątków [tutaj](https://docs.python.org/2/library/exceptions.html). Teraz nauczmy się obsługi błędów (ang. * errors*) i wyjątków (ang. *exceptions*) w naszym własnym kodzie."
   ]
  },
  {
   "cell_type": "markdown",
   "metadata": {},
   "source": [
    "## try and except\n",
    "\n",
    "Podstawową terminologią i składnią używaną do obsługi błędów w Pythonie są instrukcje **try** i **except**. Kod, który może powodować wyjątek, jest umieszczany w bloku **try**, a obsługa wyjątku jest zaimplementowana w bloku **except** kodu. Składnia to:\n",
    "    \n",
    "    try:\n",
    "       Twoje operacje, które mogą powodować wyjątek\n",
    "       ...\n",
    "    except WyjątekI: # możemy tuaj określać dokładny rodzaj wyjątków, który wywoła dany blok\n",
    "       Jeżeli jest wyjątekI to wykonaj ten blok.\n",
    "    except WyjątekII:\n",
    "       Jeżeli jest wyjątekII to wykonaj ten blok.\n",
    "       ...\n",
    "    else:\n",
    "       Jeżeli brak wyjątków wykonaj ten blok.\n",
    "\n",
    "Możemy również sprawdzić, czy nie ma wyjątków z użyciem tylko except: Aby lepiej zrozumieć to wszystkiego, sprawdźmy przykład: Przyjrzymy się kodowi, który otwiera i zapisuje plik:"
   ]
  },
  {
   "cell_type": "code",
   "execution_count": 2,
   "metadata": {},
   "outputs": [
    {
     "name": "stdout",
     "output_type": "stream",
     "text": [
      "Zapisywanie pliku zakończyło się sukcesem\n"
     ]
    }
   ],
   "source": [
    "try:\n",
    "    f = open('testfile','w')\n",
    "    f.write('Test zapisywania tekstu w pliku')\n",
    "except IOError:\n",
    "    # Ten blok except zostanie aktywowany wyłacznie w przypadku wywołania wyjątku IOError \n",
    "    print \"Error: Nie mogę znaleźć pliku lub źródła danych\"\n",
    "else:\n",
    "   print \"Zapisywanie pliku zakończyło się sukcesem\"\n",
    "   f.close()"
   ]
  },
  {
   "cell_type": "markdown",
   "metadata": {},
   "source": [
    "Zobaczmy co się stanie, kiedy nie będziemy mieli dostępu do zapisu pliku (otwarcie pliku w trybie 'r'):"
   ]
  },
  {
   "cell_type": "code",
   "execution_count": 3,
   "metadata": {},
   "outputs": [
    {
     "name": "stdout",
     "output_type": "stream",
     "text": [
      "Error: Nie mogę znaleźć pliku lub źródła danych\n"
     ]
    }
   ],
   "source": [
    "try:\n",
    "    f = open('testfile','r')\n",
    "    f.write('Test zapisywania tekstu w pliku')\n",
    "except IOError:\n",
    "    # Ten blok except zostanie aktywowany wyłacznie w przypadku wywołania wyjątku IOError \n",
    "   print \"Error: Nie mogę znaleźć pliku lub źródła danych\"\n",
    "else:\n",
    "   print \"Zapisywanie pliku zakończyło się sukcesem\"\n",
    "   f.close()"
   ]
  },
  {
   "cell_type": "markdown",
   "metadata": {},
   "source": [
    "Wspaniale! Zwróć uwagę, jak wywołaliśmy komnunikat! Kod nadal działał i mogliśmy kontynuować działania i uruchamiać bloki kodu. Jest to niezwykle przydatne, gdy musisz uwzględnić możliwe błędy podczas wprowadzania kodu. Możesz przygotować się na błąd i nie przrywać kodu, tak jak widzieliśmy to powyżej.\n",
    "\n",
    "Moglibyśmy też po prostu powiedzieć z wyjątkiem: gdybyśmy nie byli pewni, jaki wyjątek się pojawi. Na przykład:"
   ]
  },
  {
   "cell_type": "code",
   "execution_count": 5,
   "metadata": {},
   "outputs": [
    {
     "name": "stdout",
     "output_type": "stream",
     "text": [
      "Error: Nie mogę znaleźć pliku lub źródła danych\n"
     ]
    }
   ],
   "source": [
    "try:\n",
    "    f = open('testfile','r')\n",
    "    f.write('Test zapisywania tekstu w pliku')\n",
    "except:\n",
    "    # Ten blok except zostanie aktywowany wyłacznie w przypadku wywołania jakiegokolwiek wyjątku \n",
    "   print \"Error: Nie mogę znaleźć pliku lub źródła danych\"\n",
    "else:\n",
    "   print \"Zapisywanie pliku zakończyło się sukcesem\"\n",
    "   f.close()"
   ]
  },
  {
   "cell_type": "markdown",
   "metadata": {},
   "source": [
    "Swietnie! Teraz nie musimy zapamiętywać listy wszystkich typów wyjątków! Co się stanie, jeśli będziemy chcieli uruchomić kod po wystąpieniu wyjątku? Tutaj zastosowanie ma **finally**.\n",
    "### finally\n",
    "**Finally**: kod znajdujący się w tym bloku zostanie zawsze wywołany, nawet w przypadku wystąpienia wyjątku w bloku **try**\n",
    "    try:\n",
    "       kod bloku try\n",
    "       ...\n",
    "       Z powodu jakiegokolwiek wyjątku ten kod może zostać pominięty!\n",
    "    finally:\n",
    "       Ten blok kody zawsze będzie wykonany.\n",
    "\n",
    "Przykład:"
   ]
  },
  {
   "cell_type": "code",
   "execution_count": 6,
   "metadata": {},
   "outputs": [
    {
     "name": "stdout",
     "output_type": "stream",
     "text": [
      "Kod bloku finally zawsze jest wykonywany\n"
     ]
    }
   ],
   "source": [
    "try:\n",
    "   f = open(\"testfile\", \"w\")\n",
    "   f.write(\"Zdanie testowe\")\n",
    "finally:\n",
    "   print \"Kod bloku finally zawsze jest wykonywany\""
   ]
  },
  {
   "cell_type": "markdown",
   "metadata": {},
   "source": [
    "Możemy użyć tego połączenia z except. Przanalizujmy przykład, który pobiera informację od użytkownika i może zostać błednie podana:"
   ]
  },
  {
   "cell_type": "code",
   "execution_count": 7,
   "metadata": {},
   "outputs": [],
   "source": [
    "def askint():\n",
    "        try:\n",
    "            val = int(raw_input(\"Proszę podać liczbę: \"))\n",
    "        except:\n",
    "            print \"Wygląda na to że nie podałeś liczby!\"\n",
    "            \n",
    "        finally:\n",
    "            print \"Finally, wykonane!\"\n",
    "        print val       "
   ]
  },
  {
   "cell_type": "code",
   "execution_count": 9,
   "metadata": {},
   "outputs": [
    {
     "name": "stdout",
     "output_type": "stream",
     "text": [
      "Proszę podać liczbę: 5\n",
      "Finally, wykonane!\n",
      "5\n"
     ]
    }
   ],
   "source": [
    "askint()"
   ]
  },
  {
   "cell_type": "code",
   "execution_count": 10,
   "metadata": {},
   "outputs": [
    {
     "name": "stdout",
     "output_type": "stream",
     "text": [
      "Proszę podać liczbę: five\n",
      "Wygląda na to że nie podałeś liczby!\n",
      "Finally, wykonane!\n"
     ]
    },
    {
     "ename": "UnboundLocalError",
     "evalue": "local variable 'val' referenced before assignment",
     "output_type": "error",
     "traceback": [
      "\u001b[0;31m---------------------------------------------------------------------------\u001b[0m",
      "\u001b[0;31mUnboundLocalError\u001b[0m                         Traceback (most recent call last)",
      "\u001b[0;32m<ipython-input-10-6ee53d339e7e>\u001b[0m in \u001b[0;36m<module>\u001b[0;34m()\u001b[0m\n\u001b[0;32m----> 1\u001b[0;31m \u001b[0maskint\u001b[0m\u001b[0;34m(\u001b[0m\u001b[0;34m)\u001b[0m\u001b[0;34m\u001b[0m\u001b[0m\n\u001b[0m",
      "\u001b[0;32m<ipython-input-7-49b80b7b5c78>\u001b[0m in \u001b[0;36maskint\u001b[0;34m()\u001b[0m\n\u001b[1;32m      7\u001b[0m         \u001b[0;32mfinally\u001b[0m\u001b[0;34m:\u001b[0m\u001b[0;34m\u001b[0m\u001b[0m\n\u001b[1;32m      8\u001b[0m             \u001b[0;32mprint\u001b[0m \u001b[0;34m\"Finally, wykonane!\"\u001b[0m\u001b[0;34m\u001b[0m\u001b[0m\n\u001b[0;32m----> 9\u001b[0;31m         \u001b[0;32mprint\u001b[0m \u001b[0mval\u001b[0m\u001b[0;34m\u001b[0m\u001b[0m\n\u001b[0m",
      "\u001b[0;31mUnboundLocalError\u001b[0m: local variable 'val' referenced before assignment"
     ]
    }
   ],
   "source": [
    "askint()"
   ]
  },
  {
   "cell_type": "markdown",
   "metadata": {},
   "source": [
    "Zwróć uwagę na błąd, który wystąpił podczas próby wywołania wartości val (ponieważ nigdy nie została poprawnie przypisana). Zwrócmy się do użytkownika i sprawdźmy, czy typ wejściowy jest liczbą całkowitą:"
   ]
  },
  {
   "cell_type": "code",
   "execution_count": 11,
   "metadata": {},
   "outputs": [],
   "source": [
    "def askint():\n",
    "        try:\n",
    "            val = int(raw_input(\"Proszę podać liczbę: \"))\n",
    "        except:\n",
    "            print \"Wygląda na to że nie podałeś liczby!\"\n",
    "            val = int(raw_input(\"Try again-Proszę podać liczbę: \"))\n",
    "        finally:\n",
    "            print \"Finally, wykonane\"\n",
    "        print val "
   ]
  },
  {
   "cell_type": "code",
   "execution_count": 13,
   "metadata": {},
   "outputs": [
    {
     "name": "stdout",
     "output_type": "stream",
     "text": [
      "Proszę podać liczbę: f\n",
      "Wygląda na to że nie podałeś liczby!\n",
      "Try again-Proszę podać liczbę: f\n",
      "Finally, wykonane\n"
     ]
    },
    {
     "ename": "ValueError",
     "evalue": "invalid literal for int() with base 10: 'f'",
     "output_type": "error",
     "traceback": [
      "\u001b[0;31m---------------------------------------------------------------------------\u001b[0m",
      "\u001b[0;31mValueError\u001b[0m                                Traceback (most recent call last)",
      "\u001b[0;32m<ipython-input-13-6ee53d339e7e>\u001b[0m in \u001b[0;36m<module>\u001b[0;34m()\u001b[0m\n\u001b[0;32m----> 1\u001b[0;31m \u001b[0maskint\u001b[0m\u001b[0;34m(\u001b[0m\u001b[0;34m)\u001b[0m\u001b[0;34m\u001b[0m\u001b[0m\n\u001b[0m",
      "\u001b[0;32m<ipython-input-11-c8aecf827c5e>\u001b[0m in \u001b[0;36maskint\u001b[0;34m()\u001b[0m\n\u001b[1;32m      4\u001b[0m         \u001b[0;32mexcept\u001b[0m\u001b[0;34m:\u001b[0m\u001b[0;34m\u001b[0m\u001b[0m\n\u001b[1;32m      5\u001b[0m             \u001b[0;32mprint\u001b[0m \u001b[0;34m\"Wygląda na to że nie podałeś liczby!\"\u001b[0m\u001b[0;34m\u001b[0m\u001b[0m\n\u001b[0;32m----> 6\u001b[0;31m             \u001b[0mval\u001b[0m \u001b[0;34m=\u001b[0m \u001b[0mint\u001b[0m\u001b[0;34m(\u001b[0m\u001b[0mraw_input\u001b[0m\u001b[0;34m(\u001b[0m\u001b[0;34m\"Try again-Proszę podać liczbę: \"\u001b[0m\u001b[0;34m)\u001b[0m\u001b[0;34m)\u001b[0m\u001b[0;34m\u001b[0m\u001b[0m\n\u001b[0m\u001b[1;32m      7\u001b[0m         \u001b[0;32mfinally\u001b[0m\u001b[0;34m:\u001b[0m\u001b[0;34m\u001b[0m\u001b[0m\n\u001b[1;32m      8\u001b[0m             \u001b[0;32mprint\u001b[0m \u001b[0;34m\"Finally, wykonane\"\u001b[0m\u001b[0;34m\u001b[0m\u001b[0m\n",
      "\u001b[0;31mValueError\u001b[0m: invalid literal for int() with base 10: 'f'"
     ]
    }
   ],
   "source": [
    "askint()"
   ]
  },
  {
   "cell_type": "markdown",
   "metadata": {},
   "source": [
    "Hmmm... weryfikacja podawanej wartości zmiennej jest tylko raz. Jak możemy kontynuować weryfikację do momentu podania poprawnej wartości? Możemy oczywiście zastoswać pętlę **while**!"
   ]
  },
  {
   "cell_type": "code",
   "execution_count": 1,
   "metadata": {
    "collapsed": true
   },
   "outputs": [],
   "source": [
    "def askint():\n",
    "    while True:    \n",
    "        try:\n",
    "            val = int(raw_input(\"Proszę podać liczbę: \"))\n",
    "        except:\n",
    "            print \"Wygląda na to że nie podałeś liczby!\"\n",
    "            continue\n",
    "        else:\n",
    "            print 'Tak, to jest liczba naturalna'\n",
    "            break\n",
    "        finally:\n",
    "            print \"Finally, wykonane\"\n",
    "\n",
    "            print val "
   ]
  },
  {
   "cell_type": "code",
   "execution_count": 2,
   "metadata": {},
   "outputs": [
    {
     "name": "stdout",
     "output_type": "stream",
     "text": [
      "Proszę podać liczbę: q\n",
      "Wygląda na to że nie podałeś liczby!\n",
      "Finally, wykonane\n",
      "Proszę podać liczbę: w\n",
      "Wygląda na to że nie podałeś liczby!\n",
      "Finally, wykonane\n",
      "Proszę podać liczbę: e\n",
      "Wygląda na to że nie podałeś liczby!\n",
      "Finally, wykonane\n",
      "Proszę podać liczbę: r\n",
      "Wygląda na to że nie podałeś liczby!\n",
      "Finally, wykonane\n",
      "Proszę podać liczbę: 6\n",
      "Tak, to jest liczba naturalna\n",
      "Finally, wykonane\n"
     ]
    }
   ],
   "source": [
    "askint()"
   ]
  },
  {
   "cell_type": "markdown",
   "metadata": {},
   "source": [
    "**Wspaniale! Teraz już wiesz jak posługiwać się błedami i wyjątkami w Pythonie z wykorzystaniem notacji try, except, else i finally!** "
   ]
  }
 ],
 "metadata": {
  "kernelspec": {
   "display_name": "Python 2",
   "language": "python",
   "name": "python2"
  },
  "language_info": {
   "codemirror_mode": {
    "name": "ipython",
    "version": 2
   },
   "file_extension": ".py",
   "mimetype": "text/x-python",
   "name": "python",
   "nbconvert_exporter": "python",
   "pygments_lexer": "ipython2",
   "version": "2.7.14"
  }
 },
 "nbformat": 4,
 "nbformat_minor": 1
}
