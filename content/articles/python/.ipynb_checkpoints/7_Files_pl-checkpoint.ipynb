{
 "cells": [
  {
   "cell_type": "markdown",
   "metadata": {},
   "source": [
    "# Files (pl. *pliki*)\n",
    "+ date: 2017-11-21\n",
    "+ category: python\n",
    "+ tags: python, file"
   ]
  },
  {
   "cell_type": "markdown",
   "metadata": {},
   "source": [
    "Python używa plików jako dodatkowe źródła danych. Pliki te mogą by dowolnego rodzaju, nie jest istotne czy są to pliki audo, pliki tekstowe, e-maile czy dokumenty Excel. Aby rozpocząc pracę z plikami o innym rozszerzeniu prawdopodobnie będzie wymaga na instalacja określonej biblioteki lub modułu, lecz jest to stosunkowo proste zadanie (w dalszej części poruszymy te zagadnienie). \n",
    "\n",
    "Python ma wbudowaną funkcję otwierania, która pozwala nam otwierać i odtwarzać podstawowe typy plików. Najpierw jednak potrzebujemy pliku. Zamierzamy użyć magii iPython do stworzenia pliku tekstowego!\n",
    "\n",
    "## iPython zapisywanie pliku\n",
    "Jeżeli nie korzystasz z Jupyter notebooka utwórz w tradycyjny sposób w tym samym katalogu."
   ]
  },
  {
   "cell_type": "code",
   "execution_count": 8,
   "metadata": {},
   "outputs": [
    {
     "name": "stdout",
     "output_type": "stream",
     "text": [
      "Writing test.txt\n"
     ]
    }
   ],
   "source": [
    "%%writefile test.txt \n",
    "Czesc, to jest szybki test"
   ]
  },
  {
   "cell_type": "markdown",
   "metadata": {},
   "source": [
    "## Python otwieranie pliku\n",
    "\n",
    "Aby otworzyć plik użyjemy funkcji open(), która przyjmuje także argument (nazywa również parametrem). Zobaczmy jak to działa:"
   ]
  },
  {
   "cell_type": "code",
   "execution_count": 9,
   "metadata": {
    "collapsed": true
   },
   "outputs": [],
   "source": [
    "# Otwieranie wcześniej utworzonego pliku\n",
    "moj_plik = open('test.txt')"
   ]
  },
  {
   "cell_type": "code",
   "execution_count": 10,
   "metadata": {},
   "outputs": [
    {
     "data": {
      "text/plain": [
       "'Czesc, to jest szybki test'"
      ]
     },
     "execution_count": 10,
     "metadata": {},
     "output_type": "execute_result"
    }
   ],
   "source": [
    "# Odczytywanie zawartości pliku\n",
    "moj_plik.read()"
   ]
  },
  {
   "cell_type": "code",
   "execution_count": 11,
   "metadata": {},
   "outputs": [
    {
     "data": {
      "text/plain": [
       "''"
      ]
     },
     "execution_count": 11,
     "metadata": {},
     "output_type": "execute_result"
    }
   ],
   "source": [
    "# Co sie stanie jeślie będziemy chcieli ponownie odczytać plik?\n",
    "moj_plik.read()"
   ]
  },
  {
   "cell_type": "markdown",
   "metadata": {},
   "source": [
    "Dzieje się tak, ponieważ kursor odczytał znajdujący się tekst w pliku i pozostał na jego końcu. Nic więcej nie pozostało do odczytania. Pozycję kursora możemy zresetować w poniższy sposób:"
   ]
  },
  {
   "cell_type": "code",
   "execution_count": 37,
   "metadata": {
    "collapsed": true
   },
   "outputs": [],
   "source": [
    "# Szukaj początki pliku\n",
    "moj_plik.seek(0)"
   ]
  },
  {
   "cell_type": "code",
   "execution_count": 23,
   "metadata": {},
   "outputs": [
    {
     "data": {
      "text/plain": [
       "'Czesc, to jest szybki test'"
      ]
     },
     "execution_count": 23,
     "metadata": {},
     "output_type": "execute_result"
    }
   ],
   "source": [
    "# Odczytaj plik ponownie\n",
    "moj_plik.read()"
   ]
  },
  {
   "cell_type": "markdown",
   "metadata": {},
   "source": [
    "Aby uniknąc resetowania pozycji kursora możemy wykorzystać metodę readlines(). Podczas używania tej metody bądź ostrożnym, ponieważ wszystkie odczytywane linie są przechowywane w pamięci. W przyszłości nauczymy się jak wykonywać iterację na dużych plikach."
   ]
  },
  {
   "cell_type": "code",
   "execution_count": 32,
   "metadata": {},
   "outputs": [
    {
     "data": {
      "text/plain": [
       "['Czesc, to jest szybki test']"
      ]
     },
     "execution_count": 32,
     "metadata": {},
     "output_type": "execute_result"
    }
   ],
   "source": [
    "# Readlines zwraca listę składającą się z linii pochodzących z pliku.\n",
    "moj_plik.readlines()"
   ]
  },
  {
   "cell_type": "markdown",
   "metadata": {},
   "source": [
    "## Zapisywanie do pliku\n",
    "\n",
    "Korzystając z funkcji open() domyślnie mamy możliwość wyłącznie odczytu pliku, aby uzyskać możliwość zapisu musimy podać dodatkowy argument 'w'. Przykład poniżej:"
   ]
  },
  {
   "cell_type": "code",
   "execution_count": 33,
   "metadata": {
    "collapsed": true
   },
   "outputs": [],
   "source": [
    "# Dodaj drugi argument do funkcji - 'w', który umożliwi zapisywanie pliku\n",
    "moj_plik = open('test.txt','w+')"
   ]
  },
  {
   "cell_type": "code",
   "execution_count": 35,
   "metadata": {
    "collapsed": true
   },
   "outputs": [],
   "source": [
    "# Za pisz do pliku\n",
    "moj_plik.write('To jest nowa linia')"
   ]
  },
  {
   "cell_type": "code",
   "execution_count": 38,
   "metadata": {},
   "outputs": [
    {
     "data": {
      "text/plain": [
       "'To jest nowa linia'"
      ]
     },
     "execution_count": 38,
     "metadata": {},
     "output_type": "execute_result"
    }
   ],
   "source": [
    "# Odczytaj plik\n",
    "moj_plik.read()"
   ]
  },
  {
   "cell_type": "markdown",
   "metadata": {},
   "source": [
    "## Iteracja pliku\n",
    "\n",
    "Przyjrzyjmy się szybko pętli for do iterowania pliku. Stwórzmy nowy plik za pomocą iPython Magic (lub  tradycyjnie)."
   ]
  },
  {
   "cell_type": "code",
   "execution_count": 41,
   "metadata": {},
   "outputs": [
    {
     "name": "stdout",
     "output_type": "stream",
     "text": [
      "Overwriting test.txt\n"
     ]
    }
   ],
   "source": [
    "%%writefile test.txt\n",
    "Pierwsza linia\n",
    "Druga linia"
   ]
  },
  {
   "cell_type": "markdown",
   "metadata": {},
   "source": [
    "Teraz wykorzystajmy pętle for do odczytu każdej linii pliku, a następnie coś zrobimy."
   ]
  },
  {
   "cell_type": "code",
   "execution_count": 42,
   "metadata": {},
   "outputs": [
    {
     "name": "stdout",
     "output_type": "stream",
     "text": [
      "Pierwsza linia\n",
      "\n",
      "Druga linia\n"
     ]
    }
   ],
   "source": [
    "for linia in open('test.txt'):\n",
    "    print linia"
   ]
  },
  {
   "cell_type": "markdown",
   "metadata": {},
   "source": [
    "Nie martw się, że w pełni nie zrozumiałeś pętli for, niebawem poznamy ją dokładniej. Teraz zepsujemy trochę to, co zrobiliśmy powyżej. Nasza pętla zakłada, weź każdą linię tego pliku i wydrukuj ją. Ważne jest, aby zwrócić uwagę na kilka rzeczy:\n",
    "\n",
    "     1.) Moglibyśmy nazwać obiekt \"linia\" dowolnie inaczej (patrz przykład poniżej).\n",
    "     2.) Nie wywołując metody .read() na pliku, cały plik tekstowy nie został zapisany w pamięci.\n",
    "     3.) Zwróć uwagę na wcięcie w drugiej linii do print. Te spacje są wymagane w Pythonie.\n",
    "\n",
    "Dowiemy się o tym dużo później."
   ]
  },
  {
   "cell_type": "code",
   "execution_count": 43,
   "metadata": {},
   "outputs": [
    {
     "name": "stdout",
     "output_type": "stream",
     "text": [
      "Pierwsza linia\n",
      "\n",
      "Druga linia\n"
     ]
    }
   ],
   "source": [
    "# Pertaining to the first point above\n",
    "for asdf in open('test.txt'):\n",
    "    print asdf"
   ]
  },
  {
   "cell_type": "markdown",
   "metadata": {
    "collapsed": true
   },
   "source": [
    "## Nest Sets nad Booleans (pl. *zbiory i booleans*)"
   ]
  }
 ],
 "metadata": {
  "kernelspec": {
   "display_name": "Python 2",
   "language": "python",
   "name": "python2"
  },
  "language_info": {
   "codemirror_mode": {
    "name": "ipython",
    "version": 2
   },
   "file_extension": ".py",
   "mimetype": "text/x-python",
   "name": "python",
   "nbconvert_exporter": "python",
   "pygments_lexer": "ipython2",
   "version": "2.7.14"
  }
 },
 "nbformat": 4,
 "nbformat_minor": 1
}
