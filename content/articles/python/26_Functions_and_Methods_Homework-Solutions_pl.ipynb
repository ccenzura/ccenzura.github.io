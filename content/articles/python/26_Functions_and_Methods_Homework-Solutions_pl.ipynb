{
 "cells": [
  {
   "cell_type": "markdown",
   "metadata": {},
   "source": [
    "# Funkcje i metody - praca domowa - rozwiązanie\n",
    "+ date: 2017-12-14\n",
    "+ category: python\n",
    "+ tags: homework"
   ]
  },
  {
   "cell_type": "markdown",
   "metadata": {},
   "source": [
    "____\n",
    "**Napisz funkcję, która oblicza objętość kuli na podstwaie jej promienia**"
   ]
  },
  {
   "cell_type": "code",
   "execution_count": 25,
   "metadata": {
    "collapsed": true
   },
   "outputs": [],
   "source": [
    "def obj(promien):\n",
    "    return (4/3)*(3.14)*(promien**3)"
   ]
  },
  {
   "cell_type": "markdown",
   "metadata": {},
   "source": [
    "___\n",
    "** Napisz funkcję, która sprawdza czy podana wartość znajduje się w podanym zakresie (włączając najniższą i najwyższą wartość)**"
   ]
  },
  {
   "cell_type": "code",
   "execution_count": 1,
   "metadata": {
    "collapsed": true
   },
   "outputs": [],
   "source": [
    "def spr_zakres(num,low,high):\n",
    "    if num in range(low,high+1):  \n",
    "        print \" %s jest w zakresie\" %str(num)  \n",
    "    else :  \n",
    "        print \"Liczba jest poza zakresem.\""
   ]
  },
  {
   "cell_type": "markdown",
   "metadata": {},
   "source": [
    "Rozwiązanie kiedy chcesz otrzymać odpowiedź w postaci boolean:"
   ]
  },
  {
   "cell_type": "code",
   "execution_count": 4,
   "metadata": {
    "collapsed": true
   },
   "outputs": [],
   "source": [
    "def spr_bool(num,low,high):\n",
    "    return num in range(low,high+1)"
   ]
  },
  {
   "cell_type": "code",
   "execution_count": 5,
   "metadata": {},
   "outputs": [
    {
     "data": {
      "text/plain": [
       "True"
      ]
     },
     "execution_count": 5,
     "metadata": {},
     "output_type": "execute_result"
    }
   ],
   "source": [
    "spr_bool(3,1,10)"
   ]
  },
  {
   "cell_type": "markdown",
   "metadata": {},
   "source": [
    "____\n",
    "**Napisz funkcję, która przyjmuje wyłacznie string i oblicza liczbę wielkich i małych liter w zdaniu.**\n",
    "\n",
    "    Przykładowy String : 'Hello Mr. Rogers, how are you this fine Tuesday?'\n",
    "    Oczekiwany wynik : \n",
    "    Liczba liter napisanych Uppercase : 4\n",
    "    Liczba liter napisanych Lowecase : 33\n",
    "\n",
    "Jeżeli jesteś abitny, wykorzystaj moduł Collection do rozwiazania tego zadania!"
   ]
  },
  {
   "cell_type": "code",
   "execution_count": 6,
   "metadata": {
    "collapsed": true
   },
   "outputs": [],
   "source": [
    "def up_low(s):\n",
    "    d={\"upper\":0, \"lower\":0}\n",
    "    for c in s:\n",
    "        if c.isupper():\n",
    "            d[\"upper\"]+=1\n",
    "        elif c.islower():\n",
    "            d[\"lower\"]+=1\n",
    "        else:\n",
    "            pass\n",
    "    print \"Oryginalny ciąg znaków : \", s\n",
    "    print \"Liczba wielkich liter : \", d[\"upper\"]\n",
    "    print \"Liczba małych liter : \", d[\"lower\"]"
   ]
  },
  {
   "cell_type": "code",
   "execution_count": 7,
   "metadata": {},
   "outputs": [
    {
     "name": "stdout",
     "output_type": "stream",
     "text": [
      "Oryginalny ciąg znaków :  Hello Mr. Rogers, how are you this fine Tuesday?\n",
      "Liczba wielkich liter :  4\n",
      "Liczba małych liter :  33\n"
     ]
    }
   ],
   "source": [
    "s = 'Hello Mr. Rogers, how are you this fine Tuesday?'\n",
    "up_low(s)"
   ]
  },
  {
   "cell_type": "markdown",
   "metadata": {},
   "source": [
    "____\n",
    "**Napisz funkcję, która wykorzystuję pewną listę i zwraca nową listę z unikalnymi elementami z pierwszej listy**\n",
    "\n",
    "    Przykładowa List : [1,1,1,1,2,2,3,3,3,3,4,5]\n",
    "    Unikalna List : [1, 2, 3, 4, 5]"
   ]
  },
  {
   "cell_type": "code",
   "execution_count": 9,
   "metadata": {
    "collapsed": true
   },
   "outputs": [],
   "source": [
    "def unique_list(l):\n",
    "    x = []\n",
    "    for element in l:\n",
    "        if element not in x:\n",
    "            x.append(element)\n",
    "    return x\n",
    "\n",
    "def unique_list2(l):\n",
    "    x = list(set(l))\n",
    "    return x"
   ]
  },
  {
   "cell_type": "code",
   "execution_count": 10,
   "metadata": {},
   "outputs": [
    {
     "data": {
      "text/plain": [
       "[1, 2, 3, 4, 5]"
      ]
     },
     "execution_count": 10,
     "metadata": {},
     "output_type": "execute_result"
    }
   ],
   "source": [
    "unique_list([1,1,1,1,2,2,3,3,3,3,4,5])"
   ]
  },
  {
   "cell_type": "code",
   "execution_count": 11,
   "metadata": {},
   "outputs": [
    {
     "data": {
      "text/plain": [
       "[1, 2, 3, 4, 5]"
      ]
     },
     "execution_count": 11,
     "metadata": {},
     "output_type": "execute_result"
    }
   ],
   "source": [
    "unique_list2([1,1,1,1,2,2,3,3,3,3,4,5])"
   ]
  },
  {
   "cell_type": "markdown",
   "metadata": {},
   "source": [
    "____\n",
    "**Napisz funkcję, która mnoży wszystkie liczby z listy**\n",
    "\n",
    "    Przykładowa List : [1, 2, 3, -4]\n",
    "    Oczekiwany Output : -24"
   ]
  },
  {
   "cell_type": "code",
   "execution_count": 12,
   "metadata": {
    "collapsed": true
   },
   "outputs": [],
   "source": [
    "def mnozenie(numbers):  \n",
    "    total = 1\n",
    "    for x in numbers:\n",
    "        total *= x  \n",
    "    return total  "
   ]
  },
  {
   "cell_type": "code",
   "execution_count": 13,
   "metadata": {},
   "outputs": [
    {
     "data": {
      "text/plain": [
       "-24"
      ]
     },
     "execution_count": 13,
     "metadata": {},
     "output_type": "execute_result"
    }
   ],
   "source": [
    "mnozenie([1,2,3,-4])"
   ]
  },
  {
   "cell_type": "markdown",
   "metadata": {},
   "source": [
    "____\n",
    "**Napisz funkcję, która sprawdza czy dany ciąg znaków jest palindromem czy nie.**\n",
    "\n",
    "Uwaga: Palindrom to wyraz, fraza lub zdania którą czyta się tak samo od tyłu i od przodu, np. madam, oko, kajak."
   ]
  },
  {
   "cell_type": "code",
   "execution_count": 14,
   "metadata": {
    "collapsed": true
   },
   "outputs": [],
   "source": [
    "def palindrome(s):\n",
    "    s = s.replace(' ','') # Likwiduje wszystkie spacje, tj. zastępuje spacje ' ' brakiem spacji ''\n",
    "    return s == s[::-1] # weryfikuje czy ciąg znaków jest palidromem wykoszytując slicing"
   ]
  },
  {
   "cell_type": "code",
   "execution_count": 7,
   "metadata": {},
   "outputs": [
    {
     "data": {
      "text/plain": [
       "True"
      ]
     },
     "execution_count": 7,
     "metadata": {},
     "output_type": "execute_result"
    }
   ],
   "source": [
    "palindrome('nurses run')"
   ]
  },
  {
   "cell_type": "code",
   "execution_count": 8,
   "metadata": {},
   "outputs": [
    {
     "data": {
      "text/plain": [
       "True"
      ]
     },
     "execution_count": 8,
     "metadata": {},
     "output_type": "execute_result"
    }
   ],
   "source": [
    "palindrome('abcba')"
   ]
  },
  {
   "cell_type": "markdown",
   "metadata": {},
   "source": [
    "____\n",
    "**TRUDNE**\n",
    "Napisz funkcję, która sprawdza czy ciąg znaków jest pangramem czy nie.\n",
    "\n",
    "    Uwaga: Panagram to wyrazy lub zdania, które wykorzystują wszytkie listery alfabetu na raz. Skupmimy się na anglojęzycznym alfabecie a nie polskim.\n",
    "    Na przykład : \"The quick brown fox jumps over the lazy dog\"\n",
    "\n",
    "Podpowiedź: Sprawdź moduł string"
   ]
  },
  {
   "cell_type": "code",
   "execution_count": 21,
   "metadata": {
    "collapsed": true
   },
   "outputs": [],
   "source": [
    "import string\n",
    "\n",
    "def ispangram(str1, alphabet=string.ascii_lowercase):  \n",
    "    alphaset = set(alphabet)  \n",
    "    return alphaset <= set(str1.lower())  "
   ]
  },
  {
   "cell_type": "code",
   "execution_count": 22,
   "metadata": {},
   "outputs": [
    {
     "data": {
      "text/plain": [
       "True"
      ]
     },
     "execution_count": 22,
     "metadata": {},
     "output_type": "execute_result"
    }
   ],
   "source": [
    "ispangram(\"The quick brown fox jumps over the lazy dog\")"
   ]
  },
  {
   "cell_type": "code",
   "execution_count": 23,
   "metadata": {},
   "outputs": [
    {
     "data": {
      "text/plain": [
       "'abcdefghijklmnopqrstuvwxyz'"
      ]
     },
     "execution_count": 23,
     "metadata": {},
     "output_type": "execute_result"
    }
   ],
   "source": [
    "string.ascii_lowercase"
   ]
  }
 ],
 "metadata": {
  "kernelspec": {
   "display_name": "Python 2",
   "language": "python",
   "name": "python2"
  },
  "language_info": {
   "codemirror_mode": {
    "name": "ipython",
    "version": 2
   },
   "file_extension": ".py",
   "mimetype": "text/x-python",
   "name": "python",
   "nbconvert_exporter": "python",
   "pygments_lexer": "ipython2",
   "version": "2.7.14"
  }
 },
 "nbformat": 4,
 "nbformat_minor": 1
}
