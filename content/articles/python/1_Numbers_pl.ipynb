{
 "cells": [
  {
   "cell_type": "markdown",
   "metadata": {},
   "source": [
    "# Liczby i nieco więcej w Pythonie!\n",
    "+ date: 2017-11-16\n",
    "+ category: python\n",
    "+ tags: python, numbers"
   ]
  },
  {
   "cell_type": "markdown",
   "metadata": {},
   "source": [
    "Podczas tej lekcji poznamy jak pracować z liczbami w Pythonie.\n",
    "\n",
    "Poruszymy poniższe zagadnienia:\n",
    "1. ) Typy liczb w Pythonie\n",
    "2. ) Podstawy arytmetyki\n",
    "3. ) Rożnice pomiędzy Python 2 a Python 3 w dzieleniu\n",
    "4. ) Przypisywanie zmiennych (ang. * variables *)"
   ]
  },
  {
   "cell_type": "markdown",
   "metadata": {},
   "source": [
    "## Typy liczb\n",
    "Python ma różne \"typy\" liczb. Skupimy się głównie na liczbach typu integer (liczby całkowite) oraz float (liczby zmiennoprzecinkowe).\n",
    "\n",
    "Integer to liczby całkowite dodatnie lub ujemne, np.: 2 i -2.\n",
    "Float to liczby zmiennoprzecinkowe. W Pythonie są godne uwagi, ponieważ posiadają kropkę dziesiętną lub używają funkcji wykładniczej (e) do zdefiniowania liczby. Na przykład 2.0 i -2.1 są przykładami liczb zmiennoprzecinkowych. 4E2 (4 razy 10 do potęgi 2) jest również przykładem liczby zmiennoprzecinkowej w Pythonie.\n",
    "\n",
    "W poniższej tabeli znajdują się przykładowe liczby obu typów."
   ]
  },
  {
   "cell_type": "markdown",
   "metadata": {},
   "source": [
    "<table>\n",
    "<tr>\n",
    "    <th>przykłady</th> \n",
    "    <th>Typ liczby</th>\n",
    "</tr>\n",
    "\n",
    "<tr>\n",
    "    <td>1,2,-5,1000</td>\n",
    "    <td>Integers</td> \n",
    "</tr>\n",
    "\n",
    "<tr>\n",
    "    <td>1.2,-0.5,2e2,3E2</td> \n",
    "    <td>Floating-point numbers</td> \n",
    "</tr>\n",
    " </table>"
   ]
  },
  {
   "cell_type": "markdown",
   "metadata": {},
   "source": [
    "Zacznijmy prostą arytmetykę."
   ]
  },
  {
   "cell_type": "markdown",
   "metadata": {},
   "source": [
    "### Podstawowa arytmetyka"
   ]
  },
  {
   "cell_type": "code",
   "execution_count": 11,
   "metadata": {},
   "outputs": [
    {
     "data": {
      "text/plain": [
       "3"
      ]
     },
     "execution_count": 11,
     "metadata": {},
     "output_type": "execute_result"
    }
   ],
   "source": [
    "# Dodawanie\n",
    "2+1"
   ]
  },
  {
   "cell_type": "code",
   "execution_count": 3,
   "metadata": {},
   "outputs": [
    {
     "data": {
      "text/plain": [
       "1"
      ]
     },
     "execution_count": 3,
     "metadata": {},
     "output_type": "execute_result"
    }
   ],
   "source": [
    "# Odejmowanie\n",
    "2-1"
   ]
  },
  {
   "cell_type": "code",
   "execution_count": 4,
   "metadata": {},
   "outputs": [
    {
     "data": {
      "text/plain": [
       "4"
      ]
     },
     "execution_count": 4,
     "metadata": {},
     "output_type": "execute_result"
    }
   ],
   "source": [
    "# Mnożenie\n",
    "2*2"
   ]
  },
  {
   "cell_type": "code",
   "execution_count": 5,
   "metadata": {},
   "outputs": [
    {
     "data": {
      "text/plain": [
       "1"
      ]
     },
     "execution_count": 5,
     "metadata": {},
     "output_type": "execute_result"
    }
   ],
   "source": [
    "# Dzielenie\n",
    "3/2"
   ]
  },
  {
   "cell_type": "markdown",
   "metadata": {},
   "source": [
    "### <font color='red'>Uwaga Python 3!</font>\n",
    "** Co własnie się stało? Przecież dzieląc 3/2 powinno być 1.5 a nie 1!\n",
    "\n",
    "Powodem, dla którego uzyskaliśmy ten wynik, jest to, że używamy Pythona 2. W Pythonie 2 symbol \"/\" wykonuje dzielenie \"* klasyczne *\". Oznacza to, że punkty dziesiętne są obcięte. Jednak w Pythonie 3 pojedynczy / wykonuje dzielenie \"* prawdziwe *\". W Pythonie 3 jeśli wprowadzisz 3/2 otrzymasz 1.5.\n",
    "\n",
    "Co więc zrobimy aby tego uniknąć używając Pythona 2?\n",
    "\n",
    "Dostępne są dwie możliwości:\n",
    "\n",
    "* Podaj jedną z liczb, jako float:"
   ]
  },
  {
   "cell_type": "code",
   "execution_count": 6,
   "metadata": {},
   "outputs": [
    {
     "data": {
      "text/plain": [
       "1.5"
      ]
     },
     "execution_count": 6,
     "metadata": {},
     "output_type": "execute_result"
    }
   ],
   "source": [
    "# Jedną z liczb podaj typu float\n",
    "3.0/2"
   ]
  },
  {
   "cell_type": "code",
   "execution_count": 7,
   "metadata": {},
   "outputs": [
    {
     "data": {
      "text/plain": [
       "1.5"
      ]
     },
     "execution_count": 7,
     "metadata": {},
     "output_type": "execute_result"
    }
   ],
   "source": [
    "# Działa też kiedy podamy drugą liczbę typu float\n",
    "3/2.0"
   ]
  },
  {
   "cell_type": "markdown",
   "metadata": {},
   "source": [
    "* Możemy także \"rzucić\" (and. cast) ten typ za pomocą funkcji, która zasadniczo zamienia liczby całkowite w zmiennoprzecinkowe. Ta funkcja, co nie jest zaskoczeniem, nazywa się float ()."
   ]
  },
  {
   "cell_type": "code",
   "execution_count": 8,
   "metadata": {},
   "outputs": [
    {
     "data": {
      "text/plain": [
       "1.5"
      ]
     },
     "execution_count": 8,
     "metadata": {},
     "output_type": "execute_result"
    }
   ],
   "source": [
    "# Możemy użyć funkcji float() aby rzucić integers na floats:\n",
    "float(3)/2"
   ]
  },
  {
   "cell_type": "markdown",
   "metadata": {},
   "source": [
    "W dalszej części zajmiemy się bardziej szczegółowo szczegółami związanymi z wykorzystywaniem funkcji, więc nie martw się, jeśli nie masz pojęcia o składni. Potraktuj to jako zapowiedź.\n",
    "\n",
    "Jeszcze jedena zapowiedź, którą możemy wykorzystać przy klasycznym dzieleniu w Pythonie 2, jest importowany z modułu future.\n",
    "Jest to moduł w Pythonie 2, który ma funkcje Pythona 3, to zasadniczo pozwala na importowanie funkcji Pythona 3 do Pythona 2. W dalszej częsci kursu omówimy import i moduły, więc nie martw się o pełne zrozumienie instrukcji importu!"
   ]
  },
  {
   "cell_type": "code",
   "execution_count": 15,
   "metadata": {},
   "outputs": [
    {
     "data": {
      "text/plain": [
       "1.5"
      ]
     },
     "execution_count": 15,
     "metadata": {},
     "output_type": "execute_result"
    }
   ],
   "source": [
    "from __future__ import division\n",
    "3/2"
   ]
  },
  {
   "cell_type": "markdown",
   "metadata": {},
   "source": [
    "Po zaimportowaniu division (dzielenie) z modułu future nie musisz więcej przejmować się problemami związanymi z klasycznym dzielniem w swoim kodzie."
   ]
  },
  {
   "cell_type": "markdown",
   "metadata": {},
   "source": [
    "### Kontynuacja arytmetyki"
   ]
  },
  {
   "cell_type": "code",
   "execution_count": 9,
   "metadata": {},
   "outputs": [
    {
     "data": {
      "text/plain": [
       "8"
      ]
     },
     "execution_count": 9,
     "metadata": {},
     "output_type": "execute_result"
    }
   ],
   "source": [
    "# Silnie\n",
    "2**3"
   ]
  },
  {
   "cell_type": "code",
   "execution_count": 10,
   "metadata": {},
   "outputs": [
    {
     "data": {
      "text/plain": [
       "2.0"
      ]
     },
     "execution_count": 10,
     "metadata": {},
     "output_type": "execute_result"
    }
   ],
   "source": [
    "# W ten sposób możesz wyciągnać także pierwiastek\n",
    "4**0.5"
   ]
  },
  {
   "cell_type": "code",
   "execution_count": 11,
   "metadata": {},
   "outputs": [
    {
     "data": {
      "text/plain": [
       "105"
      ]
     },
     "execution_count": 11,
     "metadata": {},
     "output_type": "execute_result"
    }
   ],
   "source": [
    "# Kolejność wykonywania działań w Pythonie\n",
    "2 + 10 * 10 + 3"
   ]
  },
  {
   "cell_type": "code",
   "execution_count": 12,
   "metadata": {},
   "outputs": [
    {
     "data": {
      "text/plain": [
       "156"
      ]
     },
     "execution_count": 12,
     "metadata": {},
     "output_type": "execute_result"
    }
   ],
   "source": [
    "# Możesz użyć nawiasów do zmiany kolejność wykonywania działania\n",
    "(2+10) * (10+3)"
   ]
  },
  {
   "cell_type": "markdown",
   "metadata": {},
   "source": [
    "## Przypisywanie zmiennych\n",
    "Teraz, gdy zobaczyliśmy, jak używać liczb w Pythonie, zobaczmy, jak możemy przypisać im nazwy i tworzyć zmienne.\n",
    "\n",
    "Używamy pojedynczego znaku równości, aby przypisać etykiety do zmiennych. Zobaczmy kilka przykładów tego, jak możemy to zrobić."
   ]
  },
  {
   "cell_type": "code",
   "execution_count": 13,
   "metadata": {
    "collapsed": true
   },
   "outputs": [],
   "source": [
    "# Stwórzmy obiekt o nazwie \"a\" o rzypiszmy do niego liczbę 5\n",
    "a = 5"
   ]
  },
  {
   "cell_type": "markdown",
   "metadata": {},
   "source": [
    "Now if I call *a* in my Python script, Python will treat it as the number 5.\n",
    "Teraz, kiedy wywołam zmienną \"a\" w moim skrypcie, Python potraktuje ją jako 5."
   ]
  },
  {
   "cell_type": "code",
   "execution_count": 14,
   "metadata": {},
   "outputs": [
    {
     "data": {
      "text/plain": [
       "10"
      ]
     },
     "execution_count": 14,
     "metadata": {},
     "output_type": "execute_result"
    }
   ],
   "source": [
    "# Dodawanie obiektów\n",
    "a+a"
   ]
  },
  {
   "cell_type": "markdown",
   "metadata": {},
   "source": [
    "Co dzieje się przy zmianie przypisanej wartości? Czy Python pozwoli nam to nadpisać?"
   ]
  },
  {
   "cell_type": "code",
   "execution_count": 3,
   "metadata": {
    "collapsed": true
   },
   "outputs": [],
   "source": [
    "# Zmiana przypisanej wartości\n",
    "a = 10"
   ]
  },
  {
   "cell_type": "code",
   "execution_count": 4,
   "metadata": {},
   "outputs": [
    {
     "data": {
      "text/plain": [
       "10"
      ]
     },
     "execution_count": 4,
     "metadata": {},
     "output_type": "execute_result"
    }
   ],
   "source": [
    "# Weryfikacja\n",
    "a"
   ]
  },
  {
   "cell_type": "markdown",
   "metadata": {},
   "source": [
    "Tak! Python umożliwia nadpisanie wartości istniejącej zmiennej. Możemy również użyć samych zmiennych podczas nadpisywania. Oto przykład tego, co mam na myśli:"
   ]
  },
  {
   "cell_type": "code",
   "execution_count": 5,
   "metadata": {},
   "outputs": [
    {
     "data": {
      "text/plain": [
       "10"
      ]
     },
     "execution_count": 5,
     "metadata": {},
     "output_type": "execute_result"
    }
   ],
   "source": [
    "# Weryfikacja\n",
    "a"
   ]
  },
  {
   "cell_type": "code",
   "execution_count": 6,
   "metadata": {
    "collapsed": true
   },
   "outputs": [],
   "source": [
    "# Użyjmy zmiennej a do nadpisania jej wartości\n",
    "a = a + a"
   ]
  },
  {
   "cell_type": "code",
   "execution_count": 7,
   "metadata": {},
   "outputs": [
    {
     "data": {
      "text/plain": [
       "20"
      ]
     },
     "execution_count": 7,
     "metadata": {},
     "output_type": "execute_result"
    }
   ],
   "source": [
    "# Weryfikacja\n",
    "a"
   ]
  },
  {
   "cell_type": "markdown",
   "metadata": {},
   "source": [
    "Nazwy używane podczas tworzenia etykiet muszą spełniać kilka zasad:\n",
    "\n",
    "     1. Nazwy nie mogą zaczynać się od numeru.\n",
    "     2. W nazwie nie może być spacji, zamiast tego użyj _.\n",
    "     3. Nie można użyć żadnego z następujących symboli: \"\", <> /? | \\ ()! @ # $% ^ & * ~ - +\n",
    "     3. Uważa się za najlepszą praktykę (PEP8), że nazwy zmiennych są pisane małymi literami.\n",
    "\n",
    "Używanie nazw zmiennych może być bardzo przydatnym sposobem śledzenia różnych zmiennych w Pythonie. Na przykład:"
   ]
  },
  {
   "cell_type": "code",
   "execution_count": null,
   "metadata": {
    "collapsed": true
   },
   "outputs": [],
   "source": [
    "# Używaj nazw, które pomogą śledzić to co dzieje się w Twoim kodzie!\n",
    "moj_wplyw = 100\n",
    "\n",
    "wysokosc_podatku = 0.1\n",
    "\n",
    "moje_podatki = moj_wplyw*wysokosc_podatku"
   ]
  },
  {
   "cell_type": "code",
   "execution_count": 24,
   "metadata": {},
   "outputs": [
    {
     "data": {
      "text/plain": [
       "10.0"
      ]
     },
     "execution_count": 24,
     "metadata": {},
     "output_type": "execute_result"
    }
   ],
   "source": [
    "# Pokaż moje podatki\n",
    "moje_podatki"
   ]
  },
  {
   "cell_type": "markdown",
   "metadata": {},
   "source": [
    "Czego się nauczyliśmy? Nauczyliśmy się podstaw pracy z liczbami w Pythonie. Nauczyliśmy się także, jak proste działania arytmetyczne i używać Pythona jako podstawowego kalkulatora. Następnie opublikowaliśmy to, ucząc się o przypisywaniu zmiennych w Pythonie.\n",
    "W następnej kolejności będziemy uczyć się o typie danych typu string(pl. *ciąg znaków*)!"
   ]
  },
  {
   "cell_type": "markdown",
   "metadata": {},
   "source": [
    "## Next - Strings (pl. *ciągi znaków*)"
   ]
  }
 ],
 "metadata": {
  "anaconda-cloud": {},
  "kernelspec": {
   "display_name": "Python 2",
   "language": "python",
   "name": "python2"
  },
  "language_info": {
   "codemirror_mode": {
    "name": "ipython",
    "version": 2
   },
   "file_extension": ".py",
   "mimetype": "text/x-python",
   "name": "python",
   "nbconvert_exporter": "python",
   "pygments_lexer": "ipython2",
   "version": "2.7.14"
  }
 },
 "nbformat": 4,
 "nbformat_minor": 1
}
